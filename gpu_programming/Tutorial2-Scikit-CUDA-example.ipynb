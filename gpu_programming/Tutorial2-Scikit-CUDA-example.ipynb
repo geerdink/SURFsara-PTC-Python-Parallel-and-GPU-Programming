{
 "cells": [
  {
   "cell_type": "markdown",
   "metadata": {},
   "source": [
    "# Scikit-CUDA example of Matrix Multiplication\n",
    "\n",
    "Compare the complexity of this code with the code from the PyCUDA example where we compile C code. By using a pre-optimized library, we can cut down easily use the GPU to do our calculations."
   ]
  },
  {
   "cell_type": "code",
   "execution_count": null,
   "metadata": {},
   "outputs": [],
   "source": [
    "!pip install scikit-cuda --user"
   ]
  },
  {
   "cell_type": "code",
   "execution_count": null,
   "metadata": {},
   "outputs": [],
   "source": [
    "\"\"\"\n",
    "Demonstrates multiplication of two matrices on the GPU.\n",
    "\n",
    "Source: https://github.com/lebedov/scikit-cuda/blob/master/demos/mdot_demo.py\n",
    "\n",
    "To see more examples of using scikit-cuda, see \n",
    "https://github.com/lebedov/scikit-cuda/tree/master/demos\n",
    "\"\"\"\n",
    "\n",
    "import pycuda.autoinit\n",
    "import pycuda.gpuarray as gpuarray\n",
    "import pycuda.driver as drv\n",
    "import numpy as np\n",
    "\n",
    "import skcuda.linalg as culinalg\n",
    "import skcuda.misc as cumisc\n",
    "\n",
    "import cProfile as profile\n",
    "from timeit import default_timer as timer\n",
    "\n",
    "culinalg.init()\n",
    "\n",
    "# Double precision is only supported by devices with compute\n",
    "# capability >= 1.3:\n",
    "import string\n",
    "demo_types = [np.float32, np.complex64]\n",
    "if cumisc.get_compute_capability(pycuda.autoinit.device) >= 1.3:\n",
    "    demo_types.extend([np.float64, np.complex128])\n",
    "\n",
    "n = 4800\n",
    "\n",
    "def matrix_multiply_GPU():\n",
    "    import timeit\n",
    "    for t in demo_types:\n",
    "        print ('Testing matrix multiplication for type ' + str(np.dtype(t)))\n",
    "        \n",
    "        #Ensure that object type is correct\n",
    "        if np.iscomplexobj(t()):\n",
    "            a = np.asarray(np.random.rand(n,n)+1j*np.random.rand(n,n), t)\n",
    "            b = np.asarray(np.random.rand(n,n)+1j*np.random.rand(n,n), t)\n",
    "        else:\n",
    "            a = np.asarray(np.random.rand(n,n), t)\n",
    "            b = np.asarray(np.random.rand(n,n), t)\n",
    "\n",
    "        #Transferring data to GPU\n",
    "        a_gpu = gpuarray.to_gpu(a)\n",
    "        b_gpu = gpuarray.to_gpu(b)\n",
    "        \n",
    "        ts = timer()\n",
    "        c_gpu = culinalg.dot(a_gpu, b_gpu) #scikit-cuda wrapper takes care of the operation!\n",
    "        te = timer()\n",
    "        elapsed = te - ts\n",
    "        fmt = '%20s: %s'\n",
    "        print (fmt % ('time elapsed', '%.3fs' % (te - ts)))\n",
    "        \n",
    "def matrix_multiply_CPU():\n",
    "    import timeit\n",
    "    for t in demo_types:\n",
    "        print ('Testing matrix multiplication for type ' + str(np.dtype(t)))\n",
    "        if np.iscomplexobj(t()):\n",
    "            a = np.asarray(np.random.rand(n,n)+1j*np.random.rand(n,n), t)\n",
    "            b = np.asarray(np.random.rand(n,n)+1j*np.random.rand(n,n), t)\n",
    "        else:\n",
    "            a = np.asarray(np.random.rand(n,n), t)\n",
    "            b = np.asarray(np.random.rand(n,n), t)\n",
    "\n",
    "        ts = timer()\n",
    "        c = np.dot(a, b)\n",
    "        te = timer()\n",
    "        elapsed = te - ts\n",
    "        fmt = '%20s: %s'\n",
    "        print (fmt % ('time elapsed', '%.3fs' % (te - ts)))\n",
    "        \n",
    "if __name__ == '__main__':\n",
    "    import timeit\n",
    "\n",
    "#     profile.run(\"matrix_multiply_GPU()\", sort=\"time\")\n",
    "#     profile.run(\"matrix_multiply_CPU()\", sort=\"time\")\n",
    "    print ('\\nPerformance for performing matrix multiplicate of 4800 x 4800 matrices of several data types on GPU:')\n",
    "    ts = timer()\n",
    "    matrix_multiply_GPU()\n",
    "    te = timer()\n",
    "    elapsed = te - ts\n",
    "    fmt = '%20s: %s'\n",
    "    print (fmt % ('time elapsed', '%.3fs' % (te - ts)))\n",
    "\n",
    "\n"
   ]
  },
  {
   "cell_type": "markdown",
   "metadata": {},
   "source": [
    "### Compare with how long it takes using CPU"
   ]
  },
  {
   "cell_type": "code",
   "execution_count": null,
   "metadata": {},
   "outputs": [],
   "source": [
    "print ('\\nPerformance for performing matrix multiplicate of 4800 x 4800 matrices of several data types on CPU:')\n",
    "ts = timer()\n",
    "matrix_multiply_CPU()\n",
    "te = timer()\n",
    "elapsed = te - ts\n",
    "fmt = '%20s: %s'\n",
    "print (fmt % ('time elapsed', '%.3fs' % (te - ts)))"
   ]
  },
  {
   "cell_type": "code",
   "execution_count": null,
   "metadata": {},
   "outputs": [],
   "source": []
  },
  {
   "cell_type": "code",
   "execution_count": null,
   "metadata": {},
   "outputs": [],
   "source": []
  }
 ],
 "metadata": {
  "kernelspec": {
   "display_name": "Python 3",
   "language": "python",
   "name": "python3"
  },
  "language_info": {
   "codemirror_mode": {
    "name": "ipython",
    "version": 3
   },
   "file_extension": ".py",
   "mimetype": "text/x-python",
   "name": "python",
   "nbconvert_exporter": "python",
   "pygments_lexer": "ipython3",
   "version": "3.6.3"
  }
 },
 "nbformat": 4,
 "nbformat_minor": 1
}
