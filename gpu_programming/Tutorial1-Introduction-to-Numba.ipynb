{
 "cells": [
  {
   "cell_type": "markdown",
   "metadata": {},
   "source": [
    "# Introduction to Jupyter (JUlia, PYThon, and R), bash, and CUDA"
   ]
  },
  {
   "cell_type": "markdown",
   "metadata": {},
   "source": [
    "### We can do both text and code in Jupyter, but first let's start with some bash"
   ]
  },
  {
   "cell_type": "code",
   "execution_count": 1,
   "metadata": {},
   "outputs": [
    {
     "name": "stdout",
     "output_type": "stream",
     "text": [
      "cpuAdd.c\t numbapro-examples\r\n",
      "CUDAkernels.cu\t Tutorial1-Introduction-to-Numba.ipynb\r\n",
      "CUDATools.py\t Tutorial1-NumbaProNbody.ipynb\r\n",
      "gpuAdd.cu\t Tutorial2-CUDA_Basics_PyCUDA.ipynb\r\n",
      "gpu_prof.py\t Tutorial2-CUDAMemories.ipynb\r\n",
      "images\t\t Tutorial2-Scikit-CUDA-example.ipynb\r\n",
      "job.jupyter.gpu\r\n"
     ]
    }
   ],
   "source": [
    "!ls"
   ]
  },
  {
   "cell_type": "code",
   "execution_count": 2,
   "metadata": {},
   "outputs": [
    {
     "name": "stdout",
     "output_type": "stream",
     "text": [
      "nvcc: NVIDIA (R) Cuda compiler driver\r\n",
      "Copyright (c) 2005-2018 NVIDIA Corporation\r\n",
      "Built on Sat_Aug_25_21:08:01_CDT_2018\r\n",
      "Cuda compilation tools, release 10.0, V10.0.130\r\n"
     ]
    }
   ],
   "source": [
    "!nvcc --version"
   ]
  },
  {
   "cell_type": "markdown",
   "metadata": {},
   "source": [
    "### Jupyter has some \"magic\" builtin commands. Here's how to list them"
   ]
  },
  {
   "cell_type": "code",
   "execution_count": 3,
   "metadata": {},
   "outputs": [
    {
     "data": {
      "application/json": {
       "cell": {
        "!": "OSMagics",
        "HTML": "Other",
        "SVG": "Other",
        "bash": "Other",
        "capture": "ExecutionMagics",
        "debug": "ExecutionMagics",
        "file": "Other",
        "html": "DisplayMagics",
        "javascript": "DisplayMagics",
        "js": "DisplayMagics",
        "latex": "DisplayMagics",
        "markdown": "DisplayMagics",
        "perl": "Other",
        "prun": "ExecutionMagics",
        "pypy": "Other",
        "python": "Other",
        "python2": "Other",
        "python3": "Other",
        "ruby": "Other",
        "script": "ScriptMagics",
        "sh": "Other",
        "svg": "DisplayMagics",
        "sx": "OSMagics",
        "system": "OSMagics",
        "time": "ExecutionMagics",
        "timeit": "ExecutionMagics",
        "writefile": "OSMagics"
       },
       "line": {
        "alias": "OSMagics",
        "alias_magic": "BasicMagics",
        "autoawait": "AsyncMagics",
        "autocall": "AutoMagics",
        "automagic": "AutoMagics",
        "autosave": "KernelMagics",
        "bookmark": "OSMagics",
        "cat": "Other",
        "cd": "OSMagics",
        "clear": "KernelMagics",
        "colors": "BasicMagics",
        "config": "ConfigMagics",
        "connect_info": "KernelMagics",
        "cp": "Other",
        "debug": "ExecutionMagics",
        "dhist": "OSMagics",
        "dirs": "OSMagics",
        "doctest_mode": "BasicMagics",
        "ed": "Other",
        "edit": "KernelMagics",
        "env": "OSMagics",
        "gui": "BasicMagics",
        "hist": "Other",
        "history": "HistoryMagics",
        "killbgscripts": "ScriptMagics",
        "ldir": "Other",
        "less": "KernelMagics",
        "lf": "Other",
        "lk": "Other",
        "ll": "Other",
        "load": "CodeMagics",
        "load_ext": "ExtensionMagics",
        "loadpy": "CodeMagics",
        "logoff": "LoggingMagics",
        "logon": "LoggingMagics",
        "logstart": "LoggingMagics",
        "logstate": "LoggingMagics",
        "logstop": "LoggingMagics",
        "ls": "Other",
        "lsmagic": "BasicMagics",
        "lx": "Other",
        "macro": "ExecutionMagics",
        "magic": "BasicMagics",
        "man": "KernelMagics",
        "matplotlib": "PylabMagics",
        "mkdir": "Other",
        "more": "KernelMagics",
        "mv": "Other",
        "notebook": "BasicMagics",
        "page": "BasicMagics",
        "pastebin": "CodeMagics",
        "pdb": "ExecutionMagics",
        "pdef": "NamespaceMagics",
        "pdoc": "NamespaceMagics",
        "pfile": "NamespaceMagics",
        "pinfo": "NamespaceMagics",
        "pinfo2": "NamespaceMagics",
        "pip": "BasicMagics",
        "popd": "OSMagics",
        "pprint": "BasicMagics",
        "precision": "BasicMagics",
        "prun": "ExecutionMagics",
        "psearch": "NamespaceMagics",
        "psource": "NamespaceMagics",
        "pushd": "OSMagics",
        "pwd": "OSMagics",
        "pycat": "OSMagics",
        "pylab": "PylabMagics",
        "qtconsole": "KernelMagics",
        "quickref": "BasicMagics",
        "recall": "HistoryMagics",
        "rehashx": "OSMagics",
        "reload_ext": "ExtensionMagics",
        "rep": "Other",
        "rerun": "HistoryMagics",
        "reset": "NamespaceMagics",
        "reset_selective": "NamespaceMagics",
        "rm": "Other",
        "rmdir": "Other",
        "run": "ExecutionMagics",
        "save": "CodeMagics",
        "sc": "OSMagics",
        "set_env": "OSMagics",
        "store": "StoreMagics",
        "sx": "OSMagics",
        "system": "OSMagics",
        "tb": "ExecutionMagics",
        "time": "ExecutionMagics",
        "timeit": "ExecutionMagics",
        "unalias": "OSMagics",
        "unload_ext": "ExtensionMagics",
        "who": "NamespaceMagics",
        "who_ls": "NamespaceMagics",
        "whos": "NamespaceMagics",
        "xdel": "NamespaceMagics",
        "xmode": "BasicMagics"
       }
      },
      "text/plain": [
       "Available line magics:\n",
       "%alias  %alias_magic  %autoawait  %autocall  %automagic  %autosave  %bookmark  %cat  %cd  %clear  %colors  %config  %connect_info  %cp  %debug  %dhist  %dirs  %doctest_mode  %ed  %edit  %env  %gui  %hist  %history  %killbgscripts  %ldir  %less  %lf  %lk  %ll  %load  %load_ext  %loadpy  %logoff  %logon  %logstart  %logstate  %logstop  %ls  %lsmagic  %lx  %macro  %magic  %man  %matplotlib  %mkdir  %more  %mv  %notebook  %page  %pastebin  %pdb  %pdef  %pdoc  %pfile  %pinfo  %pinfo2  %popd  %pprint  %precision  %prun  %psearch  %psource  %pushd  %pwd  %pycat  %pylab  %qtconsole  %quickref  %recall  %rehashx  %reload_ext  %rep  %rerun  %reset  %reset_selective  %rm  %rmdir  %run  %save  %sc  %set_env  %store  %sx  %system  %tb  %time  %timeit  %unalias  %unload_ext  %who  %who_ls  %whos  %xdel  %xmode\n",
       "\n",
       "Available cell magics:\n",
       "%%!  %%HTML  %%SVG  %%bash  %%capture  %%debug  %%file  %%html  %%javascript  %%js  %%latex  %%markdown  %%perl  %%prun  %%pypy  %%python  %%python2  %%python3  %%ruby  %%script  %%sh  %%svg  %%sx  %%system  %%time  %%timeit  %%writefile\n",
       "\n",
       "Automagic is ON, % prefix IS NOT needed for line magics."
      ]
     },
     "execution_count": 3,
     "metadata": {},
     "output_type": "execute_result"
    }
   ],
   "source": [
    "%lsmagic"
   ]
  },
  {
   "cell_type": "markdown",
   "metadata": {},
   "source": [
    "And now let's use the bash cell magic"
   ]
  },
  {
   "cell_type": "code",
   "execution_count": 4,
   "metadata": {},
   "outputs": [
    {
     "name": "stdout",
     "output_type": "stream",
     "text": [
      "Hello 1\n",
      "Hello 2\n"
     ]
    }
   ],
   "source": [
    "%%bash\n",
    "echo \"Hello 1\"\n",
    "sleep 5\n",
    "echo \"Hello 2\""
   ]
  },
  {
   "cell_type": "markdown",
   "metadata": {},
   "source": [
    "Here's how to get some documentation for the magics"
   ]
  },
  {
   "cell_type": "code",
   "execution_count": 5,
   "metadata": {},
   "outputs": [],
   "source": [
    "%autosave?"
   ]
  },
  {
   "cell_type": "code",
   "execution_count": 6,
   "metadata": {},
   "outputs": [
    {
     "data": {
      "application/javascript": [
       "IPython.notebook.set_autosave_interval(120000)"
      ]
     },
     "metadata": {},
     "output_type": "display_data"
    },
    {
     "name": "stdout",
     "output_type": "stream",
     "text": [
      "Autosaving every 120 seconds\n"
     ]
    }
   ],
   "source": [
    "%autosave 120"
   ]
  },
  {
   "cell_type": "markdown",
   "metadata": {},
   "source": [
    "And the \"magic\" source code"
   ]
  },
  {
   "cell_type": "code",
   "execution_count": 7,
   "metadata": {},
   "outputs": [],
   "source": [
    "%autosave??"
   ]
  },
  {
   "cell_type": "markdown",
   "metadata": {},
   "source": [
    "And here's how we get some documentation on Python functions."
   ]
  },
  {
   "cell_type": "code",
   "execution_count": 8,
   "metadata": {},
   "outputs": [],
   "source": [
    "?str.replace"
   ]
  },
  {
   "cell_type": "markdown",
   "metadata": {},
   "source": [
    "Or on important Python packages such as numpy"
   ]
  },
  {
   "cell_type": "code",
   "execution_count": 9,
   "metadata": {},
   "outputs": [],
   "source": [
    "import numpy\n",
    "?numpy"
   ]
  },
  {
   "cell_type": "markdown",
   "metadata": {},
   "source": [
    "One can list the currently set environment"
   ]
  },
  {
   "cell_type": "code",
   "execution_count": 10,
   "metadata": {},
   "outputs": [
    {
     "data": {
      "text/plain": [
       "{'EBVERSIONLIBSODIUM': '1.0.16',\n",
       " 'EBVERSIONIRKERNEL': '1.0.2',\n",
       " 'MODULES_PREFIX': 'SARA',\n",
       " 'JUPYTERHUB_CLIENT_ID': 'jupyterhub-user-valeriuc',\n",
       " 'LD_LIBRARY_PATH': '/sw/arch/Debian9/EB_production/2019/software/cuDNN/7.6.3-CUDA-10.0.130/lib64:/sw/arch/Debian9/EB_production/2019/software/CUDA/10.0.130/nvvm/lib64:/sw/arch/Debian9/EB_production/2019/software/CUDA/10.0.130/extras/CUPTI/lib64:/sw/arch/Debian9/EB_production/2019/software/CUDA/10.0.130/lib64:/sw/arch/Debian9/EB_production/2019/software/R/3.5.1-foss-2018b/lib64/R/lib:/sw/arch/Debian9/EB_production/2019/software/R/3.5.1-foss-2018b/lib64:/sw/arch/Debian9/EB_production/2019/software/GSL/2.5-GCC-7.3.0-2.30/lib:/sw/arch/Debian9/EB_production/2019/software/UDUNITS/2.2.26-foss-2018b/lib:/sw/arch/Debian9/EB_production/2019/software/ICU/61.1-GCCcore-7.3.0/lib:/sw/arch/Debian9/EB_production/2019/software/libsndfile/1.0.28-GCCcore-7.3.0/lib:/sw/arch/Debian9/EB_production/2019/software/NLopt/2.4.2-GCCcore-7.3.0/lib:/sw/arch/Debian9/EB_production/2019/software/GDAL/2.2.3-foss-2018b-Python-3.6.6/lib:/sw/arch/Debian9/EB_production/2019/software/libgeotiff/1.4.2-foss-2018b/lib:/sw/arch/Debian9/EB_production/2019/software/PROJ/5.0.0-foss-2018b/lib:/sw/arch/Debian9/EB_production/2019/software/JasPer/2.0.14-GCCcore-7.3.0/lib:/sw/arch/Debian9/EB_production/2019/software/GEOS/3.6.2-foss-2018b-Python-3.6.6/lib:/sw/arch/Debian9/EB_production/2019/software/netCDF/4.6.1-foss-2018b/lib:/sw/arch/Debian9/EB_production/2019/software/HDF5/1.10.2-foss-2018b/lib:/sw/arch/Debian9/EB_production/2019/software/Szip/2.1.1-GCCcore-7.3.0/lib:/sw/arch/Debian9/EB_production/2019/software/cURL/7.60.0-GCCcore-7.3.0/lib:/sw/arch/Debian9/EB_production/2019/software/Java/1.8.0_192/lib:/sw/arch/Debian9/EB_production/2019/software/LibTIFF/4.0.9-GCCcore-7.3.0/lib:/sw/arch/Debian9/EB_production/2019/software/libjpeg-turbo/2.0.0-GCCcore-7.3.0/lib:/sw/arch/Debian9/EB_production/2019/software/cairo/1.14.12-GCCcore-7.3.0/lib:/sw/arch/Debian9/EB_production/2019/software/GLib/2.54.3-GCCcore-7.3.0/lib:/sw/arch/Debian9/EB_production/2019/software/PCRE/8.41-GCCcore-7.3.0/lib:/sw/arch/Debian9/EB_production/2019/software/gettext/0.19.8.1-GCCcore-7.3.0/lib:/sw/arch/Debian9/EB_production/2019/software/pixman/0.34.0-GCCcore-7.3.0/lib:/sw/arch/Debian9/EB_production/2019/software/libGLU/9.0.0-foss-2018b/lib:/sw/arch/Debian9/EB_production/2019/software/Mesa/18.1.1-foss-2018b/lib:/sw/arch/Debian9/EB_production/2019/software/libunwind/1.2.1-GCCcore-7.3.0/lib:/sw/arch/Debian9/EB_production/2019/software/LLVM/6.0.0-GCCcore-7.3.0/lib:/sw/arch/Debian9/EB_production/2019/software/libdrm/2.4.92-GCCcore-7.3.0/lib:/sw/arch/Debian9/EB_production/2019/software/nettle/3.4-GCCcore-7.3.0/lib64:/sw/arch/Debian9/EB_production/2019/software/jupyterhub/1.0.0-foss-2018b-Python-3.6.6/lib:/sw/arch/Debian9/EB_production/2019/software/configurable-http-proxy/4.1.0-foss-2018b-nodejs-10.15.1/lib:/sw/arch/Debian9/EB_production/2019/software/nodejs/10.15.1-foss-2018b/lib:/sw/arch/Debian9/EB_production/2019/software/IPython/7.2.0-foss-2018b-Python-3.6.6/lib:/sw/arch/Debian9/EB_production/2019/software/matplotlib/3.0.0-foss-2018b-Python-3.6.6/lib:/sw/arch/Debian9/EB_production/2019/software/Tkinter/3.6.6-foss-2018b-Python-3.6.6/lib:/sw/arch/Debian9/EB_production/2019/software/Tk/8.6.8-GCCcore-7.3.0/lib:/sw/arch/Debian9/EB_production/2019/software/X11/20180604-GCCcore-7.3.0/lib:/sw/arch/Debian9/EB_production/2019/software/fontconfig/2.13.0-GCCcore-7.3.0/lib:/sw/arch/Debian9/EB_production/2019/software/expat/2.2.5-GCCcore-7.3.0/lib:/sw/arch/Debian9/EB_production/2019/software/freetype/2.9.1-GCCcore-7.3.0/lib:/sw/arch/Debian9/EB_production/2019/software/libpng/1.6.34-GCCcore-7.3.0/lib:/sw/arch/Debian9/EB_production/2019/software/ZeroMQ/4.2.5-foss-2018b/lib:/sw/arch/Debian9/EB_production/2019/software/libsodium/1.0.16-GCCcore-7.3.0/lib:/sw/arch/Debian9/EB_production/2019/software/util-linux/2.32-GCCcore-7.3.0/lib:/sw/arch/Debian9/EB_production/2019/software/OpenPGM/5.2.122-GCCcore-7.3.0/lib:/sw/arch/Debian9/EB_production/2019/software/Python/3.6.6-foss-2018b/lib/python3.6/site-packages/numpy-1.15.0-py3.6-linux-x86_64.egg/numpy/core/lib:/sw/arch/Debian9/EB_production/2019/software/Python/3.6.6-foss-2018b/lib:/sw/arch/Debian9/EB_production/2019/software/libffi/3.2.1-GCCcore-7.3.0/lib64:/sw/arch/Debian9/EB_production/2019/software/libffi/3.2.1-GCCcore-7.3.0/lib:/sw/arch/Debian9/EB_production/2019/software/GMP/6.1.2-GCCcore-7.3.0/lib:/sw/arch/Debian9/EB_production/2019/software/SQLite/3.24.0-GCCcore-7.3.0/lib:/sw/arch/Debian9/EB_production/2019/software/Tcl/8.6.8-GCCcore-7.3.0/lib:/sw/arch/Debian9/EB_production/2019/software/libreadline/7.0-GCCcore-7.3.0/lib:/sw/arch/Debian9/EB_production/2019/software/ncurses/6.1-GCCcore-7.3.0/lib:/sw/arch/Debian9/EB_production/2019/software/bzip2/1.0.6-GCCcore-7.3.0/lib:/sw/arch/Debian9/EB_production/2019/software/ScaLAPACK/2.0.2-gompi-2018b-OpenBLAS-0.3.1/lib:/sw/arch/Debian9/EB_production/2019/software/FFTW/3.3.8-gompi-2018b/lib:/sw/arch/Debian9/EB_production/2019/software/OpenBLAS/0.3.1-GCC-7.3.0-2.30/lib:/sw/arch/Debian9/EB_production/2019/software/OpenMPI/3.1.1-GCC-7.3.0-2.30/lib:/sw/arch/Debian9/EB_production/2019/software/hwloc/1.11.10-GCCcore-7.3.0/lib:/sw/arch/Debian9/EB_production/2019/software/libpciaccess/0.14-GCCcore-7.3.0/lib:/sw/arch/Debian9/EB_production/2019/software/libxml2/2.9.8-GCCcore-7.3.0/lib:/sw/arch/Debian9/EB_production/2019/software/XZ/5.2.4-GCCcore-7.3.0/lib:/sw/arch/Debian9/EB_production/2019/software/numactl/2.0.11-GCCcore-7.3.0/lib:/sw/arch/Debian9/EB_production/2019/software/binutils/2.30-GCCcore-7.3.0/lib:/sw/arch/Debian9/EB_production/2019/software/zlib/1.2.11-GCCcore-7.3.0/lib:/sw/arch/Debian9/EB_production/2019/software/GCCcore/7.3.0/lib64:/sw/arch/Debian9/EB_production/2019/software/GCCcore/7.3.0/lib:/lib64:/home/valeriuc/gpu_island/opencv_build/lib/:/home/valeriuc/gpu_island/nccl_install/lib:/home/valeriuc/gpu_island/mkl-dnn/build/src:/home/valeriuc/gpu_island/mkl-dnn/external/mklml_lnx_2018.0.1.20171227/lib/:/home/valeriuc/gpu_island/nccl_2.1.2-1+cuda9.0_x86_64/lib:',\n",
       " 'EBVERSIONXZ': '5.2.4',\n",
       " 'EBVERSIONGDAL': '2.2.3',\n",
       " 'EBVERSIONFONTCONFIG': '2.13.0',\n",
       " 'EBROOTBINUTILS': '/sw/arch/Debian9/EB_production/2019/software/binutils/2.30-GCCcore-7.3.0',\n",
       " 'SLURM_NODEID': '0',\n",
       " 'EBDEVELSZIP': '/sw/arch/Debian9/EB_production/2019/software/Szip/2.1.1-GCCcore-7.3.0/easybuild/Szip-2.1.1-GCCcore-7.3.0-easybuild-devel',\n",
       " 'SLURM_TASK_PID': '16892',\n",
       " 'EBVERSIONCUDA': '10.0.130',\n",
       " 'EBVERSIONMATPLOTLIB': '3.0.0',\n",
       " 'EBROOTLIBJPEGMINTURBO': '/sw/arch/Debian9/EB_production/2019/software/libjpeg-turbo/2.0.0-GCCcore-7.3.0',\n",
       " 'EBDEVELFOSS': '/sw/arch/Debian9/EB_production/2019/software/foss/2018b/easybuild/foss-2018b-easybuild-devel',\n",
       " 'EBVERSIONIPYTHON': '7.2.0',\n",
       " 'SLURM_PRIO_PROCESS': '0',\n",
       " 'EBROOTTK': '/sw/arch/Debian9/EB_production/2019/software/Tk/8.6.8-GCCcore-7.3.0',\n",
       " 'EBVERSIONCURL': '7.60.0',\n",
       " 'EBVERSIONLIBDRM': '2.4.92',\n",
       " 'EBVERSIONNUMACTL': '2.0.11',\n",
       " 'EBROOTOPENBLAS': '/sw/arch/Debian9/EB_production/2019/software/OpenBLAS/0.3.1-GCC-7.3.0-2.30',\n",
       " 'EBVERSIONSCALAPACK': '2.0.2',\n",
       " 'LANG': 'en_US',\n",
       " 'SARA_LDFLAGS_INTERNAL': '',\n",
       " 'EBROOTGCC': '/sw/arch/Debian9/EB_production/2019/software/GCCcore/7.3.0',\n",
       " 'SLURM_SUBMIT_DIR': '/home/valeriuc',\n",
       " 'EBROOTICU': '/sw/arch/Debian9/EB_production/2019/software/ICU/61.1-GCCcore-7.3.0',\n",
       " 'EBROOTGETTEXT': '/sw/arch/Debian9/EB_production/2019/software/gettext/0.19.8.1-GCCcore-7.3.0',\n",
       " 'EBDEVELNETTLE': '/sw/arch/Debian9/EB_production/2019/software/nettle/3.4-GCCcore-7.3.0/easybuild/nettle-3.4-GCCcore-7.3.0-easybuild-devel',\n",
       " 'EBDEVELEXPAT': '/sw/arch/Debian9/EB_production/2019/software/expat/2.2.5-GCCcore-7.3.0/easybuild/expat-2.2.5-GCCcore-7.3.0-easybuild-devel',\n",
       " 'MODULERCFILE': '',\n",
       " 'EBVERSIONFREETYPE': '2.9.1',\n",
       " 'EBDEVELLLVM': '/sw/arch/Debian9/EB_production/2019/software/LLVM/6.0.0-GCCcore-7.3.0/easybuild/LLVM-6.0.0-GCCcore-7.3.0-easybuild-devel',\n",
       " 'SUDO_GID': '0',\n",
       " 'EBVERSIONGOMPI': '2018b',\n",
       " 'EBDEVELCUDNN': '/sw/arch/Debian9/EB_production/2019/software/cuDNN/7.6.3-CUDA-10.0.130/easybuild/cuDNN-7.6.3-CUDA-10.0.130-easybuild-devel',\n",
       " 'HOSTNAME': 'r32n3',\n",
       " 'EBDEVELJAVA': '/sw/arch/Debian9/EB_production/2019/software/Java/1.8.0_192/easybuild/Java-1.8.0_192-easybuild-devel',\n",
       " 'EBDEVELFREETYPE': '/sw/arch/Debian9/EB_production/2019/software/freetype/2.9.1-GCCcore-7.3.0/easybuild/freetype-2.9.1-GCCcore-7.3.0-easybuild-devel',\n",
       " 'EBROOTLLVM': '/sw/arch/Debian9/EB_production/2019/software/LLVM/6.0.0-GCCcore-7.3.0',\n",
       " 'EBROOTIRKERNEL': '/sw/arch/Debian9/EB_production/2019/software/IRkernel/1.0.2-foss-2018b-R-3.5.1-Python-3.6.6',\n",
       " 'EBVERSIONUTILMINLINUX': '2.32',\n",
       " 'EBROOTUDUNITS': '/sw/arch/Debian9/EB_production/2019/software/UDUNITS/2.2.26-foss-2018b',\n",
       " 'EBDEVELNUMACTL': '/sw/arch/Debian9/EB_production/2019/software/numactl/2.0.11-GCCcore-7.3.0/easybuild/numactl-2.0.11-GCCcore-7.3.0-easybuild-devel',\n",
       " 'EBROOTNODEJS': '/sw/arch/Debian9/EB_production/2019/software/nodejs/10.15.1-foss-2018b',\n",
       " 'EBDEVELSQLITE': '/sw/arch/Debian9/EB_production/2019/software/SQLite/3.24.0-GCCcore-7.3.0/easybuild/SQLite-3.24.0-GCCcore-7.3.0-easybuild-devel',\n",
       " 'EBVERSIONR': '3.5.1',\n",
       " 'EBROOTLIBDRM': '/sw/arch/Debian9/EB_production/2019/software/libdrm/2.4.92-GCCcore-7.3.0',\n",
       " 'EBVERSIONLIBUNWIND': '1.2.1',\n",
       " 'ENVIRONMENT': 'BATCH',\n",
       " 'EBDEVELBZIP2': '/sw/arch/Debian9/EB_production/2019/software/bzip2/1.0.6-GCCcore-7.3.0/easybuild/bzip2-1.0.6-GCCcore-7.3.0-easybuild-devel',\n",
       " 'PATH_modshare': '/sw/arch/Debian9/EB_production/2019/software/libgeotiff/1.4.2-foss-2018b/bin:1:/sw/arch/Debian9/EB_production/2019/software/libpng/1.6.34-GCCcore-7.3.0/bin:1:/sw/arch/Debian9/EB_production/2019/software/SQLite/3.24.0-GCCcore-7.3.0/bin:1:/sw/arch/Debian9/EB_production/2019/software/X11/20180604-GCCcore-7.3.0/bin:1:/sw/arch/Debian9/EB_production/2019/software/XZ/5.2.4-GCCcore-7.3.0/bin:1:/sw/arch/Debian9/EB_production/2019/software/ICU/61.1-GCCcore-7.3.0/sbin:1:/sw/arch/Debian9/EB_production/2019/software/jupyterhub/1.0.0-foss-2018b-Python-3.6.6/bin:1:/sw/arch/Debian9/EB_production/2019/software/Java/1.8.0_192/bin:1:/sw/arch/Debian9/EB_production/2019/software/CUDA/10.0.130/nvvm/bin:1:/sw/arch/Debian9/EB_production/2019/software/Tk/8.6.8-GCCcore-7.3.0/bin:1:/sw/arch/Debian9/EB_production/2019/software/GSL/2.5-GCC-7.3.0-2.30/bin:1:/sw/arch/Debian9/EB_production/2019/software/Java/1.8.0_192:1:/sw/arch/Debian9/EB_production/2019/software/freetype/2.9.1-GCCcore-7.3.0/bin:1:/sw/arch/Debian9/EB_production/2019/software/NASM/2.13.03-GCCcore-7.3.0/bin:1:/sw/arch/Debian9/EB_production/2019/software/binutils/2.30-GCCcore-7.3.0/bin:1:/usr/local/bin:1:/sw/arch/Debian9/EB_production/2019/software/PCRE/8.41-GCCcore-7.3.0/bin:1:/sw/arch/Debian9/EB_production/2019/software/FFTW/3.3.8-gompi-2018b/bin:1:/sw/arch/Debian9/EB_production/2019/software/OpenMPI/3.1.1-GCC-7.3.0-2.30/bin:1:/sw/arch/Debian9/EB_production/2019/software/Python/3.6.6-foss-2018b/bin:1:/opt/configurable-http-proxy/current/bin:1:/sw/arch/Debian9/EB_production/2019/software/OpenBLAS/0.3.1-GCC-7.3.0-2.30/bin:1:/sw/arch/Debian9/EB_production/2019/software/util-linux/2.32-GCCcore-7.3.0/sbin:1:/sw/arch/Debian9/EB_production/2019/software/configurable-http-proxy/4.1.0-foss-2018b-nodejs-10.15.1:1:/sw/arch/Debian9/EB_production/2019/software/LLVM/6.0.0-GCCcore-7.3.0/bin:1:/sw/arch/Debian9/EB_production/2019/software/GDAL/2.2.3-foss-2018b-Python-3.6.6/bin:1:/sw/arch/Debian9/EB_production/2019/software/fontconfig/2.13.0-GCCcore-7.3.0/bin:1:/usr/local/sbin:1:/sw/arch/Debian9/EB_production/2019/software/ncurses/6.1-GCCcore-7.3.0/bin:1:/sw/arch/Debian9/EB_production/2019/software/gettext/0.19.8.1-GCCcore-7.3.0/bin:1:/sw/arch/Debian9/EB_production/2019/software/R/3.5.1-foss-2018b/bin:1:/sw/arch/Debian9/EB_production/2019/software/nodejs/10.15.1-foss-2018b/bin:1:/sw/arch/Debian9/EB_production/2019/software/hwloc/1.11.10-GCCcore-7.3.0/bin:1:/opt/jupyterhub/1.0.0/.venv/bin:1:/hpc/eb/modules-4.0.0/bin:1:/sw/arch/Debian9/EB_production/2019/software/CUDA/10.0.130/bin:1:/sw/arch/Debian9/EB_production/2019/software/UDUNITS/2.2.26-foss-2018b/bin:1:/sw/arch/Debian9/EB_production/2019/software/JasPer/2.0.14-GCCcore-7.3.0/bin:1:/sw/arch/Debian9/EB_production/2019/software/LibTIFF/4.0.9-GCCcore-7.3.0/bin:1:/sw/arch/Debian9/EB_production/2019/software/libxml2/2.9.8-GCCcore-7.3.0/bin:1:/sw/arch/Debian9/EB_production/2019/software/libsndfile/1.0.28-GCCcore-7.3.0/bin:1:/sw/arch/Debian9/EB_production/2019/software/libjpeg-turbo/2.0.0-GCCcore-7.3.0/bin:1:/hpc/eb/compilerwrappers/compilers:1:/sbin:1:/sw/arch/Debian9/EB_production/2019/software/GCCcore/7.3.0/bin:1:/usr/sbin:1:/sw/arch/Debian9/EB_production/2019/software/ICU/61.1-GCCcore-7.3.0/bin:1:/sw/arch/Debian9/EB_production/2019/software/PROJ/5.0.0-foss-2018b/bin:1:/sw/arch/Debian9/EB_production/2019/software/hwloc/1.11.10-GCCcore-7.3.0/sbin:1:/sw/arch/Debian9/EB_production/2019/software/CUDA/10.0.130:1:/sw/arch/Debian9/EB_production/2019/software/ZeroMQ/4.2.5-foss-2018b/bin:1:/sw/arch/Debian9/EB_production/2019/software/nettle/3.4-GCCcore-7.3.0/bin:1:/sw/arch/Debian9/EB_production/2019/software/bzip2/1.0.6-GCCcore-7.3.0/bin:1:/sw/arch/Debian9/EB_production/2019/software/configurable-http-proxy/4.1.0-foss-2018b-nodejs-10.15.1/bin:1:/sw/arch/Debian9/EB_production/2019/software/IPython/7.2.0-foss-2018b-Python-3.6.6/bin:1:/usr/bin:1:/sw/arch/Debian9/EB_production/2019/software/HDF5/1.10.2-foss-2018b/bin:1:/sw/arch/Debian9/EB_production/2019/software/numactl/2.0.11-GCCcore-7.3.0/bin:1:/sw/arch/Debian9/EB_production/2019/software/Tcl/8.6.8-GCCcore-7.3.0/bin:1:/sw/arch/Debian9/EB_production/2019/software/expat/2.2.5-GCCcore-7.3.0/bin:1:/sw/arch/Debian9/EB_production/2019/software/GEOS/3.6.2-foss-2018b-Python-3.6.6/bin:1:/sw/arch/Debian9/EB_production/2019/software/libreadline/7.0-GCCcore-7.3.0/bin:1:/sw/arch/Debian9/EB_production/2019/software/util-linux/2.32-GCCcore-7.3.0/bin:1:/bin:1:/sw/arch/Debian9/EB_production/2019/software/cairo/1.14.12-GCCcore-7.3.0/bin:1:/hpc/eb/compilerwrappers/linkers:1:/sw/arch/Debian9/EB_production/2019/software/netCDF/4.6.1-foss-2018b/bin:1:/sw/arch/Debian9/EB_production/2019/software/cURL/7.60.0-GCCcore-7.3.0/bin:1:/sw/arch/Debian9/EB_production/2019/software/GLib/2.54.3-GCCcore-7.3.0/bin:1',\n",
       " 'EBROOTNLOPT': '/sw/arch/Debian9/EB_production/2019/software/NLopt/2.4.2-GCCcore-7.3.0',\n",
       " 'EBDEVELNETCDF': '/sw/arch/Debian9/EB_production/2019/software/netCDF/4.6.1-foss-2018b/easybuild/netCDF-4.6.1-foss-2018b-easybuild-devel',\n",
       " 'LOADEDMODULES_modshare': 'R/3.5.1-foss-2018b:1:slurm-tools:1:freetype/2.9.1-GCCcore-7.3.0:1:2019:1:libdrm/2.4.92-GCCcore-7.3.0:1:GLib/2.54.3-GCCcore-7.3.0:1:OpenMPI/3.1.1-GCC-7.3.0-2.30:1:XZ/5.2.4-GCCcore-7.3.0:1:Mesa/18.1.1-foss-2018b:1:jupyterlmod/1.7.5-foss-2018b-Python-3.6.6:1:nodejs/10.15.1-foss-2018b:1:libsodium/1.0.16-GCCcore-7.3.0:1:PCRE/8.41-GCCcore-7.3.0:1:LLVM/6.0.0-GCCcore-7.3.0:1:libffi/3.2.1-GCCcore-7.3.0:1:IRkernel/1.0.2-foss-2018b-R-3.5.1-Python-3.6.6:1:CUDA/10.0.130:1:Python/3.6.6-foss-2018b:1:Tk/8.6.8-GCCcore-7.3.0:1:cairo/1.14.12-GCCcore-7.3.0:1:NASM/2.13.03-GCCcore-7.3.0:1:libunwind/1.2.1-GCCcore-7.3.0:1:cuDNN/7.6.3-CUDA-10.0.130:1:GCCcore/7.3.0:1:fontconfig/2.13.0-GCCcore-7.3.0:1:PROJ/5.0.0-foss-2018b:1:jupyterhub/1.0.0-foss-2018b-Python-3.6.6:1:GCC/7.3.0-2.30:1:GDAL/2.2.3-foss-2018b-Python-3.6.6:1:ScaLAPACK/2.0.2-gompi-2018b-OpenBLAS-0.3.1:1:SQLite/3.24.0-GCCcore-7.3.0:1:expat/2.2.5-GCCcore-7.3.0:1:Tkinter/3.6.6-foss-2018b-Python-3.6.6:1:JasPer/2.0.14-GCCcore-7.3.0:1:libreadline/7.0-GCCcore-7.3.0:1:util-linux/2.32-GCCcore-7.3.0:1:NLopt/2.4.2-GCCcore-7.3.0:1:nettle/3.4-GCCcore-7.3.0:1:libsndfile/1.0.28-GCCcore-7.3.0:1:OpenBLAS/0.3.1-GCC-7.3.0-2.30:1:numactl/2.0.11-GCCcore-7.3.0:1:Szip/2.1.1-GCCcore-7.3.0:1:cURL/7.60.0-GCCcore-7.3.0:1:X11/20180604-GCCcore-7.3.0:1:libGLU/9.0.0-foss-2018b:1:ncurses/6.1-GCCcore-7.3.0:1:ZeroMQ/4.2.5-foss-2018b:1:zlib/1.2.11-GCCcore-7.3.0:1:foss/2018b:1:configurable-http-proxy/4.1.0-foss-2018b-nodejs-10.15.1:1:Java/1.8.0_192:1:binutils/2.30-GCCcore-7.3.0:1:Tcl/8.6.8-GCCcore-7.3.0:1:ICU/61.1-GCCcore-7.3.0:1:UDUNITS/2.2.26-foss-2018b:1:GSL/2.5-GCC-7.3.0-2.30:1:HDF5/1.10.2-foss-2018b:1:libjpeg-turbo/2.0.0-GCCcore-7.3.0:1:FFTW/3.3.8-gompi-2018b:1:OpenPGM/5.2.122-GCCcore-7.3.0:1:netCDF/4.6.1-foss-2018b:1:GEOS/3.6.2-foss-2018b-Python-3.6.6:1:libgeotiff/1.4.2-foss-2018b:1:bzip2/1.0.6-GCCcore-7.3.0:1:matplotlib/3.0.0-foss-2018b-Python-3.6.6:1:gompi/2018b:1:IPython/7.2.0-foss-2018b-Python-3.6.6:1:hwloc/1.11.10-GCCcore-7.3.0:1:libpng/1.6.34-GCCcore-7.3.0:1:pixman/0.34.0-GCCcore-7.3.0:1:libpciaccess/0.14-GCCcore-7.3.0:1:LibTIFF/4.0.9-GCCcore-7.3.0:1:libxml2/2.9.8-GCCcore-7.3.0:1:GMP/6.1.2-GCCcore-7.3.0:1:gettext/0.19.8.1-GCCcore-7.3.0:1:surfsara/1.2:1:compilerwrappers:1',\n",
       " 'CUDA_PATH': '/sw/arch/Debian9/EB_production/2019/software/CUDA/10.0.130',\n",
       " 'EBROOTJAVA': '/sw/arch/Debian9/EB_production/2019/software/Java/1.8.0_192',\n",
       " 'EBVERSIONOPENMPI': '3.1.1',\n",
       " 'EBROOTPIXMAN': '/sw/arch/Debian9/EB_production/2019/software/pixman/0.34.0-GCCcore-7.3.0',\n",
       " 'EBROOTNCURSES': '/sw/arch/Debian9/EB_production/2019/software/ncurses/6.1-GCCcore-7.3.0',\n",
       " 'EBVERSIONFOSS': '2018b',\n",
       " 'PERL_MB_OPT': '--install_base \"/home/valeriuc/perl5\"',\n",
       " 'EBVERSIONOPENBLAS': '0.3.1',\n",
       " 'EBVERSIONLIBSNDFILE': '1.0.28',\n",
       " 'EBVERSIONNLOPT': '2.4.2',\n",
       " 'EBVERSIONLLVM': '6.0.0',\n",
       " 'JAVA_HOME': '/sw/arch/Debian9/EB_production/2019/software/Java/1.8.0_192',\n",
       " 'EBROOTGOMPI': '/sw/arch/Debian9/EB_production/2019/software/gompi/2018b',\n",
       " 'CPATH_modshare': '/sw/arch/Debian9/EB_production/2019/software/ICU/61.1-GCCcore-7.3.0/include:1:/sw/arch/Debian9/EB_production/2019/software/libdrm/2.4.92-GCCcore-7.3.0/include:1:/sw/arch/Debian9/EB_production/2019/software/libGLU/9.0.0-foss-2018b/include:1:/sw/arch/Debian9/EB_production/2019/software/ZeroMQ/4.2.5-foss-2018b/include:1:/sw/arch/Debian9/EB_production/2019/software/nettle/3.4-GCCcore-7.3.0/include:1:/sw/arch/Debian9/EB_production/2019/software/GSL/2.5-GCC-7.3.0-2.30/include:1:/sw/arch/Debian9/EB_production/2019/software/libxml2/2.9.8-GCCcore-7.3.0/include/libxml2:1:/sw/arch/Debian9/EB_production/2019/software/HDF5/1.10.2-foss-2018b/include:1:/sw/arch/Debian9/EB_production/2019/software/Tcl/8.6.8-GCCcore-7.3.0/include:1:/sw/arch/Debian9/EB_production/2019/software/Szip/2.1.1-GCCcore-7.3.0/include:1:/sw/arch/Debian9/EB_production/2019/software/FFTW/3.3.8-gompi-2018b/include:1:/sw/arch/Debian9/EB_production/2019/software/expat/2.2.5-GCCcore-7.3.0/include:1:/sw/arch/Debian9/EB_production/2019/software/OpenMPI/3.1.1-GCC-7.3.0-2.30/include:1:/sw/arch/Debian9/EB_production/2019/software/NLopt/2.4.2-GCCcore-7.3.0/include:1:/sw/arch/Debian9/EB_production/2019/software/cairo/1.14.12-GCCcore-7.3.0/include:1:/sw/arch/Debian9/EB_production/2019/software/GDAL/2.2.3-foss-2018b-Python-3.6.6/include:1:/sw/arch/Debian9/EB_production/2019/software/ScaLAPACK/2.0.2-gompi-2018b-OpenBLAS-0.3.1/include:1:/sw/arch/Debian9/EB_production/2019/software/netCDF/4.6.1-foss-2018b/include:1:/sw/arch/Debian9/EB_production/2019/software/cURL/7.60.0-GCCcore-7.3.0/include:1:/sw/arch/Debian9/EB_production/2019/software/ncurses/6.1-GCCcore-7.3.0/include:1:/sw/arch/Debian9/EB_production/2019/software/CUDA/10.0.130/extras/CUPTI/include:1:/sw/arch/Debian9/EB_production/2019/software/zlib/1.2.11-GCCcore-7.3.0/include:1:/sw/arch/Debian9/EB_production/2019/software/gettext/0.19.8.1-GCCcore-7.3.0/include:1:/sw/arch/Debian9/EB_production/2019/software/SQLite/3.24.0-GCCcore-7.3.0/include:1:/sw/arch/Debian9/EB_production/2019/software/X11/20180604-GCCcore-7.3.0/include:1:/sw/arch/Debian9/EB_production/2019/software/CUDA/10.0.130/include:1:/sw/arch/Debian9/EB_production/2019/software/UDUNITS/2.2.26-foss-2018b/include:1:/sw/arch/Debian9/EB_production/2019/software/JasPer/2.0.14-GCCcore-7.3.0/include:1:/sw/arch/Debian9/EB_production/2019/software/libpciaccess/0.14-GCCcore-7.3.0/include:1:/sw/arch/Debian9/EB_production/2019/software/XZ/5.2.4-GCCcore-7.3.0/include:1:/sw/arch/Debian9/EB_production/2019/software/GMP/6.1.2-GCCcore-7.3.0/include:1:/sw/arch/Debian9/EB_production/2019/software/Mesa/18.1.1-foss-2018b/include:1:/sw/arch/Debian9/EB_production/2019/software/libsodium/1.0.16-GCCcore-7.3.0/include:1:/sw/arch/Debian9/EB_production/2019/software/libunwind/1.2.1-GCCcore-7.3.0/include:1:/sw/arch/Debian9/EB_production/2019/software/libjpeg-turbo/2.0.0-GCCcore-7.3.0/include:1:/sw/arch/Debian9/EB_production/2019/software/GCCcore/7.3.0/include:1:/sw/arch/Debian9/EB_production/2019/software/Python/3.6.6-foss-2018b/lib/python3.6/site-packages/numpy-1.15.0-py3.6-linux-x86_64.egg/numpy/core/include:1:/sw/arch/Debian9/EB_production/2019/software/PROJ/5.0.0-foss-2018b/include:1:/sw/arch/Debian9/EB_production/2019/software/Tk/8.6.8-GCCcore-7.3.0/include:1:/sw/arch/Debian9/EB_production/2019/software/bzip2/1.0.6-GCCcore-7.3.0/include:1:/sw/arch/Debian9/EB_production/2019/software/numactl/2.0.11-GCCcore-7.3.0/include:1:/sw/arch/Debian9/EB_production/2019/software/binutils/2.30-GCCcore-7.3.0/include:1:/sw/arch/Debian9/EB_production/2019/software/PCRE/8.41-GCCcore-7.3.0/include:1:/sw/arch/Debian9/EB_production/2019/software/GEOS/3.6.2-foss-2018b-Python-3.6.6/include:1:/sw/arch/Debian9/EB_production/2019/software/libreadline/7.0-GCCcore-7.3.0/include:1:/sw/arch/Debian9/EB_production/2019/software/util-linux/2.32-GCCcore-7.3.0/include:1:/sw/arch/Debian9/EB_production/2019/software/Python/3.6.6-foss-2018b/include:1:/sw/arch/Debian9/EB_production/2019/software/OpenBLAS/0.3.1-GCC-7.3.0-2.30/include:1:/sw/arch/Debian9/EB_production/2019/software/LLVM/6.0.0-GCCcore-7.3.0/include:1:/sw/arch/Debian9/EB_production/2019/software/fontconfig/2.13.0-GCCcore-7.3.0/include:1:/sw/arch/Debian9/EB_production/2019/software/GLib/2.54.3-GCCcore-7.3.0/include:1:/sw/arch/Debian9/EB_production/2019/software/libgeotiff/1.4.2-foss-2018b/include:1:/sw/arch/Debian9/EB_production/2019/software/nodejs/10.15.1-foss-2018b/include:1:/sw/arch/Debian9/EB_production/2019/software/hwloc/1.11.10-GCCcore-7.3.0/include:1:/sw/arch/Debian9/EB_production/2019/software/libpng/1.6.34-GCCcore-7.3.0/include:1:/sw/arch/Debian9/EB_production/2019/software/pixman/0.34.0-GCCcore-7.3.0/include:1:/sw/arch/Debian9/EB_production/2019/software/freetype/2.9.1-GCCcore-7.3.0/include/freetype2:1:/sw/arch/Debian9/EB_production/2019/software/LibTIFF/4.0.9-GCCcore-7.3.0/include:1:/sw/arch/Debian9/EB_production/2019/software/libxml2/2.9.8-GCCcore-7.3.0/include:1:/sw/arch/Debian9/EB_production/2019/software/libsndfile/1.0.28-GCCcore-7.3.0/include:1:/sw/arch/Debian9/EB_production/2019/software/Java/1.8.0_192/include:1:/sw/arch/Debian9/EB_production/2019/software/cuDNN/7.6.3-CUDA-10.0.130/include:1:/sw/arch/Debian9/EB_production/2019/software/CUDA/10.0.130/nvvm/include:1:/sw/arch/Debian9/EB_production/2019/software/libffi/3.2.1-GCCcore-7.3.0/include:1:/sw/arch/Debian9/EB_production/2019/software/OpenPGM/5.2.122-GCCcore-7.3.0/include:1',\n",
       " 'SLURM_PROCID': '0',\n",
       " 'SUDO_COMMAND': '/usr/bin/sbatch --parsable',\n",
       " 'SLURM_JOB_GID': '41489',\n",
       " 'EBROOTOPENMPI': '/sw/arch/Debian9/EB_production/2019/software/OpenMPI/3.1.1-GCC-7.3.0-2.30',\n",
       " 'EBROOTX11': '/sw/arch/Debian9/EB_production/2019/software/X11/20180604-GCCcore-7.3.0',\n",
       " 'EBVERSIONTKINTER': '3.6.6',\n",
       " 'EBVERSIONHDF5': '1.10.2',\n",
       " 'EBVERSIONZEROMQ': '4.2.5',\n",
       " 'PKG_CONFIG_PATH_modshare': '/sw/arch/Debian9/EB_production/2019/software/R/3.5.1-foss-2018b/lib64/pkgconfig:1:/sw/arch/Debian9/EB_production/2019/software/GDAL/2.2.3-foss-2018b-Python-3.6.6/lib/pkgconfig:1:/sw/arch/Debian9/EB_production/2019/software/OpenPGM/5.2.122-GCCcore-7.3.0/lib/pkgconfig:1:/sw/arch/Debian9/EB_production/2019/software/libffi/3.2.1-GCCcore-7.3.0/lib/pkgconfig:1:/sw/arch/Debian9/EB_production/2019/software/ICU/61.1-GCCcore-7.3.0/lib/pkgconfig:1:/sw/arch/Debian9/EB_production/2019/software/netCDF/4.6.1-foss-2018b/lib/pkgconfig:1:/sw/arch/Debian9/EB_production/2019/software/cURL/7.60.0-GCCcore-7.3.0/lib/pkgconfig:1:/sw/arch/Debian9/EB_production/2019/software/libdrm/2.4.92-GCCcore-7.3.0/lib/pkgconfig:1:/sw/arch/Debian9/EB_production/2019/software/fontconfig/2.13.0-GCCcore-7.3.0/lib/pkgconfig:1:/sw/arch/Debian9/EB_production/2019/software/PROJ/5.0.0-foss-2018b/lib/pkgconfig:1:/sw/arch/Debian9/EB_production/2019/software/GLib/2.54.3-GCCcore-7.3.0/lib/pkgconfig:1:/sw/arch/Debian9/EB_production/2019/software/libGLU/9.0.0-foss-2018b/lib/pkgconfig:1:/sw/arch/Debian9/EB_production/2019/software/Tk/8.6.8-GCCcore-7.3.0/lib/pkgconfig:1:/sw/arch/Debian9/EB_production/2019/software/ZeroMQ/4.2.5-foss-2018b/lib/pkgconfig:1:/sw/arch/Debian9/EB_production/2019/software/GSL/2.5-GCC-7.3.0-2.30/lib/pkgconfig:1:/sw/arch/Debian9/EB_production/2019/software/zlib/1.2.11-GCCcore-7.3.0/lib/pkgconfig:1:/sw/arch/Debian9/EB_production/2019/software/bzip2/1.0.6-GCCcore-7.3.0/lib/pkgconfig:1:/sw/arch/Debian9/EB_production/2019/software/HDF5/1.10.2-foss-2018b/lib/pkgconfig:1:/sw/arch/Debian9/EB_production/2019/software/freetype/2.9.1-GCCcore-7.3.0/lib/pkgconfig:1:/sw/arch/Debian9/EB_production/2019/software/hwloc/1.11.10-GCCcore-7.3.0/lib/pkgconfig:1:/sw/arch/Debian9/EB_production/2019/software/Tcl/8.6.8-GCCcore-7.3.0/lib/pkgconfig:1:/sw/arch/Debian9/EB_production/2019/software/PCRE/8.41-GCCcore-7.3.0/lib/pkgconfig:1:/sw/arch/Debian9/EB_production/2019/software/libpng/1.6.34-GCCcore-7.3.0/lib/pkgconfig:1:/sw/arch/Debian9/EB_production/2019/software/FFTW/3.3.8-gompi-2018b/lib/pkgconfig:1:/sw/arch/Debian9/EB_production/2019/software/X11/20180604-GCCcore-7.3.0/lib/pkgconfig:1:/sw/arch/Debian9/EB_production/2019/software/expat/2.2.5-GCCcore-7.3.0/lib/pkgconfig:1:/sw/arch/Debian9/EB_production/2019/software/SQLite/3.24.0-GCCcore-7.3.0/lib/pkgconfig:1:/sw/arch/Debian9/EB_production/2019/software/JasPer/2.0.14-GCCcore-7.3.0/lib/pkgconfig:1:/sw/arch/Debian9/EB_production/2019/software/pixman/0.34.0-GCCcore-7.3.0/lib/pkgconfig:1:/sw/arch/Debian9/EB_production/2019/software/libpciaccess/0.14-GCCcore-7.3.0/lib/pkgconfig:1:/sw/arch/Debian9/EB_production/2019/software/OpenMPI/3.1.1-GCC-7.3.0-2.30/lib/pkgconfig:1:/sw/arch/Debian9/EB_production/2019/software/util-linux/2.32-GCCcore-7.3.0/lib/pkgconfig:1:/sw/arch/Debian9/EB_production/2019/software/NLopt/2.4.2-GCCcore-7.3.0/lib/pkgconfig:1:/sw/arch/Debian9/EB_production/2019/software/LibTIFF/4.0.9-GCCcore-7.3.0/lib/pkgconfig:1:/sw/arch/Debian9/EB_production/2019/software/Mesa/18.1.1-foss-2018b/lib/pkgconfig:1:/sw/arch/Debian9/EB_production/2019/software/XZ/5.2.4-GCCcore-7.3.0/lib/pkgconfig:1:/sw/arch/Debian9/EB_production/2019/software/libxml2/2.9.8-GCCcore-7.3.0/lib/pkgconfig:1:/sw/arch/Debian9/EB_production/2019/software/Python/3.6.6-foss-2018b/lib/pkgconfig:1:/sw/arch/Debian9/EB_production/2019/software/libsndfile/1.0.28-GCCcore-7.3.0/lib/pkgconfig:1:/sw/arch/Debian9/EB_production/2019/software/cairo/1.14.12-GCCcore-7.3.0/lib/pkgconfig:1:/sw/arch/Debian9/EB_production/2019/software/nettle/3.4-GCCcore-7.3.0/lib64/pkgconfig:1:/sw/arch/Debian9/EB_production/2019/software/X11/20180604-GCCcore-7.3.0/share/pkgconfig:1:/sw/arch/Debian9/EB_production/2019/software/OpenBLAS/0.3.1-GCC-7.3.0-2.30/lib/pkgconfig:1:/sw/arch/Debian9/EB_production/2019/software/libjpeg-turbo/2.0.0-GCCcore-7.3.0/lib/pkgconfig:1:/sw/arch/Debian9/EB_production/2019/software/libunwind/1.2.1-GCCcore-7.3.0/lib/pkgconfig:1:/sw/arch/Debian9/EB_production/2019/software/libsodium/1.0.16-GCCcore-7.3.0/lib/pkgconfig:1',\n",
       " 'SLURMD_NODENAME': 'r32n3',\n",
       " 'EBDEVELZEROMQ': '/sw/arch/Debian9/EB_production/2019/software/ZeroMQ/4.2.5-foss-2018b/easybuild/ZeroMQ-4.2.5-foss-2018b-easybuild-devel',\n",
       " 'EBROOTGCCCORE': '/sw/arch/Debian9/EB_production/2019/software/GCCcore/7.3.0',\n",
       " 'EBROOTLIBFFI': '/sw/arch/Debian9/EB_production/2019/software/libffi/3.2.1-GCCcore-7.3.0',\n",
       " 'EBROOTSCALAPACK': '/sw/arch/Debian9/EB_production/2019/software/ScaLAPACK/2.0.2-gompi-2018b-OpenBLAS-0.3.1',\n",
       " 'R_LIBS_modshare': '/sw/arch/Debian9/EB_production/2019/software/IRkernel/1.0.2-foss-2018b-R-3.5.1-Python-3.6.6:1',\n",
       " 'EBROOTGSL': '/sw/arch/Debian9/EB_production/2019/software/GSL/2.5-GCC-7.3.0-2.30',\n",
       " 'VIRTUAL_ENV': '/opt/jupyterhub/1.0.0/.venv',\n",
       " 'SLURM_TASKS_PER_NODE': '3',\n",
       " 'EBROOTLIBSODIUM': '/sw/arch/Debian9/EB_production/2019/software/libsodium/1.0.16-GCCcore-7.3.0',\n",
       " 'EBVERSIONGCC': '7.3.0',\n",
       " 'EBROOTLIBGLU': '/sw/arch/Debian9/EB_production/2019/software/libGLU/9.0.0-foss-2018b',\n",
       " 'EBDEVELXZ': '/sw/arch/Debian9/EB_production/2019/software/XZ/5.2.4-GCCcore-7.3.0/easybuild/XZ-5.2.4-GCCcore-7.3.0-easybuild-devel',\n",
       " 'EBDEVELHWLOC': '/sw/arch/Debian9/EB_production/2019/software/hwloc/1.11.10-GCCcore-7.3.0/easybuild/hwloc-1.11.10-GCCcore-7.3.0-easybuild-devel',\n",
       " 'SLURM_JOB_RESERVATION': 'uva_ml_course',\n",
       " 'LD_LIBRARY_PATH_modshare': '1:/sw/arch/Debian9/EB_production/2019/software/hwloc/1.11.10-GCCcore-7.3.0/lib:1:/sw/arch/Debian9/EB_production/2019/software/JasPer/2.0.14-GCCcore-7.3.0/lib:1:/sw/arch/Debian9/EB_production/2019/software/UDUNITS/2.2.26-foss-2018b/lib:1:/sw/arch/Debian9/EB_production/2019/software/libpciaccess/0.14-GCCcore-7.3.0/lib:1:/sw/arch/Debian9/EB_production/2019/software/GCCcore/7.3.0/lib64:1:/sw/arch/Debian9/EB_production/2019/software/LibTIFF/4.0.9-GCCcore-7.3.0/lib:1:/sw/arch/Debian9/EB_production/2019/software/libxml2/2.9.8-GCCcore-7.3.0/lib:1:/sw/arch/Debian9/EB_production/2019/software/matplotlib/3.0.0-foss-2018b-Python-3.6.6/lib:1:/sw/arch/Debian9/EB_production/2019/software/libsndfile/1.0.28-GCCcore-7.3.0/lib:1:/sw/arch/Debian9/EB_production/2019/software/libunwind/1.2.1-GCCcore-7.3.0/lib:1:/sw/arch/Debian9/EB_production/2019/software/libjpeg-turbo/2.0.0-GCCcore-7.3.0/lib:1:/sw/arch/Debian9/EB_production/2019/software/libsodium/1.0.16-GCCcore-7.3.0/lib:1:/sw/arch/Debian9/EB_production/2019/software/R/3.5.1-foss-2018b/lib64:1:/sw/arch/Debian9/EB_production/2019/software/GCCcore/7.3.0/lib:1:/sw/arch/Debian9/EB_production/2019/software/Python/3.6.6-foss-2018b/lib/python3.6/site-packages/numpy-1.15.0-py3.6-linux-x86_64.egg/numpy/core/lib:1:/sw/arch/Debian9/EB_production/2019/software/ICU/61.1-GCCcore-7.3.0/lib:1:/sw/arch/Debian9/EB_production/2019/software/libdrm/2.4.92-GCCcore-7.3.0/lib:1:/sw/arch/Debian9/EB_production/2019/software/PROJ/5.0.0-foss-2018b/lib:1:/sw/arch/Debian9/EB_production/2019/software/ZeroMQ/4.2.5-foss-2018b/lib:1:/sw/arch/Debian9/EB_production/2019/software/bzip2/1.0.6-GCCcore-7.3.0/lib:1:/sw/arch/Debian9/EB_production/2019/software/HDF5/1.10.2-foss-2018b/lib:1:/sw/arch/Debian9/EB_production/2019/software/configurable-http-proxy/4.1.0-foss-2018b-nodejs-10.15.1/lib:1:/sw/arch/Debian9/EB_production/2019/software/IPython/7.2.0-foss-2018b-Python-3.6.6/lib:1:/lib64:1:/sw/arch/Debian9/EB_production/2019/software/numactl/2.0.11-GCCcore-7.3.0/lib:1:/sw/arch/Debian9/EB_production/2019/software/Tcl/8.6.8-GCCcore-7.3.0/lib:1:/sw/arch/Debian9/EB_production/2019/software/expat/2.2.5-GCCcore-7.3.0/lib:1:/sw/arch/Debian9/EB_production/2019/software/libreadline/7.0-GCCcore-7.3.0/lib:1:/sw/arch/Debian9/EB_production/2019/software/GEOS/3.6.2-foss-2018b-Python-3.6.6/lib:1:/sw/arch/Debian9/EB_production/2019/software/util-linux/2.32-GCCcore-7.3.0/lib:1:/sw/arch/Debian9/EB_production/2019/software/NLopt/2.4.2-GCCcore-7.3.0/lib:1:/sw/arch/Debian9/EB_production/2019/software/cairo/1.14.12-GCCcore-7.3.0/lib:1:/sw/arch/Debian9/EB_production/2019/software/netCDF/4.6.1-foss-2018b/lib:1:/sw/arch/Debian9/EB_production/2019/software/cURL/7.60.0-GCCcore-7.3.0/lib:1:/sw/arch/Debian9/EB_production/2019/software/GLib/2.54.3-GCCcore-7.3.0/lib:1:/sw/arch/Debian9/EB_production/2019/software/libgeotiff/1.4.2-foss-2018b/lib:1:/sw/arch/Debian9/EB_production/2019/software/CUDA/10.0.130/lib64:1:/home/valeriuc/gpu_island/nccl_install/lib:1:/sw/arch/Debian9/EB_production/2019/software/libpng/1.6.34-GCCcore-7.3.0/lib:1:/sw/arch/Debian9/EB_production/2019/software/SQLite/3.24.0-GCCcore-7.3.0/lib:1:/sw/arch/Debian9/EB_production/2019/software/X11/20180604-GCCcore-7.3.0/lib:1:/sw/arch/Debian9/EB_production/2019/software/cuDNN/7.6.3-CUDA-10.0.130/lib64:1:/sw/arch/Debian9/EB_production/2019/software/libffi/3.2.1-GCCcore-7.3.0/lib64:1:/sw/arch/Debian9/EB_production/2019/software/CUDA/10.0.130/nvvm/lib64:1:/sw/arch/Debian9/EB_production/2019/software/pixman/0.34.0-GCCcore-7.3.0/lib:1:/sw/arch/Debian9/EB_production/2019/software/Mesa/18.1.1-foss-2018b/lib:1:/home/valeriuc/gpu_island/mkl-dnn/build/src:1:/sw/arch/Debian9/EB_production/2019/software/XZ/5.2.4-GCCcore-7.3.0/lib:1:/sw/arch/Debian9/EB_production/2019/software/GMP/6.1.2-GCCcore-7.3.0/lib:1:/sw/arch/Debian9/EB_production/2019/software/jupyterhub/1.0.0-foss-2018b-Python-3.6.6/lib:1:/sw/arch/Debian9/EB_production/2019/software/Java/1.8.0_192/lib:1:/sw/arch/Debian9/EB_production/2019/software/R/3.5.1-foss-2018b/lib64/R/lib:1:/sw/arch/Debian9/EB_production/2019/software/OpenPGM/5.2.122-GCCcore-7.3.0/lib:1:/sw/arch/Debian9/EB_production/2019/software/libffi/3.2.1-GCCcore-7.3.0/lib:1:/sw/arch/Debian9/EB_production/2019/software/libGLU/9.0.0-foss-2018b/lib:1:/sw/arch/Debian9/EB_production/2019/software/Tk/8.6.8-GCCcore-7.3.0/lib:1:/home/valeriuc/gpu_island/opencv_build/lib/:1:/sw/arch/Debian9/EB_production/2019/software/GSL/2.5-GCC-7.3.0-2.30/lib:1:/sw/arch/Debian9/EB_production/2019/software/freetype/2.9.1-GCCcore-7.3.0/lib:1:/sw/arch/Debian9/EB_production/2019/software/PCRE/8.41-GCCcore-7.3.0/lib:1:/sw/arch/Debian9/EB_production/2019/software/binutils/2.30-GCCcore-7.3.0/lib:1:/sw/arch/Debian9/EB_production/2019/software/Szip/2.1.1-GCCcore-7.3.0/lib:1:/sw/arch/Debian9/EB_production/2019/software/FFTW/3.3.8-gompi-2018b/lib:1:/sw/arch/Debian9/EB_production/2019/software/Tkinter/3.6.6-foss-2018b-Python-3.6.6/lib:1:/sw/arch/Debian9/EB_production/2019/software/OpenMPI/3.1.1-GCC-7.3.0-2.30/lib:1:/sw/arch/Debian9/EB_production/2019/software/Python/3.6.6-foss-2018b/lib:1:/home/valeriuc/gpu_island/mkl-dnn/external/mklml_lnx_2018.0.1.20171227/lib/:1:/sw/arch/Debian9/EB_production/2019/software/nettle/3.4-GCCcore-7.3.0/lib64:1:/sw/arch/Debian9/EB_production/2019/software/OpenBLAS/0.3.1-GCC-7.3.0-2.30/lib:1:/sw/arch/Debian9/EB_production/2019/software/CUDA/10.0.130/extras/CUPTI/lib64:1:/sw/arch/Debian9/EB_production/2019/software/LLVM/6.0.0-GCCcore-7.3.0/lib:1:/sw/arch/Debian9/EB_production/2019/software/GDAL/2.2.3-foss-2018b-Python-3.6.6/lib:1:/sw/arch/Debian9/EB_production/2019/software/ScaLAPACK/2.0.2-gompi-2018b-OpenBLAS-0.3.1/lib:1:/sw/arch/Debian9/EB_production/2019/software/fontconfig/2.13.0-GCCcore-7.3.0/lib:1:/sw/arch/Debian9/EB_production/2019/software/ncurses/6.1-GCCcore-7.3.0/lib:1:/sw/arch/Debian9/EB_production/2019/software/gettext/0.19.8.1-GCCcore-7.3.0/lib:1:/sw/arch/Debian9/EB_production/2019/software/zlib/1.2.11-GCCcore-7.3.0/lib:1:/sw/arch/Debian9/EB_production/2019/software/nodejs/10.15.1-foss-2018b/lib:1:/home/valeriuc/gpu_island/nccl_2.1.2-1+cuda9.0_x86_64/lib:1',\n",
       " 'EBDEVELICU': '/sw/arch/Debian9/EB_production/2019/software/ICU/61.1-GCCcore-7.3.0/easybuild/ICU-61.1-GCCcore-7.3.0-easybuild-devel',\n",
       " 'JUPYTERHUB_ACTIVITY_URL': 'http://services1.lisa.surfsara.nl:8082/course/hub/api/users/valeriuc/activity',\n",
       " 'EBROOTZLIB': '/sw/arch/Debian9/EB_production/2019/software/zlib/1.2.11-GCCcore-7.3.0',\n",
       " 'EBDEVELMESA': '/sw/arch/Debian9/EB_production/2019/software/Mesa/18.1.1-foss-2018b/easybuild/Mesa-18.1.1-foss-2018b-easybuild-devel',\n",
       " 'EBROOTFREETYPE': '/sw/arch/Debian9/EB_production/2019/software/freetype/2.9.1-GCCcore-7.3.0',\n",
       " 'SARA_IDLFLAGS_INTERNAL': '',\n",
       " 'EBDEVELPIXMAN': '/sw/arch/Debian9/EB_production/2019/software/pixman/0.34.0-GCCcore-7.3.0/easybuild/pixman-0.34.0-GCCcore-7.3.0-easybuild-devel',\n",
       " 'LIBRARY_PATH_modshare': '/sw/arch/Debian9/EB_production/2019/software/hwloc/1.11.10-GCCcore-7.3.0/lib:1:/sw/arch/Debian9/EB_production/2019/software/UDUNITS/2.2.26-foss-2018b/lib:1:/sw/arch/Debian9/EB_production/2019/software/JasPer/2.0.14-GCCcore-7.3.0/lib:1:/sw/arch/Debian9/EB_production/2019/software/libpciaccess/0.14-GCCcore-7.3.0/lib:1:/sw/arch/Debian9/EB_production/2019/software/GCCcore/7.3.0/lib64:1:/sw/arch/Debian9/EB_production/2019/software/LibTIFF/4.0.9-GCCcore-7.3.0/lib:1:/sw/arch/Debian9/EB_production/2019/software/libxml2/2.9.8-GCCcore-7.3.0/lib:1:/sw/arch/Debian9/EB_production/2019/software/matplotlib/3.0.0-foss-2018b-Python-3.6.6/lib:1:/sw/arch/Debian9/EB_production/2019/software/libsndfile/1.0.28-GCCcore-7.3.0/lib:1:/sw/arch/Debian9/EB_production/2019/software/libjpeg-turbo/2.0.0-GCCcore-7.3.0/lib:1:/sw/arch/Debian9/EB_production/2019/software/libsodium/1.0.16-GCCcore-7.3.0/lib:1:/sw/arch/Debian9/EB_production/2019/software/libunwind/1.2.1-GCCcore-7.3.0/lib:1:/sw/arch/Debian9/EB_production/2019/software/R/3.5.1-foss-2018b/lib64:1:/sw/arch/Debian9/EB_production/2019/software/GCCcore/7.3.0/lib:1:/sw/arch/Debian9/EB_production/2019/software/Python/3.6.6-foss-2018b/lib/python3.6/site-packages/numpy-1.15.0-py3.6-linux-x86_64.egg/numpy/core/lib:1:/sw/arch/Debian9/EB_production/2019/software/ICU/61.1-GCCcore-7.3.0/lib:1:/sw/arch/Debian9/EB_production/2019/software/libdrm/2.4.92-GCCcore-7.3.0/lib:1:/sw/arch/Debian9/EB_production/2019/software/PROJ/5.0.0-foss-2018b/lib:1:/sw/arch/Debian9/EB_production/2019/software/ZeroMQ/4.2.5-foss-2018b/lib:1:/sw/arch/Debian9/EB_production/2019/software/bzip2/1.0.6-GCCcore-7.3.0/lib:1:/sw/arch/Debian9/EB_production/2019/software/HDF5/1.10.2-foss-2018b/lib:1:/sw/arch/Debian9/EB_production/2019/software/IPython/7.2.0-foss-2018b-Python-3.6.6/lib:1:/sw/arch/Debian9/EB_production/2019/software/configurable-http-proxy/4.1.0-foss-2018b-nodejs-10.15.1/lib:1:/sw/arch/Debian9/EB_production/2019/software/numactl/2.0.11-GCCcore-7.3.0/lib:1:/sw/arch/Debian9/EB_production/2019/software/Tcl/8.6.8-GCCcore-7.3.0/lib:1:/sw/arch/Debian9/EB_production/2019/software/expat/2.2.5-GCCcore-7.3.0/lib:1:/sw/arch/Debian9/EB_production/2019/software/GEOS/3.6.2-foss-2018b-Python-3.6.6/lib:1:/sw/arch/Debian9/EB_production/2019/software/libreadline/7.0-GCCcore-7.3.0/lib:1:/sw/arch/Debian9/EB_production/2019/software/util-linux/2.32-GCCcore-7.3.0/lib:1:/sw/arch/Debian9/EB_production/2019/software/NLopt/2.4.2-GCCcore-7.3.0/lib:1:/sw/arch/Debian9/EB_production/2019/software/CUDA/10.0.130/lib64/stubs:1:/sw/arch/Debian9/EB_production/2019/software/cairo/1.14.12-GCCcore-7.3.0/lib:1:/sw/arch/Debian9/EB_production/2019/software/netCDF/4.6.1-foss-2018b/lib:1:/sw/arch/Debian9/EB_production/2019/software/cURL/7.60.0-GCCcore-7.3.0/lib:1:/sw/arch/Debian9/EB_production/2019/software/GLib/2.54.3-GCCcore-7.3.0/lib:1:/sw/arch/Debian9/EB_production/2019/software/CUDA/10.0.130/lib64:1:/sw/arch/Debian9/EB_production/2019/software/libgeotiff/1.4.2-foss-2018b/lib:1:/sw/arch/Debian9/EB_production/2019/software/libpng/1.6.34-GCCcore-7.3.0/lib:1:/sw/arch/Debian9/EB_production/2019/software/SQLite/3.24.0-GCCcore-7.3.0/lib:1:/sw/arch/Debian9/EB_production/2019/software/X11/20180604-GCCcore-7.3.0/lib:1:/sw/arch/Debian9/EB_production/2019/software/cuDNN/7.6.3-CUDA-10.0.130/lib64:1:/sw/arch/Debian9/EB_production/2019/software/libffi/3.2.1-GCCcore-7.3.0/lib64:1:/sw/arch/Debian9/EB_production/2019/software/pixman/0.34.0-GCCcore-7.3.0/lib:1:/sw/arch/Debian9/EB_production/2019/software/XZ/5.2.4-GCCcore-7.3.0/lib:1:/sw/arch/Debian9/EB_production/2019/software/GMP/6.1.2-GCCcore-7.3.0/lib:1:/sw/arch/Debian9/EB_production/2019/software/Mesa/18.1.1-foss-2018b/lib:1:/sw/arch/Debian9/EB_production/2019/software/jupyterhub/1.0.0-foss-2018b-Python-3.6.6/lib:1:/sw/arch/Debian9/EB_production/2019/software/R/3.5.1-foss-2018b/lib64/R/lib:1:/sw/arch/Debian9/EB_production/2019/software/Java/1.8.0_192/lib:1:/sw/arch/Debian9/EB_production/2019/software/libffi/3.2.1-GCCcore-7.3.0/lib:1:/sw/arch/Debian9/EB_production/2019/software/OpenPGM/5.2.122-GCCcore-7.3.0/lib:1:/sw/arch/Debian9/EB_production/2019/software/libGLU/9.0.0-foss-2018b/lib:1:/sw/arch/Debian9/EB_production/2019/software/Tk/8.6.8-GCCcore-7.3.0/lib:1:/sw/arch/Debian9/EB_production/2019/software/GSL/2.5-GCC-7.3.0-2.30/lib:1:/sw/arch/Debian9/EB_production/2019/software/freetype/2.9.1-GCCcore-7.3.0/lib:1:/sw/arch/Debian9/EB_production/2019/software/binutils/2.30-GCCcore-7.3.0/lib:1:/sw/arch/Debian9/EB_production/2019/software/PCRE/8.41-GCCcore-7.3.0/lib:1:/sw/arch/Debian9/EB_production/2019/software/Szip/2.1.1-GCCcore-7.3.0/lib:1:/sw/arch/Debian9/EB_production/2019/software/FFTW/3.3.8-gompi-2018b/lib:1:/sw/arch/Debian9/EB_production/2019/software/Tkinter/3.6.6-foss-2018b-Python-3.6.6/lib:1:/sw/arch/Debian9/EB_production/2019/software/OpenMPI/3.1.1-GCC-7.3.0-2.30/lib:1:/sw/arch/Debian9/EB_production/2019/software/Python/3.6.6-foss-2018b/lib:1:/sw/arch/Debian9/EB_production/2019/software/OpenBLAS/0.3.1-GCC-7.3.0-2.30/lib:1:/sw/arch/Debian9/EB_production/2019/software/nettle/3.4-GCCcore-7.3.0/lib64:1:/sw/arch/Debian9/EB_production/2019/software/LLVM/6.0.0-GCCcore-7.3.0/lib:1:/sw/arch/Debian9/EB_production/2019/software/GDAL/2.2.3-foss-2018b-Python-3.6.6/lib:1:/sw/arch/Debian9/EB_production/2019/software/ScaLAPACK/2.0.2-gompi-2018b-OpenBLAS-0.3.1/lib:1:/sw/arch/Debian9/EB_production/2019/software/fontconfig/2.13.0-GCCcore-7.3.0/lib:1:/sw/arch/Debian9/EB_production/2019/software/ncurses/6.1-GCCcore-7.3.0/lib:1:/sw/arch/Debian9/EB_production/2019/software/zlib/1.2.11-GCCcore-7.3.0/lib:1:/sw/arch/Debian9/EB_production/2019/software/gettext/0.19.8.1-GCCcore-7.3.0/lib:1:/sw/arch/Debian9/EB_production/2019/software/nodejs/10.15.1-foss-2018b/lib:1',\n",
       " 'EBROOTOPENPGM': '/sw/arch/Debian9/EB_production/2019/software/OpenPGM/5.2.122-GCCcore-7.3.0',\n",
       " 'EBDEVELFONTCONFIG': '/sw/arch/Debian9/EB_production/2019/software/fontconfig/2.13.0-GCCcore-7.3.0/easybuild/fontconfig-2.13.0-GCCcore-7.3.0-easybuild-devel',\n",
       " 'EBDEVELLIBSNDFILE': '/sw/arch/Debian9/EB_production/2019/software/libsndfile/1.0.28-GCCcore-7.3.0/easybuild/libsndfile-1.0.28-GCCcore-7.3.0-easybuild-devel',\n",
       " 'SLURM_NNODES': '1',\n",
       " 'USER': 'valeriuc',\n",
       " 'EBVERSIONNODEJS': '10.15.1',\n",
       " 'JUPYTERHUB_BASE_URL': '/course/',\n",
       " 'ENV': '/hpc/eb/modules-4.0.0/init/profile.sh',\n",
       " 'EBROOTPCRE': '/sw/arch/Debian9/EB_production/2019/software/PCRE/8.41-GCCcore-7.3.0',\n",
       " 'EBDEVELLIBXML2': '/sw/arch/Debian9/EB_production/2019/software/libxml2/2.9.8-GCCcore-7.3.0/easybuild/libxml2-2.9.8-GCCcore-7.3.0-easybuild-devel',\n",
       " 'EBROOTJASPER': '/sw/arch/Debian9/EB_production/2019/software/JasPer/2.0.14-GCCcore-7.3.0',\n",
       " 'EBVERSIONJAVA': '1.8.0_192',\n",
       " 'EBVERSIONHWLOC': '1.11.10',\n",
       " 'EBVERSIONLIBGEOTIFF': '1.4.2',\n",
       " 'EBVERSIONSQLITE': '3.24.0',\n",
       " 'EBVERSIONGCCCORE': '7.3.0',\n",
       " 'SLURM_GET_USER_ENV': '1',\n",
       " 'EBROOTXZ': '/sw/arch/Debian9/EB_production/2019/software/XZ/5.2.4-GCCcore-7.3.0',\n",
       " 'EBVERSIONLIBFFI': '3.2.1',\n",
       " 'EBROOTLIBUNWIND': '/sw/arch/Debian9/EB_production/2019/software/libunwind/1.2.1-GCCcore-7.3.0',\n",
       " 'EBVERSIONCONFIGURABLEMINHTTPMINPROXY': '4.1.0',\n",
       " 'EBROOTMATPLOTLIB': '/sw/arch/Debian9/EB_production/2019/software/matplotlib/3.0.0-foss-2018b-Python-3.6.6',\n",
       " 'EBDEVELCONFIGURABLEMINHTTPMINPROXY': '/sw/arch/Debian9/EB_production/2019/software/configurable-http-proxy/4.1.0-foss-2018b-nodejs-10.15.1/easybuild/configurable-http-proxy-4.1.0-foss-2018b-nodejs-10.15.1-easybuild-devel',\n",
       " 'EBROOTPROJ': '/sw/arch/Debian9/EB_production/2019/software/PROJ/5.0.0-foss-2018b',\n",
       " 'EBDEVELGSL': '/sw/arch/Debian9/EB_production/2019/software/GSL/2.5-GCC-7.3.0-2.30/easybuild/GSL-2.5-GCC-7.3.0-2.30-easybuild-devel',\n",
       " 'R_LIBS': '/sw/arch/Debian9/EB_production/2019/software/IRkernel/1.0.2-foss-2018b-R-3.5.1-Python-3.6.6',\n",
       " 'PWD': '/home/valeriuc',\n",
       " 'EBDEVELCUDA': '/sw/arch/Debian9/EB_production/2019/software/CUDA/10.0.130/easybuild/CUDA-10.0.130-easybuild-devel',\n",
       " 'EBROOTSQLITE': '/sw/arch/Debian9/EB_production/2019/software/SQLite/3.24.0-GCCcore-7.3.0',\n",
       " 'EBDEVELIRKERNEL': '/sw/arch/Debian9/EB_production/2019/software/IRkernel/1.0.2-foss-2018b-R-3.5.1-Python-3.6.6/easybuild/IRkernel-1.0.2-foss-2018b-R-3.5.1-Python-3.6.6-easybuild-devel',\n",
       " 'EBDEVELOPENBLAS': '/sw/arch/Debian9/EB_production/2019/software/OpenBLAS/0.3.1-GCC-7.3.0-2.30/easybuild/OpenBLAS-0.3.1-GCC-7.3.0-2.30-easybuild-devel',\n",
       " 'EBROOTLIBREADLINE': '/sw/arch/Debian9/EB_production/2019/software/libreadline/7.0-GCCcore-7.3.0',\n",
       " 'EBVERSIONPCRE': '8.41',\n",
       " 'EBVERSIONICU': '61.1',\n",
       " 'SLURM_JOB_NODELIST': 'r32n3',\n",
       " 'EBDEVELGLIB': '/sw/arch/Debian9/EB_production/2019/software/GLib/2.54.3-GCCcore-7.3.0/easybuild/GLib-2.54.3-GCCcore-7.3.0-easybuild-devel',\n",
       " 'HOME': '/home/valeriuc',\n",
       " 'SLURM_CLUSTER_NAME': 'lisa',\n",
       " 'EBROOTFOSS': '/sw/arch/Debian9/EB_production/2019/software/foss/2018b',\n",
       " 'EBVERSIONGETTEXT': '0.19.8.1',\n",
       " 'EBEXTSLISTJUPYTERHUB': 'pamela-1.0.0,SQLAlchemy-1.3.10,alembic-1.2.1,requests-2.19.1,python-oauth2-1.1.1,Mako-1.0.7,python-editor-1.0.4,urllib3-1.23,chardet-3.0.4,batchspawner-0.9.0rc0,ldap3-2.6.1,jupyterhub-ldapauthenticator-1.2.2,jupyterhub-1.0.0',\n",
       " 'EBROOTBZIP2': '/sw/arch/Debian9/EB_production/2019/software/bzip2/1.0.6-GCCcore-7.3.0',\n",
       " 'SLURM_NODELIST': 'r32n3',\n",
       " 'EBDEVELSCALAPACK': '/sw/arch/Debian9/EB_production/2019/software/ScaLAPACK/2.0.2-gompi-2018b-OpenBLAS-0.3.1/easybuild/ScaLAPACK-2.0.2-gompi-2018b-OpenBLAS-0.3.1-easybuild-devel',\n",
       " 'EBROOTCUDNN': '/sw/arch/Debian9/EB_production/2019/software/cuDNN/7.6.3-CUDA-10.0.130',\n",
       " 'CUDA_HOME': '/sw/arch/Debian9/EB_production/2019/software/CUDA/10.0.130',\n",
       " 'SUDO_USER': 'root',\n",
       " 'CPATH': '/sw/arch/Debian9/EB_production/2019/software/cuDNN/7.6.3-CUDA-10.0.130/include:/sw/arch/Debian9/EB_production/2019/software/CUDA/10.0.130/nvvm/include:/sw/arch/Debian9/EB_production/2019/software/CUDA/10.0.130/extras/CUPTI/include:/sw/arch/Debian9/EB_production/2019/software/CUDA/10.0.130/include:/sw/arch/Debian9/EB_production/2019/software/GSL/2.5-GCC-7.3.0-2.30/include:/sw/arch/Debian9/EB_production/2019/software/UDUNITS/2.2.26-foss-2018b/include:/sw/arch/Debian9/EB_production/2019/software/ICU/61.1-GCCcore-7.3.0/include:/sw/arch/Debian9/EB_production/2019/software/libsndfile/1.0.28-GCCcore-7.3.0/include:/sw/arch/Debian9/EB_production/2019/software/NLopt/2.4.2-GCCcore-7.3.0/include:/sw/arch/Debian9/EB_production/2019/software/GDAL/2.2.3-foss-2018b-Python-3.6.6/include:/sw/arch/Debian9/EB_production/2019/software/libgeotiff/1.4.2-foss-2018b/include:/sw/arch/Debian9/EB_production/2019/software/PROJ/5.0.0-foss-2018b/include:/sw/arch/Debian9/EB_production/2019/software/JasPer/2.0.14-GCCcore-7.3.0/include:/sw/arch/Debian9/EB_production/2019/software/GEOS/3.6.2-foss-2018b-Python-3.6.6/include:/sw/arch/Debian9/EB_production/2019/software/netCDF/4.6.1-foss-2018b/include:/sw/arch/Debian9/EB_production/2019/software/HDF5/1.10.2-foss-2018b/include:/sw/arch/Debian9/EB_production/2019/software/Szip/2.1.1-GCCcore-7.3.0/include:/sw/arch/Debian9/EB_production/2019/software/cURL/7.60.0-GCCcore-7.3.0/include:/sw/arch/Debian9/EB_production/2019/software/Java/1.8.0_192/include:/sw/arch/Debian9/EB_production/2019/software/LibTIFF/4.0.9-GCCcore-7.3.0/include:/sw/arch/Debian9/EB_production/2019/software/libjpeg-turbo/2.0.0-GCCcore-7.3.0/include:/sw/arch/Debian9/EB_production/2019/software/cairo/1.14.12-GCCcore-7.3.0/include:/sw/arch/Debian9/EB_production/2019/software/GLib/2.54.3-GCCcore-7.3.0/include:/sw/arch/Debian9/EB_production/2019/software/PCRE/8.41-GCCcore-7.3.0/include:/sw/arch/Debian9/EB_production/2019/software/gettext/0.19.8.1-GCCcore-7.3.0/include:/sw/arch/Debian9/EB_production/2019/software/pixman/0.34.0-GCCcore-7.3.0/include:/sw/arch/Debian9/EB_production/2019/software/libGLU/9.0.0-foss-2018b/include:/sw/arch/Debian9/EB_production/2019/software/Mesa/18.1.1-foss-2018b/include:/sw/arch/Debian9/EB_production/2019/software/libunwind/1.2.1-GCCcore-7.3.0/include:/sw/arch/Debian9/EB_production/2019/software/LLVM/6.0.0-GCCcore-7.3.0/include:/sw/arch/Debian9/EB_production/2019/software/libdrm/2.4.92-GCCcore-7.3.0/include:/sw/arch/Debian9/EB_production/2019/software/nettle/3.4-GCCcore-7.3.0/include:/sw/arch/Debian9/EB_production/2019/software/nodejs/10.15.1-foss-2018b/include:/sw/arch/Debian9/EB_production/2019/software/Tk/8.6.8-GCCcore-7.3.0/include:/sw/arch/Debian9/EB_production/2019/software/X11/20180604-GCCcore-7.3.0/include:/sw/arch/Debian9/EB_production/2019/software/fontconfig/2.13.0-GCCcore-7.3.0/include:/sw/arch/Debian9/EB_production/2019/software/expat/2.2.5-GCCcore-7.3.0/include:/sw/arch/Debian9/EB_production/2019/software/freetype/2.9.1-GCCcore-7.3.0/include/freetype2:/sw/arch/Debian9/EB_production/2019/software/libpng/1.6.34-GCCcore-7.3.0/include:/sw/arch/Debian9/EB_production/2019/software/ZeroMQ/4.2.5-foss-2018b/include:/sw/arch/Debian9/EB_production/2019/software/libsodium/1.0.16-GCCcore-7.3.0/include:/sw/arch/Debian9/EB_production/2019/software/util-linux/2.32-GCCcore-7.3.0/include:/sw/arch/Debian9/EB_production/2019/software/OpenPGM/5.2.122-GCCcore-7.3.0/include:/sw/arch/Debian9/EB_production/2019/software/Python/3.6.6-foss-2018b/lib/python3.6/site-packages/numpy-1.15.0-py3.6-linux-x86_64.egg/numpy/core/include:/sw/arch/Debian9/EB_production/2019/software/Python/3.6.6-foss-2018b/include:/sw/arch/Debian9/EB_production/2019/software/libffi/3.2.1-GCCcore-7.3.0/include:/sw/arch/Debian9/EB_production/2019/software/GMP/6.1.2-GCCcore-7.3.0/include:/sw/arch/Debian9/EB_production/2019/software/SQLite/3.24.0-GCCcore-7.3.0/include:/sw/arch/Debian9/EB_production/2019/software/Tcl/8.6.8-GCCcore-7.3.0/include:/sw/arch/Debian9/EB_production/2019/software/libreadline/7.0-GCCcore-7.3.0/include:/sw/arch/Debian9/EB_production/2019/software/ncurses/6.1-GCCcore-7.3.0/include:/sw/arch/Debian9/EB_production/2019/software/bzip2/1.0.6-GCCcore-7.3.0/include:/sw/arch/Debian9/EB_production/2019/software/ScaLAPACK/2.0.2-gompi-2018b-OpenBLAS-0.3.1/include:/sw/arch/Debian9/EB_production/2019/software/FFTW/3.3.8-gompi-2018b/include:/sw/arch/Debian9/EB_production/2019/software/OpenBLAS/0.3.1-GCC-7.3.0-2.30/include:/sw/arch/Debian9/EB_production/2019/software/OpenMPI/3.1.1-GCC-7.3.0-2.30/include:/sw/arch/Debian9/EB_production/2019/software/hwloc/1.11.10-GCCcore-7.3.0/include:/sw/arch/Debian9/EB_production/2019/software/libpciaccess/0.14-GCCcore-7.3.0/include:/sw/arch/Debian9/EB_production/2019/software/libxml2/2.9.8-GCCcore-7.3.0/include/libxml2:/sw/arch/Debian9/EB_production/2019/software/libxml2/2.9.8-GCCcore-7.3.0/include:/sw/arch/Debian9/EB_production/2019/software/XZ/5.2.4-GCCcore-7.3.0/include:/sw/arch/Debian9/EB_production/2019/software/numactl/2.0.11-GCCcore-7.3.0/include:/sw/arch/Debian9/EB_production/2019/software/binutils/2.30-GCCcore-7.3.0/include:/sw/arch/Debian9/EB_production/2019/software/zlib/1.2.11-GCCcore-7.3.0/include:/sw/arch/Debian9/EB_production/2019/software/GCCcore/7.3.0/include',\n",
       " 'SLURM_NTASKS': '3',\n",
       " 'JUPYTER_PATH': '/sw/arch/Debian9/EB_production/2019/software/IRkernel/1.0.2-foss-2018b-R-3.5.1-Python-3.6.6/IRkernel',\n",
       " 'EBROOTSZIP': '/sw/arch/Debian9/EB_production/2019/software/Szip/2.1.1-GCCcore-7.3.0',\n",
       " 'EBDEVELR': '/sw/arch/Debian9/EB_production/2019/software/R/3.5.1-foss-2018b/easybuild/R-3.5.1-foss-2018b-easybuild-devel',\n",
       " 'EBROOTJUPYTERHUB': '/sw/arch/Debian9/EB_production/2019/software/jupyterhub/1.0.0-foss-2018b-Python-3.6.6',\n",
       " 'EBDEVELGMP': '/sw/arch/Debian9/EB_production/2019/software/GMP/6.1.2-GCCcore-7.3.0/easybuild/GMP-6.1.2-GCCcore-7.3.0-easybuild-devel',\n",
       " 'EBROOTHDF5': '/sw/arch/Debian9/EB_production/2019/software/HDF5/1.10.2-foss-2018b',\n",
       " 'EBDEVELTCL': '/sw/arch/Debian9/EB_production/2019/software/Tcl/8.6.8-GCCcore-7.3.0/easybuild/Tcl-8.6.8-GCCcore-7.3.0-easybuild-devel',\n",
       " 'EBDEVELGEOS': '/sw/arch/Debian9/EB_production/2019/software/GEOS/3.6.2-foss-2018b-Python-3.6.6/easybuild/GEOS-3.6.2-foss-2018b-Python-3.6.6-easybuild-devel',\n",
       " 'EBDEVELTKINTER': '/sw/arch/Debian9/EB_production/2019/software/Tkinter/3.6.6-foss-2018b-Python-3.6.6/easybuild/Tkinter-3.6.6-foss-2018b-Python-3.6.6-easybuild-devel',\n",
       " 'JUPYTERHUB_USER': 'valeriuc',\n",
       " 'EBDEVELCURL': '/sw/arch/Debian9/EB_production/2019/software/cURL/7.60.0-GCCcore-7.3.0/easybuild/cURL-7.60.0-GCCcore-7.3.0-easybuild-devel',\n",
       " 'SARA_FFLAGS_INTERNAL': '',\n",
       " 'SLURM_JOB_CPUS_PER_NODE': '3',\n",
       " 'BASH_ENV': '/hpc/eb/modules-4.0.0/init/bash',\n",
       " 'EBROOTCURL': '/sw/arch/Debian9/EB_production/2019/software/cURL/7.60.0-GCCcore-7.3.0',\n",
       " 'XDG_DATA_DIRS': '/sw/arch/Debian9/EB_production/2019/software/jupyterhub/1.0.0-foss-2018b-Python-3.6.6/share',\n",
       " 'EBROOTLIBPNG': '/sw/arch/Debian9/EB_production/2019/software/libpng/1.6.34-GCCcore-7.3.0',\n",
       " 'EBROOTNETTLE': '/sw/arch/Debian9/EB_production/2019/software/nettle/3.4-GCCcore-7.3.0',\n",
       " 'EBDEVELPYTHON': '/sw/arch/Debian9/EB_production/2019/software/Python/3.6.6-foss-2018b/easybuild/Python-3.6.6-foss-2018b-easybuild-devel',\n",
       " 'SLURM_TOPOLOGY_ADDR': 'gigabit..gpu.I11_I12_I13_I14.r32n3',\n",
       " 'SARA_LDFLAGS': ' ',\n",
       " '_LMFILES__modshare': '/sw/arch/Debian9/EB_production/2019/modulefiles/tools/IRkernel/1.0.2-foss-2018b-R-3.5.1-Python-3.6.6:1:/sw/arch/Debian9/EB_production/2019/modulefiles/numlib/NLopt/2.4.2-GCCcore-7.3.0:1:/sw/arch/Debian9/EB_production/2019/modulefiles/tools/cURL/7.60.0-GCCcore-7.3.0:1:/sw/arch/Debian9/EB_production/2019/modulefiles/system/hwloc/1.11.10-GCCcore-7.3.0:1:/sw/arch/Debian9/EB_production/2019/modulefiles/vis/matplotlib/3.0.0-foss-2018b-Python-3.6.6:1:/sw/arch/Debian9/EB_production/2019/modulefiles/system/CUDA/10.0.130:1:/sw/arch/Debian9/EB_production/2019/modulefiles/tools/Szip/2.1.1-GCCcore-7.3.0:1:/sw/arch/Debian9/EB_production/2019/modulefiles/lib/zlib/1.2.11-GCCcore-7.3.0:1:/sw/arch/Debian9/EB_production/2019/modulefiles/compiler/GCCcore/7.3.0:1:/sw/arch/Debian9/EB_production/2019/modulefiles/vis/pixman/0.34.0-GCCcore-7.3.0:1:/sw/arch/Debian9/EB_production/2019/modulefiles/lang/R/3.5.1-foss-2018b:1:/sw/arch/Debian9/EB_production/2019/modulefiles/mpi/OpenMPI/3.1.1-GCC-7.3.0-2.30:1:/sw/arch/Debian9/EB_production/2019/modulefiles/vis/freetype/2.9.1-GCCcore-7.3.0:1:/sw/arch/Debian9/EB_production/2019/modulefiles/data/GDAL/2.2.3-foss-2018b-Python-3.6.6:1:/sw/arch/Debian9/EB_production/2019/modulefiles/math/GEOS/3.6.2-foss-2018b-Python-3.6.6:1:/sw/arch/Debian9/EB_production/2019/modulefiles/vis/GLib/2.54.3-GCCcore-7.3.0:1:/sw/arch/Debian9/EB_production/2019/modulefiles/lib/libjpeg-turbo/2.0.0-GCCcore-7.3.0:1:/sw/arch/Debian9/EB_production/2019/modulefiles/tools/bzip2/1.0.6-GCCcore-7.3.0:1:/sw/arch/Debian9/EB_production/2019/modulefiles/lib/libunwind/1.2.1-GCCcore-7.3.0:1:/sw/arch/Debian9/EB_production/2019/modulefiles/vis/Mesa/18.1.1-foss-2018b:1:/sw/arch/Debian9/EB_production/2019/modulefiles/tools/configurable-http-proxy/4.1.0-foss-2018b-nodejs-10.15.1:1:/sw/arch/Debian9/EB_production/2019/modulefiles/lib/libffi/3.2.1-GCCcore-7.3.0:1:/sw/arch/Debian9/EB_production/2019/modulefiles/lang/nodejs/10.15.1-foss-2018b:1:/sw/arch/Debian9/EB_production/2019/modulefiles/lib/ICU/61.1-GCCcore-7.3.0:1:/sw/arch/Debian9/EB_production/2019/modulefiles/lib/PROJ/5.0.0-foss-2018b:1:/sw/arch/Debian9/EB_production/2019/modulefiles/compiler/GCC/7.3.0-2.30:1:/sw/arch/Debian9/EB_production/2019/modulefiles/devel/ncurses/6.1-GCCcore-7.3.0:1:/sw/arch/Debian9/EB_production/2019/modulefiles/lib/nettle/3.4-GCCcore-7.3.0:1:/sw/arch/Debian9/EB_production/2019/modulefiles/compiler/LLVM/6.0.0-GCCcore-7.3.0:1:/sw/arch/Debian9/EB_production/2019/modulefiles/numlib/GSL/2.5-GCC-7.3.0-2.30:1:/sw/arch/Debian9/EB_production/2019/modulefiles/tools/util-linux/2.32-GCCcore-7.3.0:1:/sw/arch/Debian9/EB_production/2019/modulefiles/math/GMP/6.1.2-GCCcore-7.3.0:1:/sw/arch/Debian9/EB_production/2019/modulefiles/lang/Python/3.6.6-foss-2018b:1:/sw/arch/Debian9/EB_production/2019/modulefiles/vis/Tk/8.6.8-GCCcore-7.3.0:1:/sw/arch/Debian9/EB_production/2019/modulefiles/vis/cairo/1.14.12-GCCcore-7.3.0:1:/sw/arch/Debian9/EB_production/2019/modulefiles/devel/PCRE/8.41-GCCcore-7.3.0:1:/sw/arch/Debian9/EB_production/2019/modulefiles/numlib/FFTW/3.3.8-gompi-2018b:1:/sw/arch/Debian9/EB_production/2019/modulefiles/lang/NASM/2.13.03-GCCcore-7.3.0:1:/sw/arch/Debian9/EB_production/2019/modulefiles/lib/libreadline/7.0-GCCcore-7.3.0:1:/sw/arch/Debian9/EB_production/2019/modulefiles/vis/fontconfig/2.13.0-GCCcore-7.3.0:1:/sw/noarch/modulefiles/environment/compilerwrappers:1:/sw/arch/Debian9/EB_production/2019/modulefiles/numlib/OpenBLAS/0.3.1-GCC-7.3.0-2.30:1:/sw/arch/Debian9/EB_production/2019/modulefiles/toolchain/foss/2018b:1:/sw/arch/Debian9/EB_production/2019/modulefiles/tools/jupyterlmod/1.7.5-foss-2018b-Python-3.6.6:1:/sw/arch/Debian9/EB_production/2019/modulefiles/phys/UDUNITS/2.2.26-foss-2018b:1:/sw/arch/Debian9/EB_production/2019/modulefiles/numlib/ScaLAPACK/2.0.2-gompi-2018b-OpenBLAS-0.3.1:1:/sw/arch/Debian9/EB_production/2019/modulefiles/system/libpciaccess/0.14-GCCcore-7.3.0:1:/sw/arch/Debian9/EB_production/2019/modulefiles/data/HDF5/1.10.2-foss-2018b:1:/sw/arch/Debian9/EB_production/2019/modulefiles/tools/numactl/2.0.11-GCCcore-7.3.0:1:/sw/noarch/modulefiles/environment/2019:1:/sw/arch/Debian9/EB_production/2019/modulefiles/lang/Tkinter/3.6.6-foss-2018b-Python-3.6.6:1:/hpc/sw/modules/modulefiles/init/surfsara/1.2:1:/sw/arch/Debian9/EB_production/2019/modulefiles/data/netCDF/4.6.1-foss-2018b:1:/sw/arch/Debian9/EB_production/2019/modulefiles/lib/libgeotiff/1.4.2-foss-2018b:1:/sw/arch/Debian9/EB_production/2019/modulefiles/vis/JasPer/2.0.14-GCCcore-7.3.0:1:/sw/arch/Debian9/EB_production/2019/modulefiles/system/OpenPGM/5.2.122-GCCcore-7.3.0:1:/sw/arch/Debian9/EB_production/2019/modulefiles/toolchain/gompi/2018b:1:/sw/arch/Debian9/EB_production/2019/modulefiles/lib/libpng/1.6.34-GCCcore-7.3.0:1:/sw/arch/Debian9/EB_production/2019/modulefiles/devel/SQLite/3.24.0-GCCcore-7.3.0:1:/sw/arch/Debian9/EB_production/2019/modulefiles/lib/LibTIFF/4.0.9-GCCcore-7.3.0:1:/sw/arch/Debian9/EB_production/2019/modulefiles/lib/libxml2/2.9.8-GCCcore-7.3.0:1:/sw/arch/Debian9/EB_production/2019/modulefiles/vis/X11/20180604-GCCcore-7.3.0:1:/sw/arch/Debian9/EB_production/2019/modulefiles/lib/libsndfile/1.0.28-GCCcore-7.3.0:1:/sw/arch/Debian9/EB_production/2019/modulefiles/vis/libGLU/9.0.0-foss-2018b:1:/sw/arch/Debian9/EB_production/2019/modulefiles/tools/gettext/0.19.8.1-GCCcore-7.3.0:1:/sw/arch/Debian9/EB_production/2019/modulefiles/lib/libsodium/1.0.16-GCCcore-7.3.0:1:/sw/noarch/modulefiles/environment/slurm-tools:1:/sw/arch/Debian9/EB_production/2019/modulefiles/tools/IPython/7.2.0-foss-2018b-Python-3.6.6:1:/sw/arch/Debian9/EB_production/2019/modulefiles/numlib/cuDNN/7.6.3-CUDA-10.0.130:1:/sw/arch/Debian9/EB_production/2019/modulefiles/lang/Java/1.8.0_192:1:/sw/arch/Debian9/EB_production/2019/modulefiles/tools/binutils/2.30-GCCcore-7.3.0:1:/sw/arch/Debian9/EB_production/2019/modulefiles/lib/libdrm/2.4.92-GCCcore-7.3.0:1:/sw/arch/Debian9/EB_production/2019/modulefiles/lang/Tcl/8.6.8-GCCcore-7.3.0:1:/sw/arch/Debian9/EB_production/2019/modulefiles/tools/expat/2.2.5-GCCcore-7.3.0:1:/sw/arch/Debian9/EB_production/2019/modulefiles/devel/ZeroMQ/4.2.5-foss-2018b:1:/sw/arch/Debian9/EB_production/2019/modulefiles/tools/XZ/5.2.4-GCCcore-7.3.0:1:/sw/arch/Debian9/EB_production/2019/modulefiles/tools/jupyterhub/1.0.0-foss-2018b-Python-3.6.6:1',\n",
       " 'EBDEVELNASM': '/sw/arch/Debian9/EB_production/2019/software/NASM/2.13.03-GCCcore-7.3.0/easybuild/NASM-2.13.03-GCCcore-7.3.0-easybuild-devel',\n",
       " 'EBDEVELLIBGEOTIFF': '/sw/arch/Debian9/EB_production/2019/software/libgeotiff/1.4.2-foss-2018b/easybuild/libgeotiff-1.4.2-foss-2018b-easybuild-devel',\n",
       " 'EBVERSIONCAIRO': '1.14.12',\n",
       " 'EBVERSIONGMP': '6.1.2',\n",
       " 'EBVERSIONNETTLE': '3.4',\n",
       " 'EBDEVELIPYTHON': '/sw/arch/Debian9/EB_production/2019/software/IPython/7.2.0-foss-2018b-Python-3.6.6/easybuild/IPython-7.2.0-foss-2018b-Python-3.6.6-easybuild-devel',\n",
       " 'EBROOTEXPAT': '/sw/arch/Debian9/EB_production/2019/software/expat/2.2.5-GCCcore-7.3.0',\n",
       " 'SLURM_WORKING_CLUSTER': 'lisa:batch4.lisa.surfsara.nl:6817:8704:109',\n",
       " 'OMPI_MCA_orte_tmpdir_base': '/dev/shm/',\n",
       " 'EBVERSIONTCL': '8.6.8',\n",
       " 'EBROOTGLIB': '/sw/arch/Debian9/EB_production/2019/software/GLib/2.54.3-GCCcore-7.3.0',\n",
       " 'SARA_CFLAGS': ' ',\n",
       " 'EBVERSIONLIBPCIACCESS': '0.14',\n",
       " 'EBVERSIONMESA': '18.1.1',\n",
       " 'EBDEVELPROJ': '/sw/arch/Debian9/EB_production/2019/software/PROJ/5.0.0-foss-2018b/easybuild/PROJ-5.0.0-foss-2018b-easybuild-devel',\n",
       " 'EBROOTLIBXML2': '/sw/arch/Debian9/EB_production/2019/software/libxml2/2.9.8-GCCcore-7.3.0',\n",
       " 'CURL_INCLUDES': '/sw/arch/Debian9/EB_production/2019/software/cURL/7.60.0-GCCcore-7.3.0/include',\n",
       " 'EBEXTSLISTPYTHON': 'setuptools-40.0.0,pip-18.0,nose-1.3.7,numpy-1.15.0,scipy-1.1.0,blist-1.3.6,mpi4py-3.0.0,paycheck-1.0.2,pbr-4.2.0,Cython-0.28.5,six-1.11.0,setuptools_scm-3.2.0,python-dateutil-2.7.3,deap-1.2.2,decorator-4.3.0,liac-arff-2.3,pycrypto-2.6.1,ecdsa-0.13,pycparser-2.18,cffi-1.11.5,asn1crypto-0.24.0,idna-2.7,cryptography-2.3.1,pyasn1-0.4.4,PyNaCl-1.2.1,bcrypt-3.1.4,paramiko-2.4.1,pyparsing-2.2.0,netifaces-0.10.7,netaddr-0.7.19,mock-2.0.0,pytz-2018.5,pandas-0.23.4,bitstring-3.1.5,virtualenv-16.0.0,docopt-0.6.2,joblib-0.12.2,chardet-3.0.4,certifi-2018.8.13,urllib3-1.23,requests-2.19.1,xlrd-1.1.0,py_expression_eval-0.3.4,mpmath-1.0.0,tabulate-0.8.2,ujson-1.35',\n",
       " 'ACLOCAL_PATH_modshare': '/sw/arch/Debian9/EB_production/2019/software/GSL/2.5-GCC-7.3.0-2.30/share/aclocal:1:/sw/arch/Debian9/EB_production/2019/software/gettext/0.19.8.1-GCCcore-7.3.0/share/aclocal:1:/sw/arch/Debian9/EB_production/2019/software/cURL/7.60.0-GCCcore-7.3.0/share/aclocal:1:/sw/arch/Debian9/EB_production/2019/software/X11/20180604-GCCcore-7.3.0/share/aclocal:1:/sw/arch/Debian9/EB_production/2019/software/GLib/2.54.3-GCCcore-7.3.0/share/aclocal:1:/sw/arch/Debian9/EB_production/2019/software/freetype/2.9.1-GCCcore-7.3.0/share/aclocal:1:/sw/arch/Debian9/EB_production/2019/software/libxml2/2.9.8-GCCcore-7.3.0/share/aclocal:1',\n",
       " 'EBVERSIONLIBXML2': '2.9.8',\n",
       " 'CUDA_ROOT': '/sw/arch/Debian9/EB_production/2019/software/CUDA/10.0.130',\n",
       " 'EBDEVELLIBJPEGMINTURBO': '/sw/arch/Debian9/EB_production/2019/software/libjpeg-turbo/2.0.0-GCCcore-7.3.0/easybuild/libjpeg-turbo-2.0.0-GCCcore-7.3.0-easybuild-devel',\n",
       " 'EBDEVELX11': '/sw/arch/Debian9/EB_production/2019/software/X11/20180604-GCCcore-7.3.0/easybuild/X11-20180604-GCCcore-7.3.0-easybuild-devel',\n",
       " 'PERL_MM_OPT': 'INSTALL_BASE=/home/valeriuc/perl5',\n",
       " 'SLURM_JOB_NAME': 'jupyterhub-singleuser',\n",
       " 'EBROOTNASM': '/sw/arch/Debian9/EB_production/2019/software/NASM/2.13.03-GCCcore-7.3.0',\n",
       " 'EBVERSIONNCURSES': '6.1',\n",
       " 'EBDEVELUTILMINLINUX': '/sw/arch/Debian9/EB_production/2019/software/util-linux/2.32-GCCcore-7.3.0/easybuild/util-linux-2.32-GCCcore-7.3.0-easybuild-devel',\n",
       " 'TMPDIR': '/tmp',\n",
       " 'LIBRARY_PATH': '/sw/arch/Debian9/EB_production/2019/software/cuDNN/7.6.3-CUDA-10.0.130/lib64:/sw/arch/Debian9/EB_production/2019/software/CUDA/10.0.130/lib64/stubs:/sw/arch/Debian9/EB_production/2019/software/CUDA/10.0.130/lib64:/sw/arch/Debian9/EB_production/2019/software/R/3.5.1-foss-2018b/lib64/R/lib:/sw/arch/Debian9/EB_production/2019/software/R/3.5.1-foss-2018b/lib64:/sw/arch/Debian9/EB_production/2019/software/GSL/2.5-GCC-7.3.0-2.30/lib:/sw/arch/Debian9/EB_production/2019/software/UDUNITS/2.2.26-foss-2018b/lib:/sw/arch/Debian9/EB_production/2019/software/ICU/61.1-GCCcore-7.3.0/lib:/sw/arch/Debian9/EB_production/2019/software/libsndfile/1.0.28-GCCcore-7.3.0/lib:/sw/arch/Debian9/EB_production/2019/software/NLopt/2.4.2-GCCcore-7.3.0/lib:/sw/arch/Debian9/EB_production/2019/software/GDAL/2.2.3-foss-2018b-Python-3.6.6/lib:/sw/arch/Debian9/EB_production/2019/software/libgeotiff/1.4.2-foss-2018b/lib:/sw/arch/Debian9/EB_production/2019/software/PROJ/5.0.0-foss-2018b/lib:/sw/arch/Debian9/EB_production/2019/software/JasPer/2.0.14-GCCcore-7.3.0/lib:/sw/arch/Debian9/EB_production/2019/software/GEOS/3.6.2-foss-2018b-Python-3.6.6/lib:/sw/arch/Debian9/EB_production/2019/software/netCDF/4.6.1-foss-2018b/lib:/sw/arch/Debian9/EB_production/2019/software/HDF5/1.10.2-foss-2018b/lib:/sw/arch/Debian9/EB_production/2019/software/Szip/2.1.1-GCCcore-7.3.0/lib:/sw/arch/Debian9/EB_production/2019/software/cURL/7.60.0-GCCcore-7.3.0/lib:/sw/arch/Debian9/EB_production/2019/software/Java/1.8.0_192/lib:/sw/arch/Debian9/EB_production/2019/software/LibTIFF/4.0.9-GCCcore-7.3.0/lib:/sw/arch/Debian9/EB_production/2019/software/libjpeg-turbo/2.0.0-GCCcore-7.3.0/lib:/sw/arch/Debian9/EB_production/2019/software/cairo/1.14.12-GCCcore-7.3.0/lib:/sw/arch/Debian9/EB_production/2019/software/GLib/2.54.3-GCCcore-7.3.0/lib:/sw/arch/Debian9/EB_production/2019/software/PCRE/8.41-GCCcore-7.3.0/lib:/sw/arch/Debian9/EB_production/2019/software/gettext/0.19.8.1-GCCcore-7.3.0/lib:/sw/arch/Debian9/EB_production/2019/software/pixman/0.34.0-GCCcore-7.3.0/lib:/sw/arch/Debian9/EB_production/2019/software/libGLU/9.0.0-foss-2018b/lib:/sw/arch/Debian9/EB_production/2019/software/Mesa/18.1.1-foss-2018b/lib:/sw/arch/Debian9/EB_production/2019/software/libunwind/1.2.1-GCCcore-7.3.0/lib:/sw/arch/Debian9/EB_production/2019/software/LLVM/6.0.0-GCCcore-7.3.0/lib:/sw/arch/Debian9/EB_production/2019/software/libdrm/2.4.92-GCCcore-7.3.0/lib:/sw/arch/Debian9/EB_production/2019/software/nettle/3.4-GCCcore-7.3.0/lib64:/sw/arch/Debian9/EB_production/2019/software/jupyterhub/1.0.0-foss-2018b-Python-3.6.6/lib:/sw/arch/Debian9/EB_production/2019/software/configurable-http-proxy/4.1.0-foss-2018b-nodejs-10.15.1/lib:/sw/arch/Debian9/EB_production/2019/software/nodejs/10.15.1-foss-2018b/lib:/sw/arch/Debian9/EB_production/2019/software/IPython/7.2.0-foss-2018b-Python-3.6.6/lib:/sw/arch/Debian9/EB_production/2019/software/matplotlib/3.0.0-foss-2018b-Python-3.6.6/lib:/sw/arch/Debian9/EB_production/2019/software/Tkinter/3.6.6-foss-2018b-Python-3.6.6/lib:/sw/arch/Debian9/EB_production/2019/software/Tk/8.6.8-GCCcore-7.3.0/lib:/sw/arch/Debian9/EB_production/2019/software/X11/20180604-GCCcore-7.3.0/lib:/sw/arch/Debian9/EB_production/2019/software/fontconfig/2.13.0-GCCcore-7.3.0/lib:/sw/arch/Debian9/EB_production/2019/software/expat/2.2.5-GCCcore-7.3.0/lib:/sw/arch/Debian9/EB_production/2019/software/freetype/2.9.1-GCCcore-7.3.0/lib:/sw/arch/Debian9/EB_production/2019/software/libpng/1.6.34-GCCcore-7.3.0/lib:/sw/arch/Debian9/EB_production/2019/software/ZeroMQ/4.2.5-foss-2018b/lib:/sw/arch/Debian9/EB_production/2019/software/libsodium/1.0.16-GCCcore-7.3.0/lib:/sw/arch/Debian9/EB_production/2019/software/util-linux/2.32-GCCcore-7.3.0/lib:/sw/arch/Debian9/EB_production/2019/software/OpenPGM/5.2.122-GCCcore-7.3.0/lib:/sw/arch/Debian9/EB_production/2019/software/Python/3.6.6-foss-2018b/lib/python3.6/site-packages/numpy-1.15.0-py3.6-linux-x86_64.egg/numpy/core/lib:/sw/arch/Debian9/EB_production/2019/software/Python/3.6.6-foss-2018b/lib:/sw/arch/Debian9/EB_production/2019/software/libffi/3.2.1-GCCcore-7.3.0/lib64:/sw/arch/Debian9/EB_production/2019/software/libffi/3.2.1-GCCcore-7.3.0/lib:/sw/arch/Debian9/EB_production/2019/software/GMP/6.1.2-GCCcore-7.3.0/lib:/sw/arch/Debian9/EB_production/2019/software/SQLite/3.24.0-GCCcore-7.3.0/lib:/sw/arch/Debian9/EB_production/2019/software/Tcl/8.6.8-GCCcore-7.3.0/lib:/sw/arch/Debian9/EB_production/2019/software/libreadline/7.0-GCCcore-7.3.0/lib:/sw/arch/Debian9/EB_production/2019/software/ncurses/6.1-GCCcore-7.3.0/lib:/sw/arch/Debian9/EB_production/2019/software/bzip2/1.0.6-GCCcore-7.3.0/lib:/sw/arch/Debian9/EB_production/2019/software/ScaLAPACK/2.0.2-gompi-2018b-OpenBLAS-0.3.1/lib:/sw/arch/Debian9/EB_production/2019/software/FFTW/3.3.8-gompi-2018b/lib:/sw/arch/Debian9/EB_production/2019/software/OpenBLAS/0.3.1-GCC-7.3.0-2.30/lib:/sw/arch/Debian9/EB_production/2019/software/OpenMPI/3.1.1-GCC-7.3.0-2.30/lib:/sw/arch/Debian9/EB_production/2019/software/hwloc/1.11.10-GCCcore-7.3.0/lib:/sw/arch/Debian9/EB_production/2019/software/libpciaccess/0.14-GCCcore-7.3.0/lib:/sw/arch/Debian9/EB_production/2019/software/libxml2/2.9.8-GCCcore-7.3.0/lib:/sw/arch/Debian9/EB_production/2019/software/XZ/5.2.4-GCCcore-7.3.0/lib:/sw/arch/Debian9/EB_production/2019/software/numactl/2.0.11-GCCcore-7.3.0/lib:/sw/arch/Debian9/EB_production/2019/software/binutils/2.30-GCCcore-7.3.0/lib:/sw/arch/Debian9/EB_production/2019/software/zlib/1.2.11-GCCcore-7.3.0/lib:/sw/arch/Debian9/EB_production/2019/software/GCCcore/7.3.0/lib64:/sw/arch/Debian9/EB_production/2019/software/GCCcore/7.3.0/lib',\n",
       " 'SLURM_JOB_GPUS': '0',\n",
       " 'EBROOTPYTHON': '/sw/arch/Debian9/EB_production/2019/software/Python/3.6.6-foss-2018b',\n",
       " 'SLURM_JOBID': '4438540',\n",
       " 'EBROOTTKINTER': '/sw/arch/Debian9/EB_production/2019/software/Tkinter/3.6.6-foss-2018b-Python-3.6.6',\n",
       " 'EBDEVELGOMPI': '/sw/arch/Debian9/EB_production/2019/software/gompi/2018b/easybuild/gompi-2018b-easybuild-devel',\n",
       " 'EBDEVELLIBSODIUM': '/sw/arch/Debian9/EB_production/2019/software/libsodium/1.0.16-GCCcore-7.3.0/easybuild/libsodium-1.0.16-GCCcore-7.3.0-easybuild-devel',\n",
       " 'EBEXTSLISTMATPLOTLIB': 'Cycler-0.10.0,kiwisolver-1.0.1,matplotlib-3.0.0',\n",
       " 'LOADEDMODULES': 'compilerwrappers:slurm-tools:surfsara/1.2:2019:GCCcore/7.3.0:zlib/1.2.11-GCCcore-7.3.0:binutils/2.30-GCCcore-7.3.0:GCC/7.3.0-2.30:numactl/2.0.11-GCCcore-7.3.0:XZ/5.2.4-GCCcore-7.3.0:libxml2/2.9.8-GCCcore-7.3.0:libpciaccess/0.14-GCCcore-7.3.0:hwloc/1.11.10-GCCcore-7.3.0:OpenMPI/3.1.1-GCC-7.3.0-2.30:OpenBLAS/0.3.1-GCC-7.3.0-2.30:gompi/2018b:FFTW/3.3.8-gompi-2018b:ScaLAPACK/2.0.2-gompi-2018b-OpenBLAS-0.3.1:foss/2018b:bzip2/1.0.6-GCCcore-7.3.0:ncurses/6.1-GCCcore-7.3.0:libreadline/7.0-GCCcore-7.3.0:Tcl/8.6.8-GCCcore-7.3.0:SQLite/3.24.0-GCCcore-7.3.0:GMP/6.1.2-GCCcore-7.3.0:libffi/3.2.1-GCCcore-7.3.0:Python/3.6.6-foss-2018b:OpenPGM/5.2.122-GCCcore-7.3.0:util-linux/2.32-GCCcore-7.3.0:libsodium/1.0.16-GCCcore-7.3.0:ZeroMQ/4.2.5-foss-2018b:libpng/1.6.34-GCCcore-7.3.0:freetype/2.9.1-GCCcore-7.3.0:expat/2.2.5-GCCcore-7.3.0:fontconfig/2.13.0-GCCcore-7.3.0:X11/20180604-GCCcore-7.3.0:Tk/8.6.8-GCCcore-7.3.0:Tkinter/3.6.6-foss-2018b-Python-3.6.6:matplotlib/3.0.0-foss-2018b-Python-3.6.6:IPython/7.2.0-foss-2018b-Python-3.6.6:nodejs/10.15.1-foss-2018b:configurable-http-proxy/4.1.0-foss-2018b-nodejs-10.15.1:jupyterhub/1.0.0-foss-2018b-Python-3.6.6:nettle/3.4-GCCcore-7.3.0:libdrm/2.4.92-GCCcore-7.3.0:LLVM/6.0.0-GCCcore-7.3.0:libunwind/1.2.1-GCCcore-7.3.0:Mesa/18.1.1-foss-2018b:libGLU/9.0.0-foss-2018b:pixman/0.34.0-GCCcore-7.3.0:gettext/0.19.8.1-GCCcore-7.3.0:PCRE/8.41-GCCcore-7.3.0:GLib/2.54.3-GCCcore-7.3.0:cairo/1.14.12-GCCcore-7.3.0:NASM/2.13.03-GCCcore-7.3.0:libjpeg-turbo/2.0.0-GCCcore-7.3.0:LibTIFF/4.0.9-GCCcore-7.3.0:Java/1.8.0_192:cURL/7.60.0-GCCcore-7.3.0:Szip/2.1.1-GCCcore-7.3.0:HDF5/1.10.2-foss-2018b:netCDF/4.6.1-foss-2018b:GEOS/3.6.2-foss-2018b-Python-3.6.6:JasPer/2.0.14-GCCcore-7.3.0:PROJ/5.0.0-foss-2018b:libgeotiff/1.4.2-foss-2018b:GDAL/2.2.3-foss-2018b-Python-3.6.6:NLopt/2.4.2-GCCcore-7.3.0:libsndfile/1.0.28-GCCcore-7.3.0:ICU/61.1-GCCcore-7.3.0:UDUNITS/2.2.26-foss-2018b:GSL/2.5-GCC-7.3.0-2.30:R/3.5.1-foss-2018b:IRkernel/1.0.2-foss-2018b-R-3.5.1-Python-3.6.6:jupyterlmod/1.7.5-foss-2018b-Python-3.6.6:CUDA/10.0.130:cuDNN/7.6.3-CUDA-10.0.130',\n",
       " 'EBDEVELJUPYTERHUB': '/sw/arch/Debian9/EB_production/2019/software/jupyterhub/1.0.0-foss-2018b-Python-3.6.6/easybuild/jupyterhub-1.0.0-foss-2018b-Python-3.6.6-easybuild-devel',\n",
       " 'PERL_LOCAL_LIB_ROOT': '/home/valeriuc/perl5',\n",
       " 'EBDEVELLIBPNG': '/sw/arch/Debian9/EB_production/2019/software/libpng/1.6.34-GCCcore-7.3.0/easybuild/libpng-1.6.34-GCCcore-7.3.0-easybuild-devel',\n",
       " 'EBDEVELOPENMPI': '/sw/arch/Debian9/EB_production/2019/software/OpenMPI/3.1.1-GCC-7.3.0-2.30/easybuild/OpenMPI-3.1.1-GCC-7.3.0-2.30-easybuild-devel',\n",
       " 'EBDEVELOPENPGM': '/sw/arch/Debian9/EB_production/2019/software/OpenPGM/5.2.122-GCCcore-7.3.0/easybuild/OpenPGM-5.2.122-GCCcore-7.3.0-easybuild-devel',\n",
       " 'EBDEVELHDF5': '/sw/arch/Debian9/EB_production/2019/software/HDF5/1.10.2-foss-2018b/easybuild/HDF5-1.10.2-foss-2018b-easybuild-devel',\n",
       " 'JUPYTERHUB_SERVICE_PREFIX': '/course/user/valeriuc/',\n",
       " 'EBVERSIONZLIB': '1.2.11',\n",
       " 'EBVERSIONPYTHON': '3.6.6',\n",
       " 'EBROOTZEROMQ': '/sw/arch/Debian9/EB_production/2019/software/ZeroMQ/4.2.5-foss-2018b',\n",
       " 'HDF5_DIR': '/sw/arch/Debian9/EB_production/2019/software/HDF5/1.10.2-foss-2018b',\n",
       " 'EBROOTTCL': '/sw/arch/Debian9/EB_production/2019/software/Tcl/8.6.8-GCCcore-7.3.0',\n",
       " 'SLURM_JOB_QOS': 'default',\n",
       " 'SLURM_TOPOLOGY_ADDR_PATTERN': 'switch.switch.switch.switch.node',\n",
       " 'EBDEVELMATPLOTLIB': '/sw/arch/Debian9/EB_production/2019/software/matplotlib/3.0.0-foss-2018b-Python-3.6.6/easybuild/matplotlib-3.0.0-foss-2018b-Python-3.6.6-easybuild-devel',\n",
       " 'SUDO_UID': '0',\n",
       " 'EBDEVELNLOPT': '/sw/arch/Debian9/EB_production/2019/software/NLopt/2.4.2-GCCcore-7.3.0/easybuild/NLopt-2.4.2-GCCcore-7.3.0-easybuild-devel',\n",
       " 'MAIL': '/var/mail/valeriuc',\n",
       " 'EBVERSIONLIBGLU': '9.0.0',\n",
       " 'EBROOTLIBTIFF': '/sw/arch/Debian9/EB_production/2019/software/LibTIFF/4.0.9-GCCcore-7.3.0',\n",
       " 'JUPYTERHUB_SERVER_NAME': '',\n",
       " 'EBDEVELLIBPCIACCESS': '/sw/arch/Debian9/EB_production/2019/software/libpciaccess/0.14-GCCcore-7.3.0/easybuild/libpciaccess-0.14-GCCcore-7.3.0-easybuild-devel',\n",
       " 'SLURM_CPUS_ON_NODE': '3',\n",
       " 'EBROOTMESA': '/sw/arch/Debian9/EB_production/2019/software/Mesa/18.1.1-foss-2018b',\n",
       " 'SLURM_JOB_NUM_NODES': '1',\n",
       " 'EBDEVELJUPYTERLMOD': '/sw/arch/Debian9/EB_production/2019/software/jupyterlmod/1.7.5-foss-2018b-Python-3.6.6/easybuild/jupyterlmod-1.7.5-foss-2018b-Python-3.6.6-easybuild-devel',\n",
       " 'SLURM_MEM_PER_NODE': '49152',\n",
       " 'EBROOTFFTW': '/sw/arch/Debian9/EB_production/2019/software/FFTW/3.3.8-gompi-2018b',\n",
       " 'EBVERSIONOPENPGM': '5.2.122',\n",
       " 'TERM': 'xterm-color',\n",
       " 'SHELL': '/bin/bash',\n",
       " 'EBDEVELLIBFFI': '/sw/arch/Debian9/EB_production/2019/software/libffi/3.2.1-GCCcore-7.3.0/easybuild/libffi-3.2.1-GCCcore-7.3.0-easybuild-devel',\n",
       " 'EBVERSIONLIBJPEGMINTURBO': '2.0.0',\n",
       " 'EBVERSIONGSL': '2.5',\n",
       " 'EBDEVELGCCCORE': '/sw/arch/Debian9/EB_production/2019/software/GCCcore/7.3.0/easybuild/GCCcore-7.3.0-easybuild-devel',\n",
       " 'MPLBACKEND': 'Agg',\n",
       " 'EBROOTHWLOC': '/sw/arch/Debian9/EB_production/2019/software/hwloc/1.11.10-GCCcore-7.3.0',\n",
       " 'SLURM_JOB_UID': '41744',\n",
       " 'EBROOTGEOS': '/sw/arch/Debian9/EB_production/2019/software/GEOS/3.6.2-foss-2018b-Python-3.6.6',\n",
       " 'SURFSARA_LIBRARY_PATH': '/sw/arch/Debian9/EB_production/2019/software/cuDNN/7.6.3-CUDA-10.0.130/lib64:/sw/arch/Debian9/EB_production/2019/software/CUDA/10.0.130/lib64/stubs:/sw/arch/Debian9/EB_production/2019/software/CUDA/10.0.130/lib64:/sw/arch/Debian9/EB_production/2019/software/R/3.5.1-foss-2018b/lib64/R/lib:/sw/arch/Debian9/EB_production/2019/software/R/3.5.1-foss-2018b/lib64:/sw/arch/Debian9/EB_production/2019/software/GSL/2.5-GCC-7.3.0-2.30/lib:/sw/arch/Debian9/EB_production/2019/software/UDUNITS/2.2.26-foss-2018b/lib:/sw/arch/Debian9/EB_production/2019/software/ICU/61.1-GCCcore-7.3.0/lib:/sw/arch/Debian9/EB_production/2019/software/libsndfile/1.0.28-GCCcore-7.3.0/lib:/sw/arch/Debian9/EB_production/2019/software/NLopt/2.4.2-GCCcore-7.3.0/lib:/sw/arch/Debian9/EB_production/2019/software/GDAL/2.2.3-foss-2018b-Python-3.6.6/lib:/sw/arch/Debian9/EB_production/2019/software/libgeotiff/1.4.2-foss-2018b/lib:/sw/arch/Debian9/EB_production/2019/software/PROJ/5.0.0-foss-2018b/lib:/sw/arch/Debian9/EB_production/2019/software/JasPer/2.0.14-GCCcore-7.3.0/lib:/sw/arch/Debian9/EB_production/2019/software/GEOS/3.6.2-foss-2018b-Python-3.6.6/lib:/sw/arch/Debian9/EB_production/2019/software/netCDF/4.6.1-foss-2018b/lib:/sw/arch/Debian9/EB_production/2019/software/HDF5/1.10.2-foss-2018b/lib:/sw/arch/Debian9/EB_production/2019/software/Szip/2.1.1-GCCcore-7.3.0/lib:/sw/arch/Debian9/EB_production/2019/software/cURL/7.60.0-GCCcore-7.3.0/lib:/sw/arch/Debian9/EB_production/2019/software/Java/1.8.0_192/lib:/sw/arch/Debian9/EB_production/2019/software/LibTIFF/4.0.9-GCCcore-7.3.0/lib:/sw/arch/Debian9/EB_production/2019/software/libjpeg-turbo/2.0.0-GCCcore-7.3.0/lib:/sw/arch/Debian9/EB_production/2019/software/cairo/1.14.12-GCCcore-7.3.0/lib:/sw/arch/Debian9/EB_production/2019/software/GLib/2.54.3-GCCcore-7.3.0/lib:/sw/arch/Debian9/EB_production/2019/software/PCRE/8.41-GCCcore-7.3.0/lib:/sw/arch/Debian9/EB_production/2019/software/gettext/0.19.8.1-GCCcore-7.3.0/lib:/sw/arch/Debian9/EB_production/2019/software/pixman/0.34.0-GCCcore-7.3.0/lib:/sw/arch/Debian9/EB_production/2019/software/libGLU/9.0.0-foss-2018b/lib:/sw/arch/Debian9/EB_production/2019/software/Mesa/18.1.1-foss-2018b/lib:/sw/arch/Debian9/EB_production/2019/software/libunwind/1.2.1-GCCcore-7.3.0/lib:/sw/arch/Debian9/EB_production/2019/software/LLVM/6.0.0-GCCcore-7.3.0/lib:/sw/arch/Debian9/EB_production/2019/software/libdrm/2.4.92-GCCcore-7.3.0/lib:/sw/arch/Debian9/EB_production/2019/software/nettle/3.4-GCCcore-7.3.0/lib64:/sw/arch/Debian9/EB_production/2019/software/jupyterhub/1.0.0-foss-2018b-Python-3.6.6/lib:/sw/arch/Debian9/EB_production/2019/software/configurable-http-proxy/4.1.0-foss-2018b-nodejs-10.15.1/lib:/sw/arch/Debian9/EB_production/2019/software/nodejs/10.15.1-foss-2018b/lib:/sw/arch/Debian9/EB_production/2019/software/IPython/7.2.0-foss-2018b-Python-3.6.6/lib:/sw/arch/Debian9/EB_production/2019/software/matplotlib/3.0.0-foss-2018b-Python-3.6.6/lib:/sw/arch/Debian9/EB_production/2019/software/Tkinter/3.6.6-foss-2018b-Python-3.6.6/lib:/sw/arch/Debian9/EB_production/2019/software/Tk/8.6.8-GCCcore-7.3.0/lib:/sw/arch/Debian9/EB_production/2019/software/X11/20180604-GCCcore-7.3.0/lib:/sw/arch/Debian9/EB_production/2019/software/fontconfig/2.13.0-GCCcore-7.3.0/lib:/sw/arch/Debian9/EB_production/2019/software/expat/2.2.5-GCCcore-7.3.0/lib:/sw/arch/Debian9/EB_production/2019/software/freetype/2.9.1-GCCcore-7.3.0/lib:/sw/arch/Debian9/EB_production/2019/software/libpng/1.6.34-GCCcore-7.3.0/lib:/sw/arch/Debian9/EB_production/2019/software/ZeroMQ/4.2.5-foss-2018b/lib:/sw/arch/Debian9/EB_production/2019/software/libsodium/1.0.16-GCCcore-7.3.0/lib:/sw/arch/Debian9/EB_production/2019/software/util-linux/2.32-GCCcore-7.3.0/lib:/sw/arch/Debian9/EB_production/2019/software/OpenPGM/5.2.122-GCCcore-7.3.0/lib:/sw/arch/Debian9/EB_production/2019/software/Python/3.6.6-foss-2018b/lib/python3.6/site-packages/numpy-1.15.0-py3.6-linux-x86_64.egg/numpy/core/lib:/sw/arch/Debian9/EB_production/2019/software/Python/3.6.6-foss-2018b/lib:/sw/arch/Debian9/EB_production/2019/software/libffi/3.2.1-GCCcore-7.3.0/lib64:/sw/arch/Debian9/EB_production/2019/software/libffi/3.2.1-GCCcore-7.3.0/lib:/sw/arch/Debian9/EB_production/2019/software/GMP/6.1.2-GCCcore-7.3.0/lib:/sw/arch/Debian9/EB_production/2019/software/SQLite/3.24.0-GCCcore-7.3.0/lib:/sw/arch/Debian9/EB_production/2019/software/Tcl/8.6.8-GCCcore-7.3.0/lib:/sw/arch/Debian9/EB_production/2019/software/libreadline/7.0-GCCcore-7.3.0/lib:/sw/arch/Debian9/EB_production/2019/software/ncurses/6.1-GCCcore-7.3.0/lib:/sw/arch/Debian9/EB_production/2019/software/bzip2/1.0.6-GCCcore-7.3.0/lib:/sw/arch/Debian9/EB_production/2019/software/ScaLAPACK/2.0.2-gompi-2018b-OpenBLAS-0.3.1/lib:/sw/arch/Debian9/EB_production/2019/software/FFTW/3.3.8-gompi-2018b/lib:/sw/arch/Debian9/EB_production/2019/software/OpenBLAS/0.3.1-GCC-7.3.0-2.30/lib:/sw/arch/Debian9/EB_production/2019/software/OpenMPI/3.1.1-GCC-7.3.0-2.30/lib:/sw/arch/Debian9/EB_production/2019/software/hwloc/1.11.10-GCCcore-7.3.0/lib:/sw/arch/Debian9/EB_production/2019/software/libpciaccess/0.14-GCCcore-7.3.0/lib:/sw/arch/Debian9/EB_production/2019/software/libxml2/2.9.8-GCCcore-7.3.0/lib:/sw/arch/Debian9/EB_production/2019/software/XZ/5.2.4-GCCcore-7.3.0/lib:/sw/arch/Debian9/EB_production/2019/software/numactl/2.0.11-GCCcore-7.3.0/lib:/sw/arch/Debian9/EB_production/2019/software/binutils/2.30-GCCcore-7.3.0/lib:/sw/arch/Debian9/EB_production/2019/software/zlib/1.2.11-GCCcore-7.3.0/lib:/sw/arch/Debian9/EB_production/2019/software/GCCcore/7.3.0/lib64:/sw/arch/Debian9/EB_production/2019/software/GCCcore/7.3.0/lib',\n",
       " 'MANPATH_modshare': '/sw/arch/Debian9/EB_production/2019/software/PCRE/8.41-GCCcore-7.3.0/share/man:1:/sw/arch/Debian9/EB_production/2019/software/Tcl/8.6.8-GCCcore-7.3.0/share/man:1:/sw/arch/Debian9/EB_production/2019/software/binutils/2.30-GCCcore-7.3.0/share/man:1:/sw/arch/Debian9/EB_production/2019/software/hwloc/1.11.10-GCCcore-7.3.0/share/man:1:/sw/arch/Debian9/EB_production/2019/software/libpng/1.6.34-GCCcore-7.3.0/share/man:1:/sw/arch/Debian9/EB_production/2019/software/FFTW/3.3.8-gompi-2018b/share/man:1:/sw/arch/Debian9/EB_production/2019/software/Tk/8.6.8-GCCcore-7.3.0/man:1:/sw/arch/Debian9/EB_production/2019/software/X11/20180604-GCCcore-7.3.0/share/man:1:/sw/arch/Debian9/EB_production/2019/software/expat/2.2.5-GCCcore-7.3.0/share/man:1:/sw/arch/Debian9/EB_production/2019/software/SQLite/3.24.0-GCCcore-7.3.0/share/man:1:/sw/arch/Debian9/EB_production/2019/software/bzip2/1.0.6-GCCcore-7.3.0/man:1:/sw/arch/Debian9/EB_production/2019/software/JasPer/2.0.14-GCCcore-7.3.0/share/man:1:/sw/arch/Debian9/EB_production/2019/software/libreadline/7.0-GCCcore-7.3.0/share/man:1:/sw/arch/Debian9/EB_production/2019/software/OpenMPI/3.1.1-GCC-7.3.0-2.30/share/man:1:/sw/arch/Debian9/EB_production/2019/software/util-linux/2.32-GCCcore-7.3.0/share/man:1:/sw/arch/Debian9/EB_production/2019/software/NLopt/2.4.2-GCCcore-7.3.0/share/man:1:/sw/arch/Debian9/EB_production/2019/software/LibTIFF/4.0.9-GCCcore-7.3.0/share/man:1:/sw/arch/Debian9/EB_production/2019/software/IPython/7.2.0-foss-2018b-Python-3.6.6/man:1:/sw/arch/Debian9/EB_production/2019/software/libxml2/2.9.8-GCCcore-7.3.0/share/man:1:/sw/arch/Debian9/EB_production/2019/software/Python/3.6.6-foss-2018b/share/man:1:/sw/arch/Debian9/EB_production/2019/software/XZ/5.2.4-GCCcore-7.3.0/share/man:1:/sw/arch/Debian9/EB_production/2019/software/libsndfile/1.0.28-GCCcore-7.3.0/share/man:1:/sw/arch/Debian9/EB_production/2019/software/Tcl/8.6.8-GCCcore-7.3.0/man:1:/sw/arch/Debian9/EB_production/2019/software/libjpeg-turbo/2.0.0-GCCcore-7.3.0/share/man:1:/sw/arch/Debian9/EB_production/2019/software/libunwind/1.2.1-GCCcore-7.3.0/share/man:1:/sw/arch/Debian9/EB_production/2019/software/libffi/3.2.1-GCCcore-7.3.0/share/man:1:/sw/arch/Debian9/EB_production/2019/software/GCCcore/7.3.0/share/man:1:/sw/arch/Debian9/EB_production/2019/software/ICU/61.1-GCCcore-7.3.0/share/man:1:/sw/arch/Debian9/EB_production/2019/software/netCDF/4.6.1-foss-2018b/share/man:1:/sw/arch/Debian9/EB_production/2019/software/cURL/7.60.0-GCCcore-7.3.0/share/man:1:/sw/arch/Debian9/EB_production/2019/software/libdrm/2.4.92-GCCcore-7.3.0/share/man:1:/sw/arch/Debian9/EB_production/2019/software/PROJ/5.0.0-foss-2018b/share/man:1:/sw/arch/Debian9/EB_production/2019/software/GLib/2.54.3-GCCcore-7.3.0/share/man:1:/sw/arch/Debian9/EB_production/2019/software/ncurses/6.1-GCCcore-7.3.0/share/man:1:/sw/arch/Debian9/EB_production/2019/software/ZeroMQ/4.2.5-foss-2018b/share/man:1:/sw/arch/Debian9/EB_production/2019/software/GSL/2.5-GCC-7.3.0-2.30/share/man:1:/sw/arch/Debian9/EB_production/2019/software/libgeotiff/1.4.2-foss-2018b/share/man:1:/sw/arch/Debian9/EB_production/2019/software/Java/1.8.0_192/man:1:/sw/arch/Debian9/EB_production/2019/software/gettext/0.19.8.1-GCCcore-7.3.0/share/man:1:/sw/arch/Debian9/EB_production/2019/software/zlib/1.2.11-GCCcore-7.3.0/share/man:1:/sw/arch/Debian9/EB_production/2019/software/R/3.5.1-foss-2018b/share/man:1:/sw/arch/Debian9/EB_production/2019/software/nodejs/10.15.1-foss-2018b/share/man:1:/sw/arch/Debian9/EB_production/2019/software/IPython/7.2.0-foss-2018b-Python-3.6.6/share/man:1:/sw/arch/Debian9/EB_production/2019/software/NASM/2.13.03-GCCcore-7.3.0/share/man:1:/sw/arch/Debian9/EB_production/2019/software/freetype/2.9.1-GCCcore-7.3.0/share/man:1:/sw/arch/Debian9/EB_production/2019/software/numactl/2.0.11-GCCcore-7.3.0/share/man:1',\n",
       " 'SLURM_JOB_PARTITION': 'gpu_shared',\n",
       " 'EBEXTSLISTIPYTHON': 'Pygments-2.3.0,ipython_genutils-0.2.0,ipython-7.2.0,pexpect-4.6.0,pickleshare-0.7.5,wcwidth-0.1.7,prompt_toolkit-2.0.7,ptyprocess-0.6.0,simplegeneric-0.8.1,traitlets-4.3.2,parso-0.3.1,jedi-0.13.1,testpath-0.4.2,nose-1.3.7,MarkupSafe-1.1.0,Jinja2-2.10,Send2Trash-1.5.0,webencodings-0.5.1,html5lib-1.0.1,bleach-3.0.2,jsonschema-2.6.0,pandocfilters-1.4.2,pyzmq-17.1.2,entrypoints-0.2.3,jupyter_core-4.4.0,nbformat-4.4.0,mistune-0.8.4,defusedxml-0.5.0,nbconvert-5.4.0,terminado-0.8.1,tornado-5.1.1,jupyter_client-5.2.3,backcall-0.1.0,ipykernel-5.1.0,prometheus_client-0.4.2,notebook-5.7.2',\n",
       " 'EBDEVELNCURSES': '/sw/arch/Debian9/EB_production/2019/software/ncurses/6.1-GCCcore-7.3.0/easybuild/ncurses-6.1-GCCcore-7.3.0-easybuild-devel',\n",
       " 'EBVERSIONBZIP2': '1.0.6',\n",
       " 'EBVERSIONLIBPNG': '1.6.34',\n",
       " 'EBVERSIONJUPYTERLMOD': '1.7.5',\n",
       " 'EBVERSIONPIXMAN': '0.34.0',\n",
       " 'EBDEVELGDAL': '/sw/arch/Debian9/EB_production/2019/software/GDAL/2.2.3-foss-2018b-Python-3.6.6/easybuild/GDAL-2.2.3-foss-2018b-Python-3.6.6-easybuild-devel',\n",
       " 'PERL5LIB': '/home/valeriuc/perl5/lib/perl5',\n",
       " 'EBVERSIONNETCDF': '4.6.1',\n",
       " 'EBDEVELPCRE': '/sw/arch/Debian9/EB_production/2019/software/PCRE/8.41-GCCcore-7.3.0/easybuild/PCRE-8.41-GCCcore-7.3.0-easybuild-devel',\n",
       " 'EBEXTSLISTR': 'b-a,d-a,g-r,g-r,g-r,m-e,s-p,s-t,s-t,t-o,u-t,Rmpi-0.6-7,abind-1.4-5,magic-1.5-8,geometry-0.3-6,bit-1.1-14,filehash-2.4-1,ff-2.2-14,bnlearn-4.3,bootstrap-2017.2,combinat-0.0-8,deal-1.2-37,fdrtool-1.2.15,formatR-1.5,gtools-3.8.1,gdata-2.18.0,GSA-1.03,highr-0.7,infotheo-1.2.0,lars-1.2,lazy-1.2-16,kernlab-0.9-27,mime-0.5,markdown-0.8,mlbench-2.1-1,NLP-0.1-11,mclust-5.4.1,RANN-2.6,rmeta-3.0,segmented-0.5-3.0,som-0.3-5.1,SuppDists-1.1-9.4,stabledist-0.7-1,survivalROC-1.0.3,pspline-1.0-18,timeDate-3043.102,longmemo-1.0-0,ADGofTest-0.3,MASS-7.3-50,ade4-1.7-11,AlgDesign-1.1-7.3,base64enc-0.1-3,BH-1.66.0-1,brew-1.0-6,Brobdingnag-1.2-6,corpcor-1.6.9,longitudinal-1.1.12,backports-1.1.2,checkmate-1.8.5,Rcpp-0.12.18,cubature-1.4,DEoptimR-1.0-8,digest-0.6.15,fastmatch-1.1-0,ffbase-0.12.3,iterators-1.0.10,maps-3.3.0,nnls-1.4,sendmailR-1.2-1,dotCall64-1.0-0,spam-2.2-0,subplex-1.5-4,stringi-1.2.4,magrittr-1.5,glue-1.3.0,stringr-1.3.1,evaluate-0.11,logspline-2.1.11,ncbit-2013.03.29,permute-0.9-4,plotrix-3.7-2,randomForest-4.6-14,scatterplot3d-0.3-41,SparseM-1.77,tripack-1.3-8,irace-3.1,rJava-0.9-10,lattice-0.20-35,RColorBrewer-1.1-2,latticeExtra-0.6-28,Matrix-1.2-14,png-0.1-7,RcppArmadillo-0.9.100.5.0,plyr-1.8.4,gtable-0.2.0,reshape2-1.4.3,dichromat-2.0-0,colorspace-1.3-2,munsell-0.5.0,labeling-0.3,R6-2.2.2,viridisLite-0.3.0,scales-1.0.0,rlang-0.2.2,assertthat-0.2.0,crayon-1.3.4,cli-1.0.0,utf8-1.1.4,fansi-0.3.0,pillar-1.3.0,tibble-1.4.2,lazyeval-0.2.1,withr-2.1.2,nlme-3.1-137,mgcv-1.8-24,ggplot2-3.0.0,pROC-1.12.1,quadprog-1.5-5,BB-2014.10-1,BBmisc-1.11,fail-1.3,rlecuyer-0.3-4,snow-0.4-2,tree-1.0-39,pls-2.6-0,class-7.3-14,e1071-1.7-0,nnet-7.3-12,minqa-1.2.4,RcppEigen-0.3.3.4.0,MatrixModels-0.4-1,quantreg-5.36,robustbase-0.93-2,sp-1.3-1,zoo-1.8-3,lmtest-0.9-36,vcd-1.4-4,snowfall-1.84-6.1,rpart-4.1-13,survival-2.42-6,pkgconfig-2.0.2,bindr-0.1.1,plogr-0.2.0,bindrcpp-0.2.2,purrr-0.2.5,tidyselect-0.2.4,dplyr-0.7.6,tidyr-0.8.1,mnormt-1.5-5,foreign-0.8-71,psych-1.8.4,broom-0.5.0,nloptr-1.0.4,lme4-1.1-18-1,jomo-2.6-3,hms-0.4.2,readr-1.1.1,forcats-0.3.0,haven-1.1.2,pan-1.6,mitml-0.3-6,mice-3.3.0,urca-1.3-0,fracdiff-1.4-2,logistf-1.23,akima-0.6-2,bitops-1.0-6,boot-1.3-20,mixtools-1.1.0,cluster-2.0.7-1,gclus-1.3.1,coda-0.19-1,codetools-0.2-15,foreach-1.4.4,doMC-1.3.5,DBI-1.0.0,gam-1.16,gamlss.data-5.0-1,gamlss.dist-5.0-6,gamlss-5.1-2,gamlss.tr-5.1-0,hwriter-1.3.2,KernSmooth-2.23-15,xts-0.11-0,curl-3.2,TTR-0.23-3,quantmod-0.4-13,mvtnorm-1.0-8,pcaPP-1.9-73,numDeriv-2016.8-1,SQUAREM-2017.10-1,lava-1.6.3,prodlim-2018.04.18,pscl-1.5.2,memoise-1.1.0,bit64-0.9-7,prettyunits-1.0.2,blob-1.1.1,RSQLite-2.1.1,data.table-1.11.4,BatchJobs-1.7,sandwich-2.5-0,sfsmisc-1.1-2,spatial-7.3-11,VGAM-1.0-5,waveslim-1.7.5,xtable-1.8-2,profileModel-0.5-9,brglm-0.6.1,deSolve-1.21,tseriesChaos-0.1-13,tseries-0.10-45,fastICA-1.2-1,R.methodsS3-1.7.1,R.oo-1.22.0,cgdsr-1.2.10,R.utils-2.6.0,R.matlab-3.6.1,gbm-2.1.3,Formula-1.2-3,acepack-1.4.1,proto-1.0.0,gridExtra-2.3,chron-2.3-52,viridis-0.5.1,yaml-2.2.0,jsonlite-1.5,htmltools-0.3.6,htmlwidgets-1.2,knitr-1.20,rstudioapi-0.7,htmlTable-1.12,Hmisc-4.1-1,fastcluster-1.1.25,registry-0.5,bibtex-0.4.2,pkgmaker-0.27,rngtools-1.3.1,doParallel-1.0.11,gridBase-0.4-7,NMF-0.21.0,irlba-2.3.2,igraph-1.2.2,GeneNet-1.2.13,ape-5.1,RJSONIO-1.3-0,caTools-1.17.1.1,gplots-3.0.1,ROCR-1.0-7,later-0.7.3,promises-1.0.1,httpuv-1.4.5,rjson-0.2.20,sourcetools-0.1.7,shiny-1.1.0,seqinr-3.4-5,LearnBayes-2.15.1,deldir-0.1-15,gmodels-2.18.1,expm-0.999-2,spData-0.2.9.3,spdep-0.7-8,vegan-2.5-2,adegenet-2.1.1,progress-1.2.0,rncl-0.8.3,XML-3.98-1.15,praise-1.0.0,testthat-2.0.0,rprojroot-1.3-2,xfun-0.3,tinytex-0.6,rmarkdown-1.10,openssl-1.0.2,httr-1.3.1,reshape-0.8.7,xml2-1.2.0,triebeard-0.3.0,urltools-1.7.1,httpcode-0.2.0,crul-0.6.0,bold-0.5.0,rredlist-0.5.0,rentrez-1.2.1,rotl-3.0.4,solrium-1.0.0,ritis-0.7.2,worrms-0.2.8,natserv-0.1.4,WikipediR-1.5.0,WikidataR-1.4.0,wikitaxa-0.2.0,taxize-0.9.4,uuid-0.1-2,RNeXML-2.1.2,phylobase-0.8.4,adephylo-1.1-11,animation-2.5,bigmemory.sri-0.1.3,bigmemory-4.5.33,calibrate-1.7.2,clusterGeneration-1.3.4,raster-2.6-7,dismo-1.1-4,extrafontdb-1.0,Rttf2pt1-1.3.7,extrafont-0.17,fields-9.6,shapefiles-0.7,fossil-0.3.7,geiger-2.0.6,glmnet-2.0-16,crosstalk-1.0.0,miniUI-0.1.1.1,ps-1.1.0,processx-3.2.0,webshot-0.5.0,manipulateWidget-0.10.0,rgl-0.99.16,labdsv-1.8-0,stabs-0.6-3,modeltools-0.2-22,strucchange-1.5-1,TH.data-1.0-9,multcomp-1.4-8,coin-1.2-2,party-1.3-1,libcoin-1.0-1,inum-1.0-0,partykit-1.2-2,mboost-2.9-0,msm-1.6.6,nor1mix-1.2-3,np-0.60-8,polynom-1.3-9,polspline-1.1.13,rms-5.1-2,RWekajars-3.9.2-1,RWeka-0.4-38,slam-0.1-43,tm-0.7-5,TraMineR-2.0-8,chemometrics-1.4.2,FNN-1.1.2.1,ipred-0.9-7,statmod-1.4.30,miscTools-0.6-22,maxLik-1.3-4,mlogit-0.3-0,getopt-1.20.2,gsalib-2.1,optparse-1.6.0,labelled-1.1.0,classInt-0.2-3,questionr-0.6.3,klaR-0.6-14,neuRosim-0.2-12,locfit-1.5-9.1,GGally-1.4.0,beanplot-1.2,clValid-0.6-6,matrixStats-0.54.0,DiscriMiner-0.1-29,ellipse-0.4.1,leaps-3.0,pbkrtest-0.4-7,carData-3.0-1,maptools-0.9-3,zip-1.0.0,openxlsx-4.1.0,rematch-1.0.1,cellranger-1.1.0,readxl-1.1.0,rio-0.5.10,car-3.0-0,flashClust-1.01-2,FactoMineR-1.41,flexclust-1.3-5,flexmix-2.3-14,prabclus-2.2-6,diptest-0.75-7,trimcluster-0.1-2.1,fpc-2.1-11.1,BiasedUrn-1.07,TeachingDemos-2.10,kohonen-3.0.6,base64-2.0,doRNG-1.7.1,nleqslv-3.3.2,Deriv-3.8.5,RGCCA-2.1.2,pheatmap-1.0.10,pvclust-2.0-0,RCircos-1.2.0,lambda.r-1.2.3,futile.options-1.0.1,futile.logger-1.4.3,VennDiagram-1.6.20,xlsxjars-0.6.1,xlsx-0.6.1,uroot-2.0-9,forecast-8.4,fma-2.3,expsmooth-2.3,fpp-0.5,tensor-1.5,polyclip-1.9-1,goftest-1.1-1,spatstat.utils-1.9-0,spatstat.data-1.3-1,spatstat-1.56-1,rgdal-1.3-4,gdalUtils-2.0.1.14,pracma-2.1.4,RCurl-1.95-4.11,bio3d-2.3-4,AUC-0.3.0,interpretR-0.2.4,cvAUC-1.1.0,SuperLearner-2.0-24,lpSolve-5.6.13,mediation-4.4.6,ModelMetrics-1.2.0,CVST-0.2-2,DRR-0.0.3,dimRed-0.1.0,lubridate-1.7.4,ddalpha-1.3.4,gower-0.1.2,RcppRoll-0.3.0,recipes-0.1.3,caret-6.0-80,adabag-4.2,parallelMap-1.3,ParamHelpers-1.11,ggvis-0.4.3,mlr-2.12.1,unbalanced-2.0,RSNNS-0.4-11,abc.data-1.0,abc-2.1,lhs-0.16,tensorA-0.36.1,EasyABC-1.5,shape-1.4.4,whisker-0.3-2,commonmark-1.5,desc-1.2.0,callr-2.0.4,pkgbuild-1.0.0,pkgload-1.0.0,roxygen2-6.1.0,git2r-0.23.0,rversions-1.0.3,devtools-1.13.6,Rook-1.1-1,Cairo-1.5-9,RMTstat-0.3,Lmoments-1.2-3,distillery-1.0-4,extRemes-2.0-9,pixmap-0.4-11,tkrplot-0.0-24,misc3d-0.8-4,multicool-0.1-10,plot3D-1.1.1,plot3Drgl-1.0.1,OceanView-1.0.4,ks-1.11.3,logcondens-2.1.5,Iso-0.0-17,penalized-0.9-51,clusterRepro-0.5-1.1,randomForestSRC-2.7.0,sm-2.2-5.5,pbivnorm-0.6.0,lavaan-0.6-2,matrixcalc-1.0-3,arm-1.10-1,mi-1.0,visNetwork-2.0.4,rgexf-0.15.3,influenceR-0.1.0,downloader-0.4,DiagrammeR-1.0.0,sem-3.1-9,jpeg-0.1-8,network-1.13.0.1,statnet.common-4.1.4,sna-2.4,glasso-1.10,huge-1.2.7,d3Network-0.5.2.1,ggm-2.3,BDgraph-2.51,pbapply-1.3-4,qgraph-1.5,HWxtest-1.1.7,diveRsity-1.9.90,doSNOW-1.0.16,phangorn-2.4.0,geepack-1.2-1,biom-0.3.12,pim-2.0.1,minpack.lm-1.2-1,rootSolve-1.7,diagram-1.6.4,FME-1.3.5,bmp-0.3,tiff-0.1-5,readbitmap-0.1.5,imager-0.41.1,signal-0.7-6,tuneR-1.3.3,pastecs-1.3.21,audio-0.1-5.1,fftw-1.0-4,seewave-2.1.0,gsw-1.0-5,oce-0.9-23,ineq-0.2-13,soundecology-1.3.3,memuse-4.0-0,pinfsc50-1.1.0,vcfR-1.8.0,glmmML-1.0.3,ucminf-1.1-4,ordinal-2018.4-19,Rtsne-0.13,cowplot-0.9.3,tsne-0.1-3,RcppProgress-0.4.1,sn-1.5-2,tclust-1.4-1,ranger-0.10.1,hexbin-1.27.2,pryr-0.1.4,moments-0.14,laeken-0.4.6,VIM-4.7.0,proxy-0.4-22,smoother-1.1,dynamicTreeCut-1.63-1,DT-0.4,beeswarm-0.2.3,vipor-0.4.5,ggbeeswarm-0.6.0,shinydashboard-0.7.0,rrcov-1.4-4,WriteXLS-4.0.0,bst-0.3-15,mpath-0.3-5,timereg-1.9.2,peperr-1.1-7,heatmap3-1.1.1,GlobalOptions-0.1.0,circlize-0.4.4,GetoptLong-0.1.7,dendextend-1.8.0,RInside-0.2.14,limSolve-1.5.5.3,dbplyr-1.2.2,modelr-0.1.2,debugme-1.1.0,clipr-0.4.1,reprex-0.2.0,selectr-0.4-1,rvest-0.3.2,tidyverse-1.2.1,R.cache-0.13.0,R.rsp-0.42.0,listenv-0.7.0,globals-0.12.1,future-1.9.0,gdistance-1.2-2,vioplot-0.2,emulator-1.2-17,gmm-1.6-2,tmvtnorm-1.4-10,IDPmisc-1.1.17,gap-1.1-22,qrnn-2.0.3,TMB-1.7.14,glmmTMB-0.2.2.0,DHARMa-0.2.0,bridgesampling-0.4-0,BayesianTools-0.1.5,gomms-1.0,feather-0.3.1,dummies-1.5.6,SimSeq-1.4.0,uniqueAtomMat-0.1-3-2,PoissonSeq-1.1.2,aod-1.3,cghFLasso-0.2-1,svd-0.4.1,Rssa-1.0,JBTools-0.7.2.9,RUnit-0.4.32,DistributionUtils-0.5-1,gapfill-0.9.6,gee-4.13-19,Matching-4.9-3,MatchIt-3.0.2,RItools-0.1-16,optmatch-0.9-10,SKAT-1.3.2.1,GillespieSSA-0.5-4,startupmsg-0.9.5,distr-2.7.0,distrEx-2.7.0,KODAMA-1.4,locfdr-1.1-8,ica-1.0-2,dtw-1.20-1,SDMTools-1.1-221,later-0.7.4,promises-1.0.1,ggridges-0.5.0,bibtex-0.4.2,gbRd-0.4-11,Rdpack-0.9-0,metap-1.0,lsei-1.2-0,npsurv-0.4-0,fitdistrplus-1.0-11,reticulate-1.10,hdf5r-1.0.0,DTRreg-1.3,pulsar-0.3.4,bayesm-3.1-0.1,energy-1.7-5,compositions-1.40-2,tweenr-0.1.5,units-0.6-1,ggforce-0.1.3,ggrepel-0.8.0,ggraph-1.0.2,tidygraph-1.1.0,clustree-0.2.2,plotly-4.8.0,tweedie-2.3.2,RcppGSL-0.3.6,mvabund-3.13.1,fishMod-0.29,gllvm-1.0,grpreg-3.2-0,trust-0.1-7,ergm-3.9.4,networkDynamic-0.9.0,tergm-3.5.2,ergm.count-3.3.0,tsna-0.2.0,statnet-2018.10,aggregation-1.0.1,NMF-0.21.0,ComICS-1.0.4,dtangle-0.3.1,mcmc-0.9-5,MCMCpack-1.4-4,shinythemes-1.1.2,csSAM-1.2.4,bridgedist-0.1.0',\n",
       " 'EBDEVELBINUTILS': '/sw/arch/Debian9/EB_production/2019/software/binutils/2.30-GCCcore-7.3.0/easybuild/binutils-2.30-GCCcore-7.3.0-easybuild-devel',\n",
       " 'EBROOTGMP': '/sw/arch/Debian9/EB_production/2019/software/GMP/6.1.2-GCCcore-7.3.0',\n",
       " 'EBROOTUTILMINLINUX': '/sw/arch/Debian9/EB_production/2019/software/util-linux/2.32-GCCcore-7.3.0',\n",
       " 'EBDEVELJASPER': '/sw/arch/Debian9/EB_production/2019/software/JasPer/2.0.14-GCCcore-7.3.0/easybuild/JasPer-2.0.14-GCCcore-7.3.0-easybuild-devel',\n",
       " 'EBROOTJUPYTERLMOD': '/sw/arch/Debian9/EB_production/2019/software/jupyterlmod/1.7.5-foss-2018b-Python-3.6.6',\n",
       " 'SLURM_JOB_USER': 'valeriuc',\n",
       " 'CUDA_VISIBLE_DEVICES': '0',\n",
       " 'SARA_CXXFLAGS_INTERNAL': '',\n",
       " 'SLURM_NPROCS': '3',\n",
       " 'JUPYTERHUB_API_URL': 'http://services1.lisa.surfsara.nl:8082/course/hub/api',\n",
       " 'SHLVL': '1',\n",
       " 'EBDEVELGETTEXT': '/sw/arch/Debian9/EB_production/2019/software/gettext/0.19.8.1-GCCcore-7.3.0/easybuild/gettext-0.19.8.1-GCCcore-7.3.0-easybuild-devel',\n",
       " 'PYTHONPATH_modshare': '/sw/arch/Debian9/EB_production/2019/software/GEOS/3.6.2-foss-2018b-Python-3.6.6/lib/python3.6/site-packages:1:/sw/arch/Debian9/EB_production/2019/software/Python/3.6.6-foss-2018b/easybuild/python:1:/sw/arch/Debian9/EB_production/2019/software/GDAL/2.2.3-foss-2018b-Python-3.6.6/lib/python3.6/site-packages:1:/sw/arch/Debian9/EB_production/2019/software/jupyterhub/1.0.0-foss-2018b-Python-3.6.6/lib/python3.6/site-packages:1:/sw/arch/Debian9/EB_production/2019/software/matplotlib/3.0.0-foss-2018b-Python-3.6.6/lib/python3.6/site-packages:1:/sw/arch/Debian9/EB_production/2019/software/jupyterlmod/1.7.5-foss-2018b-Python-3.6.6/lib/python3.6/site-packages:1:/sw/arch/Debian9/EB_production/2019/software/IPython/7.2.0-foss-2018b-Python-3.6.6/lib/python3.6/site-packages:1:/sw/arch/Debian9/EB_production/2019/software/Tkinter/3.6.6-foss-2018b-Python-3.6.6/lib/python3.6:1:/sw/arch/Debian9/EB_production/2019/software/Tkinter/3.6.6-foss-2018b-Python-3.6.6/easybuild/python:1',\n",
       " 'SLURM_SUBMIT_HOST': 'r32n3.lisa.surfsara.nl',\n",
       " 'PYTHONPATH': '/sw/arch/Debian9/EB_production/2019/software/jupyterlmod/1.7.5-foss-2018b-Python-3.6.6/lib/python3.6/site-packages:/sw/arch/Debian9/EB_production/2019/software/GDAL/2.2.3-foss-2018b-Python-3.6.6/lib/python3.6/site-packages:/sw/arch/Debian9/EB_production/2019/software/GEOS/3.6.2-foss-2018b-Python-3.6.6/lib/python3.6/site-packages:/sw/arch/Debian9/EB_production/2019/software/jupyterhub/1.0.0-foss-2018b-Python-3.6.6/lib/python3.6/site-packages:/sw/arch/Debian9/EB_production/2019/software/IPython/7.2.0-foss-2018b-Python-3.6.6/lib/python3.6/site-packages:/sw/arch/Debian9/EB_production/2019/software/matplotlib/3.0.0-foss-2018b-Python-3.6.6/lib/python3.6/site-packages:/sw/arch/Debian9/EB_production/2019/software/Tkinter/3.6.6-foss-2018b-Python-3.6.6/lib/python3.6:/sw/arch/Debian9/EB_production/2019/software/Tkinter/3.6.6-foss-2018b-Python-3.6.6/easybuild/python:/sw/arch/Debian9/EB_production/2019/software/Python/3.6.6-foss-2018b/easybuild/python',\n",
       " 'SURFSARA_LIBRARY_PATH_modshare': '/sw/arch/Debian9/EB_production/2019/software/hwloc/1.11.10-GCCcore-7.3.0/lib:1:/sw/arch/Debian9/EB_production/2019/software/UDUNITS/2.2.26-foss-2018b/lib:1:/sw/arch/Debian9/EB_production/2019/software/JasPer/2.0.14-GCCcore-7.3.0/lib:1:/sw/arch/Debian9/EB_production/2019/software/libpciaccess/0.14-GCCcore-7.3.0/lib:1:/sw/arch/Debian9/EB_production/2019/software/GCCcore/7.3.0/lib64:1:/sw/arch/Debian9/EB_production/2019/software/LibTIFF/4.0.9-GCCcore-7.3.0/lib:1:/sw/arch/Debian9/EB_production/2019/software/libxml2/2.9.8-GCCcore-7.3.0/lib:1:/sw/arch/Debian9/EB_production/2019/software/matplotlib/3.0.0-foss-2018b-Python-3.6.6/lib:1:/sw/arch/Debian9/EB_production/2019/software/libsndfile/1.0.28-GCCcore-7.3.0/lib:1:/sw/arch/Debian9/EB_production/2019/software/libjpeg-turbo/2.0.0-GCCcore-7.3.0/lib:1:/sw/arch/Debian9/EB_production/2019/software/libsodium/1.0.16-GCCcore-7.3.0/lib:1:/sw/arch/Debian9/EB_production/2019/software/libunwind/1.2.1-GCCcore-7.3.0/lib:1:/sw/arch/Debian9/EB_production/2019/software/R/3.5.1-foss-2018b/lib64:1:/sw/arch/Debian9/EB_production/2019/software/GCCcore/7.3.0/lib:1:/sw/arch/Debian9/EB_production/2019/software/Python/3.6.6-foss-2018b/lib/python3.6/site-packages/numpy-1.15.0-py3.6-linux-x86_64.egg/numpy/core/lib:1:/sw/arch/Debian9/EB_production/2019/software/ICU/61.1-GCCcore-7.3.0/lib:1:/sw/arch/Debian9/EB_production/2019/software/libdrm/2.4.92-GCCcore-7.3.0/lib:1:/sw/arch/Debian9/EB_production/2019/software/PROJ/5.0.0-foss-2018b/lib:1:/sw/arch/Debian9/EB_production/2019/software/ZeroMQ/4.2.5-foss-2018b/lib:1:/sw/arch/Debian9/EB_production/2019/software/bzip2/1.0.6-GCCcore-7.3.0/lib:1:/sw/arch/Debian9/EB_production/2019/software/HDF5/1.10.2-foss-2018b/lib:1:/sw/arch/Debian9/EB_production/2019/software/IPython/7.2.0-foss-2018b-Python-3.6.6/lib:1:/sw/arch/Debian9/EB_production/2019/software/configurable-http-proxy/4.1.0-foss-2018b-nodejs-10.15.1/lib:1:/sw/arch/Debian9/EB_production/2019/software/numactl/2.0.11-GCCcore-7.3.0/lib:1:/sw/arch/Debian9/EB_production/2019/software/Tcl/8.6.8-GCCcore-7.3.0/lib:1:/sw/arch/Debian9/EB_production/2019/software/expat/2.2.5-GCCcore-7.3.0/lib:1:/sw/arch/Debian9/EB_production/2019/software/GEOS/3.6.2-foss-2018b-Python-3.6.6/lib:1:/sw/arch/Debian9/EB_production/2019/software/libreadline/7.0-GCCcore-7.3.0/lib:1:/sw/arch/Debian9/EB_production/2019/software/util-linux/2.32-GCCcore-7.3.0/lib:1:/sw/arch/Debian9/EB_production/2019/software/NLopt/2.4.2-GCCcore-7.3.0/lib:1:/sw/arch/Debian9/EB_production/2019/software/CUDA/10.0.130/lib64/stubs:1:/sw/arch/Debian9/EB_production/2019/software/cairo/1.14.12-GCCcore-7.3.0/lib:1:/sw/arch/Debian9/EB_production/2019/software/netCDF/4.6.1-foss-2018b/lib:1:/sw/arch/Debian9/EB_production/2019/software/cURL/7.60.0-GCCcore-7.3.0/lib:1:/sw/arch/Debian9/EB_production/2019/software/GLib/2.54.3-GCCcore-7.3.0/lib:1:/sw/arch/Debian9/EB_production/2019/software/CUDA/10.0.130/lib64:1:/sw/arch/Debian9/EB_production/2019/software/libgeotiff/1.4.2-foss-2018b/lib:1:/sw/arch/Debian9/EB_production/2019/software/libpng/1.6.34-GCCcore-7.3.0/lib:1:/sw/arch/Debian9/EB_production/2019/software/SQLite/3.24.0-GCCcore-7.3.0/lib:1:/sw/arch/Debian9/EB_production/2019/software/X11/20180604-GCCcore-7.3.0/lib:1:/sw/arch/Debian9/EB_production/2019/software/cuDNN/7.6.3-CUDA-10.0.130/lib64:1:/sw/arch/Debian9/EB_production/2019/software/libffi/3.2.1-GCCcore-7.3.0/lib64:1:/sw/arch/Debian9/EB_production/2019/software/pixman/0.34.0-GCCcore-7.3.0/lib:1:/sw/arch/Debian9/EB_production/2019/software/XZ/5.2.4-GCCcore-7.3.0/lib:1:/sw/arch/Debian9/EB_production/2019/software/GMP/6.1.2-GCCcore-7.3.0/lib:1:/sw/arch/Debian9/EB_production/2019/software/Mesa/18.1.1-foss-2018b/lib:1:/sw/arch/Debian9/EB_production/2019/software/jupyterhub/1.0.0-foss-2018b-Python-3.6.6/lib:1:/sw/arch/Debian9/EB_production/2019/software/R/3.5.1-foss-2018b/lib64/R/lib:1:/sw/arch/Debian9/EB_production/2019/software/Java/1.8.0_192/lib:1:/sw/arch/Debian9/EB_production/2019/software/libffi/3.2.1-GCCcore-7.3.0/lib:1:/sw/arch/Debian9/EB_production/2019/software/OpenPGM/5.2.122-GCCcore-7.3.0/lib:1:/sw/arch/Debian9/EB_production/2019/software/libGLU/9.0.0-foss-2018b/lib:1:/sw/arch/Debian9/EB_production/2019/software/Tk/8.6.8-GCCcore-7.3.0/lib:1:/sw/arch/Debian9/EB_production/2019/software/GSL/2.5-GCC-7.3.0-2.30/lib:1:/sw/arch/Debian9/EB_production/2019/software/freetype/2.9.1-GCCcore-7.3.0/lib:1:/sw/arch/Debian9/EB_production/2019/software/binutils/2.30-GCCcore-7.3.0/lib:1:/sw/arch/Debian9/EB_production/2019/software/PCRE/8.41-GCCcore-7.3.0/lib:1:/sw/arch/Debian9/EB_production/2019/software/Szip/2.1.1-GCCcore-7.3.0/lib:1:/sw/arch/Debian9/EB_production/2019/software/FFTW/3.3.8-gompi-2018b/lib:1:/sw/arch/Debian9/EB_production/2019/software/Tkinter/3.6.6-foss-2018b-Python-3.6.6/lib:1:/sw/arch/Debian9/EB_production/2019/software/OpenMPI/3.1.1-GCC-7.3.0-2.30/lib:1:/sw/arch/Debian9/EB_production/2019/software/Python/3.6.6-foss-2018b/lib:1:/sw/arch/Debian9/EB_production/2019/software/OpenBLAS/0.3.1-GCC-7.3.0-2.30/lib:1:/sw/arch/Debian9/EB_production/2019/software/nettle/3.4-GCCcore-7.3.0/lib64:1:/sw/arch/Debian9/EB_production/2019/software/LLVM/6.0.0-GCCcore-7.3.0/lib:1:/sw/arch/Debian9/EB_production/2019/software/GDAL/2.2.3-foss-2018b-Python-3.6.6/lib:1:/sw/arch/Debian9/EB_production/2019/software/ScaLAPACK/2.0.2-gompi-2018b-OpenBLAS-0.3.1/lib:1:/sw/arch/Debian9/EB_production/2019/software/fontconfig/2.13.0-GCCcore-7.3.0/lib:1:/sw/arch/Debian9/EB_production/2019/software/ncurses/6.1-GCCcore-7.3.0/lib:1:/sw/arch/Debian9/EB_production/2019/software/zlib/1.2.11-GCCcore-7.3.0/lib:1:/sw/arch/Debian9/EB_production/2019/software/gettext/0.19.8.1-GCCcore-7.3.0/lib:1:/sw/arch/Debian9/EB_production/2019/software/nodejs/10.15.1-foss-2018b/lib:1',\n",
       " 'SLURM_JOB_ACCOUNT': 'valeriuc',\n",
       " 'ACLOCAL_PATH': '/sw/arch/Debian9/EB_production/2019/software/GSL/2.5-GCC-7.3.0-2.30/share/aclocal:/sw/arch/Debian9/EB_production/2019/software/cURL/7.60.0-GCCcore-7.3.0/share/aclocal:/sw/arch/Debian9/EB_production/2019/software/GLib/2.54.3-GCCcore-7.3.0/share/aclocal:/sw/arch/Debian9/EB_production/2019/software/gettext/0.19.8.1-GCCcore-7.3.0/share/aclocal:/sw/arch/Debian9/EB_production/2019/software/X11/20180604-GCCcore-7.3.0/share/aclocal:/sw/arch/Debian9/EB_production/2019/software/freetype/2.9.1-GCCcore-7.3.0/share/aclocal:/sw/arch/Debian9/EB_production/2019/software/libxml2/2.9.8-GCCcore-7.3.0/share/aclocal',\n",
       " 'JUPYTERHUB_HOST': '',\n",
       " 'EBDEVELCAIRO': '/sw/arch/Debian9/EB_production/2019/software/cairo/1.14.12-GCCcore-7.3.0/easybuild/cairo-1.14.12-GCCcore-7.3.0-easybuild-devel',\n",
       " 'EBVERSIONNASM': '2.13.03',\n",
       " 'EBDEVELLIBDRM': '/sw/arch/Debian9/EB_production/2019/software/libdrm/2.4.92-GCCcore-7.3.0/easybuild/libdrm-2.4.92-GCCcore-7.3.0-easybuild-devel',\n",
       " 'MANPATH': '/sw/arch/Debian9/EB_production/2019/software/R/3.5.1-foss-2018b/share/man:/sw/arch/Debian9/EB_production/2019/software/GSL/2.5-GCC-7.3.0-2.30/share/man:/sw/arch/Debian9/EB_production/2019/software/ICU/61.1-GCCcore-7.3.0/share/man:/sw/arch/Debian9/EB_production/2019/software/libsndfile/1.0.28-GCCcore-7.3.0/share/man:/sw/arch/Debian9/EB_production/2019/software/NLopt/2.4.2-GCCcore-7.3.0/share/man:/sw/arch/Debian9/EB_production/2019/software/libgeotiff/1.4.2-foss-2018b/share/man:/sw/arch/Debian9/EB_production/2019/software/PROJ/5.0.0-foss-2018b/share/man:/sw/arch/Debian9/EB_production/2019/software/JasPer/2.0.14-GCCcore-7.3.0/share/man:/sw/arch/Debian9/EB_production/2019/software/netCDF/4.6.1-foss-2018b/share/man:/sw/arch/Debian9/EB_production/2019/software/cURL/7.60.0-GCCcore-7.3.0/share/man:/sw/arch/Debian9/EB_production/2019/software/Java/1.8.0_192/man:/sw/arch/Debian9/EB_production/2019/software/LibTIFF/4.0.9-GCCcore-7.3.0/share/man:/sw/arch/Debian9/EB_production/2019/software/libjpeg-turbo/2.0.0-GCCcore-7.3.0/share/man:/sw/arch/Debian9/EB_production/2019/software/NASM/2.13.03-GCCcore-7.3.0/share/man:/sw/arch/Debian9/EB_production/2019/software/GLib/2.54.3-GCCcore-7.3.0/share/man:/sw/arch/Debian9/EB_production/2019/software/PCRE/8.41-GCCcore-7.3.0/share/man:/sw/arch/Debian9/EB_production/2019/software/gettext/0.19.8.1-GCCcore-7.3.0/share/man:/sw/arch/Debian9/EB_production/2019/software/libunwind/1.2.1-GCCcore-7.3.0/share/man:/sw/arch/Debian9/EB_production/2019/software/libdrm/2.4.92-GCCcore-7.3.0/share/man:/sw/arch/Debian9/EB_production/2019/software/nodejs/10.15.1-foss-2018b/share/man:/sw/arch/Debian9/EB_production/2019/software/IPython/7.2.0-foss-2018b-Python-3.6.6/share/man:/sw/arch/Debian9/EB_production/2019/software/IPython/7.2.0-foss-2018b-Python-3.6.6/man:/sw/arch/Debian9/EB_production/2019/software/Tk/8.6.8-GCCcore-7.3.0/man:/sw/arch/Debian9/EB_production/2019/software/X11/20180604-GCCcore-7.3.0/share/man:/sw/arch/Debian9/EB_production/2019/software/expat/2.2.5-GCCcore-7.3.0/share/man:/sw/arch/Debian9/EB_production/2019/software/freetype/2.9.1-GCCcore-7.3.0/share/man:/sw/arch/Debian9/EB_production/2019/software/libpng/1.6.34-GCCcore-7.3.0/share/man:/sw/arch/Debian9/EB_production/2019/software/ZeroMQ/4.2.5-foss-2018b/share/man:/sw/arch/Debian9/EB_production/2019/software/util-linux/2.32-GCCcore-7.3.0/share/man:/sw/arch/Debian9/EB_production/2019/software/Python/3.6.6-foss-2018b/share/man:/sw/arch/Debian9/EB_production/2019/software/libffi/3.2.1-GCCcore-7.3.0/share/man:/sw/arch/Debian9/EB_production/2019/software/SQLite/3.24.0-GCCcore-7.3.0/share/man:/sw/arch/Debian9/EB_production/2019/software/Tcl/8.6.8-GCCcore-7.3.0/share/man:/sw/arch/Debian9/EB_production/2019/software/Tcl/8.6.8-GCCcore-7.3.0/man:/sw/arch/Debian9/EB_production/2019/software/libreadline/7.0-GCCcore-7.3.0/share/man:/sw/arch/Debian9/EB_production/2019/software/ncurses/6.1-GCCcore-7.3.0/share/man:/sw/arch/Debian9/EB_production/2019/software/bzip2/1.0.6-GCCcore-7.3.0/man:/sw/arch/Debian9/EB_production/2019/software/FFTW/3.3.8-gompi-2018b/share/man:/sw/arch/Debian9/EB_production/2019/software/OpenMPI/3.1.1-GCC-7.3.0-2.30/share/man:/sw/arch/Debian9/EB_production/2019/software/hwloc/1.11.10-GCCcore-7.3.0/share/man:/sw/arch/Debian9/EB_production/2019/software/libxml2/2.9.8-GCCcore-7.3.0/share/man:/sw/arch/Debian9/EB_production/2019/software/XZ/5.2.4-GCCcore-7.3.0/share/man:/sw/arch/Debian9/EB_production/2019/software/numactl/2.0.11-GCCcore-7.3.0/share/man:/sw/arch/Debian9/EB_production/2019/software/binutils/2.30-GCCcore-7.3.0/share/man:/sw/arch/Debian9/EB_production/2019/software/zlib/1.2.11-GCCcore-7.3.0/share/man:/sw/arch/Debian9/EB_production/2019/software/GCCcore/7.3.0/share/man',\n",
       " 'EBDEVELGCC': '/sw/arch/Debian9/EB_production/2019/software/GCC/7.3.0-2.30/easybuild/GCC-7.3.0-2.30-easybuild-devel',\n",
       " 'EBVERSIONEXPAT': '2.2.5',\n",
       " 'EBVERSIONX11': '20180604',\n",
       " 'JPY_API_TOKEN': 'e51fe686d6104e0897411dc374c04645',\n",
       " 'EBVERSIONJUPYTERHUB': '1.0.0',\n",
       " 'EBROOTLIBGEOTIFF': '/sw/arch/Debian9/EB_production/2019/software/libgeotiff/1.4.2-foss-2018b',\n",
       " 'EBVERSIONFFTW': '3.3.8',\n",
       " 'EBVERSIONGLIB': '2.54.3',\n",
       " 'MODULEPATH': '/home/valeriuc/.local/easybuild/Debian9/2019/modulefiles/all:/sw/noarch/modulefiles/environment:/hpc/sw/modules/modulefiles/init:/hpc/sw/modules/modulefiles/init-devel:/hpc/eb/modules-4.0.0/modulefiles:/sw/arch/Debian9/EB_production/2019/modulefiles/phys:/sw/arch/Debian9/EB_production/2019/modulefiles/perf:/sw/arch/Debian9/EB_production/2019/modulefiles/geo:/sw/arch/Debian9/EB_production/2019/modulefiles/debugger:/sw/arch/Debian9/EB_production/2019/modulefiles/chem:/sw/arch/Debian9/EB_production/2019/modulefiles/data:/sw/arch/Debian9/EB_production/2019/modulefiles/vis:/sw/arch/Debian9/EB_production/2019/modulefiles/bio:/sw/arch/Debian9/EB_production/2019/modulefiles/math:/sw/arch/Debian9/EB_production/2019/modulefiles/cae:/sw/arch/Debian9/EB_production/2019/modulefiles/system:/sw/arch/Debian9/EB_production/2019/modulefiles/toolchain:/sw/arch/Debian9/EB_production/2019/modulefiles/numlib:/sw/arch/Debian9/EB_production/2019/modulefiles/mpi:/sw/arch/Debian9/EB_production/2019/modulefiles/tools:/sw/arch/Debian9/EB_production/2019/modulefiles/lib:/sw/arch/Debian9/EB_production/2019/modulefiles/compiler:/sw/arch/Debian9/EB_production/2019/modulefiles/lang:/sw/arch/Debian9/EB_production/2019/modulefiles/base:/sw/arch/Debian9/EB_production/2019/modulefiles/devel:/sw/noarch/Debian9/2019/modulefiles/all',\n",
       " 'EBDEVELLIBREADLINE': '/sw/arch/Debian9/EB_production/2019/software/libreadline/7.0-GCCcore-7.3.0/easybuild/libreadline-7.0-GCCcore-7.3.0-easybuild-devel',\n",
       " 'EBVERSIONTK': '8.6.8',\n",
       " 'EBDEVELNODEJS': '/sw/arch/Debian9/EB_production/2019/software/nodejs/10.15.1-foss-2018b/easybuild/nodejs-10.15.1-foss-2018b-easybuild-devel',\n",
       " 'EBDEVELFFTW': '/sw/arch/Debian9/EB_production/2019/software/FFTW/3.3.8-gompi-2018b/easybuild/FFTW-3.3.8-gompi-2018b-easybuild-devel',\n",
       " 'EBROOTIPYTHON': '/sw/arch/Debian9/EB_production/2019/software/IPython/7.2.0-foss-2018b-Python-3.6.6',\n",
       " 'SLURM_GTIDS': '0,1,2',\n",
       " 'LOGNAME': 'valeriuc',\n",
       " 'EBROOTFONTCONFIG': '/sw/arch/Debian9/EB_production/2019/software/fontconfig/2.13.0-GCCcore-7.3.0',\n",
       " 'JUPYTERHUB_OAUTH_CALLBACK_URL': '/course/user/valeriuc/oauth_callback',\n",
       " 'EBROOTCAIRO': '/sw/arch/Debian9/EB_production/2019/software/cairo/1.14.12-GCCcore-7.3.0',\n",
       " 'EBVERSIONGEOS': '3.6.2',\n",
       " 'EBROOTLIBSNDFILE': '/sw/arch/Debian9/EB_production/2019/software/libsndfile/1.0.28-GCCcore-7.3.0',\n",
       " 'EBVERSIONBINUTILS': '2.30',\n",
       " 'MODULEPATH_modshare': '/sw/arch/Debian9/EB_production/2019/modulefiles/toolchain:1:/sw/arch/Debian9/EB_production/2019/modulefiles/cae:1:/sw/noarch/Debian9/2019/modulefiles/all:1:/sw/arch/Debian9/EB_production/2019/modulefiles/bio:1:/sw/arch/Debian9/EB_production/2019/modulefiles/data:1:/sw/arch/Debian9/EB_production/2019/modulefiles/compiler:1:/sw/arch/Debian9/EB_production/2019/modulefiles/geo:1:/hpc/sw/modules/modulefiles/init-devel:6:/sw/arch/Debian9/EB_production/2019/modulefiles/phys:1:/sw/arch/Debian9/EB_production/2019/modulefiles/system:1:/sw/arch/Debian9/EB_production/2019/modulefiles/perf:1:/sw/arch/Debian9/EB_production/2019/modulefiles/chem:1:/sw/arch/Debian9/EB_production/2019/modulefiles/mpi:1:/hpc/eb/modules-4.0.0/modulefiles:1:/sw/arch/Debian9/EB_production/2019/modulefiles/tools:1:/sw/arch/Debian9/EB_production/2019/modulefiles/lang:1:/home/valeriuc/.local/easybuild/Debian9/2019/modulefiles/all:1:/sw/arch/Debian9/EB_production/2019/modulefiles/vis:1:/sw/arch/Debian9/EB_production/2019/modulefiles/math:1:/sw/arch/Debian9/EB_production/2019/modulefiles/base:1:/sw/arch/Debian9/EB_production/2019/modulefiles/debugger:1:/sw/arch/Debian9/EB_production/2019/modulefiles/lib:1:/sw/arch/Debian9/EB_production/2019/modulefiles/numlib:1:/hpc/sw/modules/modulefiles/init:6:/sw/arch/Debian9/EB_production/2019/modulefiles/devel:1:/sw/noarch/modulefiles/environment:1',\n",
       " 'EBROOTCUDA': '/sw/arch/Debian9/EB_production/2019/software/CUDA/10.0.130',\n",
       " 'EBDEVELLIBGLU': '/sw/arch/Debian9/EB_production/2019/software/libGLU/9.0.0-foss-2018b/easybuild/libGLU-9.0.0-foss-2018b-easybuild-devel',\n",
       " 'EBDEVELTK': '/sw/arch/Debian9/EB_production/2019/software/Tk/8.6.8-GCCcore-7.3.0/easybuild/Tk-8.6.8-GCCcore-7.3.0-easybuild-devel',\n",
       " 'EBDEVELLIBUNWIND': '/sw/arch/Debian9/EB_production/2019/software/libunwind/1.2.1-GCCcore-7.3.0/easybuild/libunwind-1.2.1-GCCcore-7.3.0-easybuild-devel',\n",
       " 'EBDEVELZLIB': '/sw/arch/Debian9/EB_production/2019/software/zlib/1.2.11-GCCcore-7.3.0/easybuild/zlib-1.2.11-GCCcore-7.3.0-easybuild-devel',\n",
       " 'XDG_DATA_DIRS_modshare': '/sw/arch/Debian9/EB_production/2019/software/jupyterhub/1.0.0-foss-2018b-Python-3.6.6/share:1',\n",
       " 'JUPYTERHUB_API_TOKEN': 'e51fe686d6104e0897411dc374c04645',\n",
       " 'EBDEVELUDUNITS': '/sw/arch/Debian9/EB_production/2019/software/UDUNITS/2.2.26-foss-2018b/easybuild/UDUNITS-2.2.26-foss-2018b-easybuild-devel',\n",
       " 'PATH': '/hpc/eb/compilerwrappers/compilers:/hpc/eb/compilerwrappers/linkers:/sw/arch/Debian9/EB_production/2019/software/CUDA/10.0.130:/sw/arch/Debian9/EB_production/2019/software/CUDA/10.0.130/nvvm/bin:/sw/arch/Debian9/EB_production/2019/software/CUDA/10.0.130/bin:/sw/arch/Debian9/EB_production/2019/software/R/3.5.1-foss-2018b/bin:/sw/arch/Debian9/EB_production/2019/software/GSL/2.5-GCC-7.3.0-2.30/bin:/sw/arch/Debian9/EB_production/2019/software/UDUNITS/2.2.26-foss-2018b/bin:/sw/arch/Debian9/EB_production/2019/software/ICU/61.1-GCCcore-7.3.0/sbin:/sw/arch/Debian9/EB_production/2019/software/ICU/61.1-GCCcore-7.3.0/bin:/sw/arch/Debian9/EB_production/2019/software/libsndfile/1.0.28-GCCcore-7.3.0/bin:/sw/arch/Debian9/EB_production/2019/software/GDAL/2.2.3-foss-2018b-Python-3.6.6/bin:/sw/arch/Debian9/EB_production/2019/software/libgeotiff/1.4.2-foss-2018b/bin:/sw/arch/Debian9/EB_production/2019/software/PROJ/5.0.0-foss-2018b/bin:/sw/arch/Debian9/EB_production/2019/software/JasPer/2.0.14-GCCcore-7.3.0/bin:/sw/arch/Debian9/EB_production/2019/software/GEOS/3.6.2-foss-2018b-Python-3.6.6/bin:/sw/arch/Debian9/EB_production/2019/software/netCDF/4.6.1-foss-2018b/bin:/sw/arch/Debian9/EB_production/2019/software/HDF5/1.10.2-foss-2018b/bin:/sw/arch/Debian9/EB_production/2019/software/cURL/7.60.0-GCCcore-7.3.0/bin:/sw/arch/Debian9/EB_production/2019/software/Java/1.8.0_192:/sw/arch/Debian9/EB_production/2019/software/Java/1.8.0_192/bin:/sw/arch/Debian9/EB_production/2019/software/LibTIFF/4.0.9-GCCcore-7.3.0/bin:/sw/arch/Debian9/EB_production/2019/software/libjpeg-turbo/2.0.0-GCCcore-7.3.0/bin:/sw/arch/Debian9/EB_production/2019/software/NASM/2.13.03-GCCcore-7.3.0/bin:/sw/arch/Debian9/EB_production/2019/software/cairo/1.14.12-GCCcore-7.3.0/bin:/sw/arch/Debian9/EB_production/2019/software/GLib/2.54.3-GCCcore-7.3.0/bin:/sw/arch/Debian9/EB_production/2019/software/PCRE/8.41-GCCcore-7.3.0/bin:/sw/arch/Debian9/EB_production/2019/software/gettext/0.19.8.1-GCCcore-7.3.0/bin:/sw/arch/Debian9/EB_production/2019/software/LLVM/6.0.0-GCCcore-7.3.0/bin:/sw/arch/Debian9/EB_production/2019/software/nettle/3.4-GCCcore-7.3.0/bin:/sw/arch/Debian9/EB_production/2019/software/jupyterhub/1.0.0-foss-2018b-Python-3.6.6/bin:/sw/arch/Debian9/EB_production/2019/software/configurable-http-proxy/4.1.0-foss-2018b-nodejs-10.15.1:/sw/arch/Debian9/EB_production/2019/software/configurable-http-proxy/4.1.0-foss-2018b-nodejs-10.15.1/bin:/sw/arch/Debian9/EB_production/2019/software/nodejs/10.15.1-foss-2018b/bin:/sw/arch/Debian9/EB_production/2019/software/IPython/7.2.0-foss-2018b-Python-3.6.6/bin:/sw/arch/Debian9/EB_production/2019/software/Tk/8.6.8-GCCcore-7.3.0/bin:/sw/arch/Debian9/EB_production/2019/software/X11/20180604-GCCcore-7.3.0/bin:/sw/arch/Debian9/EB_production/2019/software/fontconfig/2.13.0-GCCcore-7.3.0/bin:/sw/arch/Debian9/EB_production/2019/software/expat/2.2.5-GCCcore-7.3.0/bin:/sw/arch/Debian9/EB_production/2019/software/freetype/2.9.1-GCCcore-7.3.0/bin:/sw/arch/Debian9/EB_production/2019/software/libpng/1.6.34-GCCcore-7.3.0/bin:/sw/arch/Debian9/EB_production/2019/software/ZeroMQ/4.2.5-foss-2018b/bin:/sw/arch/Debian9/EB_production/2019/software/util-linux/2.32-GCCcore-7.3.0/sbin:/sw/arch/Debian9/EB_production/2019/software/util-linux/2.32-GCCcore-7.3.0/bin:/sw/arch/Debian9/EB_production/2019/software/Python/3.6.6-foss-2018b/bin:/sw/arch/Debian9/EB_production/2019/software/SQLite/3.24.0-GCCcore-7.3.0/bin:/sw/arch/Debian9/EB_production/2019/software/Tcl/8.6.8-GCCcore-7.3.0/bin:/sw/arch/Debian9/EB_production/2019/software/libreadline/7.0-GCCcore-7.3.0/bin:/sw/arch/Debian9/EB_production/2019/software/ncurses/6.1-GCCcore-7.3.0/bin:/sw/arch/Debian9/EB_production/2019/software/bzip2/1.0.6-GCCcore-7.3.0/bin:/sw/arch/Debian9/EB_production/2019/software/FFTW/3.3.8-gompi-2018b/bin:/sw/arch/Debian9/EB_production/2019/software/OpenBLAS/0.3.1-GCC-7.3.0-2.30/bin:/sw/arch/Debian9/EB_production/2019/software/OpenMPI/3.1.1-GCC-7.3.0-2.30/bin:/sw/arch/Debian9/EB_production/2019/software/hwloc/1.11.10-GCCcore-7.3.0/sbin:/sw/arch/Debian9/EB_production/2019/software/hwloc/1.11.10-GCCcore-7.3.0/bin:/sw/arch/Debian9/EB_production/2019/software/libxml2/2.9.8-GCCcore-7.3.0/bin:/sw/arch/Debian9/EB_production/2019/software/XZ/5.2.4-GCCcore-7.3.0/bin:/sw/arch/Debian9/EB_production/2019/software/numactl/2.0.11-GCCcore-7.3.0/bin:/sw/arch/Debian9/EB_production/2019/software/binutils/2.30-GCCcore-7.3.0/bin:/sw/arch/Debian9/EB_production/2019/software/GCCcore/7.3.0/bin:/hpc/eb/modules-4.0.0/bin:/opt/jupyterhub/1.0.0/.venv/bin:/usr/local/sbin:/usr/local/bin:/usr/sbin:/usr/bin:/sbin:/bin:/usr/local/bin:/opt/configurable-http-proxy/current/bin',\n",
       " 'SLURM_JOB_ID': '4438540',\n",
       " 'EBVERSIONLIBREADLINE': '7.0',\n",
       " '_LMFILES_': '/sw/noarch/modulefiles/environment/compilerwrappers:/sw/noarch/modulefiles/environment/slurm-tools:/hpc/sw/modules/modulefiles/init/surfsara/1.2:/sw/noarch/modulefiles/environment/2019:/sw/arch/Debian9/EB_production/2019/modulefiles/compiler/GCCcore/7.3.0:/sw/arch/Debian9/EB_production/2019/modulefiles/lib/zlib/1.2.11-GCCcore-7.3.0:/sw/arch/Debian9/EB_production/2019/modulefiles/tools/binutils/2.30-GCCcore-7.3.0:/sw/arch/Debian9/EB_production/2019/modulefiles/compiler/GCC/7.3.0-2.30:/sw/arch/Debian9/EB_production/2019/modulefiles/tools/numactl/2.0.11-GCCcore-7.3.0:/sw/arch/Debian9/EB_production/2019/modulefiles/tools/XZ/5.2.4-GCCcore-7.3.0:/sw/arch/Debian9/EB_production/2019/modulefiles/lib/libxml2/2.9.8-GCCcore-7.3.0:/sw/arch/Debian9/EB_production/2019/modulefiles/system/libpciaccess/0.14-GCCcore-7.3.0:/sw/arch/Debian9/EB_production/2019/modulefiles/system/hwloc/1.11.10-GCCcore-7.3.0:/sw/arch/Debian9/EB_production/2019/modulefiles/mpi/OpenMPI/3.1.1-GCC-7.3.0-2.30:/sw/arch/Debian9/EB_production/2019/modulefiles/numlib/OpenBLAS/0.3.1-GCC-7.3.0-2.30:/sw/arch/Debian9/EB_production/2019/modulefiles/toolchain/gompi/2018b:/sw/arch/Debian9/EB_production/2019/modulefiles/numlib/FFTW/3.3.8-gompi-2018b:/sw/arch/Debian9/EB_production/2019/modulefiles/numlib/ScaLAPACK/2.0.2-gompi-2018b-OpenBLAS-0.3.1:/sw/arch/Debian9/EB_production/2019/modulefiles/toolchain/foss/2018b:/sw/arch/Debian9/EB_production/2019/modulefiles/tools/bzip2/1.0.6-GCCcore-7.3.0:/sw/arch/Debian9/EB_production/2019/modulefiles/devel/ncurses/6.1-GCCcore-7.3.0:/sw/arch/Debian9/EB_production/2019/modulefiles/lib/libreadline/7.0-GCCcore-7.3.0:/sw/arch/Debian9/EB_production/2019/modulefiles/lang/Tcl/8.6.8-GCCcore-7.3.0:/sw/arch/Debian9/EB_production/2019/modulefiles/devel/SQLite/3.24.0-GCCcore-7.3.0:/sw/arch/Debian9/EB_production/2019/modulefiles/math/GMP/6.1.2-GCCcore-7.3.0:/sw/arch/Debian9/EB_production/2019/modulefiles/lib/libffi/3.2.1-GCCcore-7.3.0:/sw/arch/Debian9/EB_production/2019/modulefiles/lang/Python/3.6.6-foss-2018b:/sw/arch/Debian9/EB_production/2019/modulefiles/system/OpenPGM/5.2.122-GCCcore-7.3.0:/sw/arch/Debian9/EB_production/2019/modulefiles/tools/util-linux/2.32-GCCcore-7.3.0:/sw/arch/Debian9/EB_production/2019/modulefiles/lib/libsodium/1.0.16-GCCcore-7.3.0:/sw/arch/Debian9/EB_production/2019/modulefiles/devel/ZeroMQ/4.2.5-foss-2018b:/sw/arch/Debian9/EB_production/2019/modulefiles/lib/libpng/1.6.34-GCCcore-7.3.0:/sw/arch/Debian9/EB_production/2019/modulefiles/vis/freetype/2.9.1-GCCcore-7.3.0:/sw/arch/Debian9/EB_production/2019/modulefiles/tools/expat/2.2.5-GCCcore-7.3.0:/sw/arch/Debian9/EB_production/2019/modulefiles/vis/fontconfig/2.13.0-GCCcore-7.3.0:/sw/arch/Debian9/EB_production/2019/modulefiles/vis/X11/20180604-GCCcore-7.3.0:/sw/arch/Debian9/EB_production/2019/modulefiles/vis/Tk/8.6.8-GCCcore-7.3.0:/sw/arch/Debian9/EB_production/2019/modulefiles/lang/Tkinter/3.6.6-foss-2018b-Python-3.6.6:/sw/arch/Debian9/EB_production/2019/modulefiles/vis/matplotlib/3.0.0-foss-2018b-Python-3.6.6:/sw/arch/Debian9/EB_production/2019/modulefiles/tools/IPython/7.2.0-foss-2018b-Python-3.6.6:/sw/arch/Debian9/EB_production/2019/modulefiles/lang/nodejs/10.15.1-foss-2018b:/sw/arch/Debian9/EB_production/2019/modulefiles/tools/configurable-http-proxy/4.1.0-foss-2018b-nodejs-10.15.1:/sw/arch/Debian9/EB_production/2019/modulefiles/tools/jupyterhub/1.0.0-foss-2018b-Python-3.6.6:/sw/arch/Debian9/EB_production/2019/modulefiles/lib/nettle/3.4-GCCcore-7.3.0:/sw/arch/Debian9/EB_production/2019/modulefiles/lib/libdrm/2.4.92-GCCcore-7.3.0:/sw/arch/Debian9/EB_production/2019/modulefiles/compiler/LLVM/6.0.0-GCCcore-7.3.0:/sw/arch/Debian9/EB_production/2019/modulefiles/lib/libunwind/1.2.1-GCCcore-7.3.0:/sw/arch/Debian9/EB_production/2019/modulefiles/vis/Mesa/18.1.1-foss-2018b:/sw/arch/Debian9/EB_production/2019/modulefiles/vis/libGLU/9.0.0-foss-2018b:/sw/arch/Debian9/EB_production/2019/modulefiles/vis/pixman/0.34.0-GCCcore-7.3.0:/sw/arch/Debian9/EB_production/2019/modulefiles/tools/gettext/0.19.8.1-GCCcore-7.3.0:/sw/arch/Debian9/EB_production/2019/modulefiles/devel/PCRE/8.41-GCCcore-7.3.0:/sw/arch/Debian9/EB_production/2019/modulefiles/vis/GLib/2.54.3-GCCcore-7.3.0:/sw/arch/Debian9/EB_production/2019/modulefiles/vis/cairo/1.14.12-GCCcore-7.3.0:/sw/arch/Debian9/EB_production/2019/modulefiles/lang/NASM/2.13.03-GCCcore-7.3.0:/sw/arch/Debian9/EB_production/2019/modulefiles/lib/libjpeg-turbo/2.0.0-GCCcore-7.3.0:/sw/arch/Debian9/EB_production/2019/modulefiles/lib/LibTIFF/4.0.9-GCCcore-7.3.0:/sw/arch/Debian9/EB_production/2019/modulefiles/lang/Java/1.8.0_192:/sw/arch/Debian9/EB_production/2019/modulefiles/tools/cURL/7.60.0-GCCcore-7.3.0:/sw/arch/Debian9/EB_production/2019/modulefiles/tools/Szip/2.1.1-GCCcore-7.3.0:/sw/arch/Debian9/EB_production/2019/modulefiles/data/HDF5/1.10.2-foss-2018b:/sw/arch/Debian9/EB_production/2019/modulefiles/data/netCDF/4.6.1-foss-2018b:/sw/arch/Debian9/EB_production/2019/modulefiles/math/GEOS/3.6.2-foss-2018b-Python-3.6.6:/sw/arch/Debian9/EB_production/2019/modulefiles/vis/JasPer/2.0.14-GCCcore-7.3.0:/sw/arch/Debian9/EB_production/2019/modulefiles/lib/PROJ/5.0.0-foss-2018b:/sw/arch/Debian9/EB_production/2019/modulefiles/lib/libgeotiff/1.4.2-foss-2018b:/sw/arch/Debian9/EB_production/2019/modulefiles/data/GDAL/2.2.3-foss-2018b-Python-3.6.6:/sw/arch/Debian9/EB_production/2019/modulefiles/numlib/NLopt/2.4.2-GCCcore-7.3.0:/sw/arch/Debian9/EB_production/2019/modulefiles/lib/libsndfile/1.0.28-GCCcore-7.3.0:/sw/arch/Debian9/EB_production/2019/modulefiles/lib/ICU/61.1-GCCcore-7.3.0:/sw/arch/Debian9/EB_production/2019/modulefiles/phys/UDUNITS/2.2.26-foss-2018b:/sw/arch/Debian9/EB_production/2019/modulefiles/numlib/GSL/2.5-GCC-7.3.0-2.30:/sw/arch/Debian9/EB_production/2019/modulefiles/lang/R/3.5.1-foss-2018b:/sw/arch/Debian9/EB_production/2019/modulefiles/tools/IRkernel/1.0.2-foss-2018b-R-3.5.1-Python-3.6.6:/sw/arch/Debian9/EB_production/2019/modulefiles/tools/jupyterlmod/1.7.5-foss-2018b-Python-3.6.6:/sw/arch/Debian9/EB_production/2019/modulefiles/system/CUDA/10.0.130:/sw/arch/Debian9/EB_production/2019/modulefiles/numlib/cuDNN/7.6.3-CUDA-10.0.130',\n",
       " 'EBVERSIONPROJ': '5.0.0',\n",
       " 'EBDEVELLIBTIFF': '/sw/arch/Debian9/EB_production/2019/software/LibTIFF/4.0.9-GCCcore-7.3.0/easybuild/LibTIFF-4.0.9-GCCcore-7.3.0-easybuild-devel',\n",
       " 'EBROOTLIBPCIACCESS': '/sw/arch/Debian9/EB_production/2019/software/libpciaccess/0.14-GCCcore-7.3.0',\n",
       " 'EBVERSIONUDUNITS': '2.2.26',\n",
       " 'SARA_FFLAGS': ' ',\n",
       " 'MODULESHOME': '/hpc/eb/modules-4.0.0',\n",
       " 'PKG_CONFIG_PATH': '/sw/arch/Debian9/EB_production/2019/software/R/3.5.1-foss-2018b/lib64/pkgconfig:/sw/arch/Debian9/EB_production/2019/software/GSL/2.5-GCC-7.3.0-2.30/lib/pkgconfig:/sw/arch/Debian9/EB_production/2019/software/ICU/61.1-GCCcore-7.3.0/lib/pkgconfig:/sw/arch/Debian9/EB_production/2019/software/libsndfile/1.0.28-GCCcore-7.3.0/lib/pkgconfig:/sw/arch/Debian9/EB_production/2019/software/NLopt/2.4.2-GCCcore-7.3.0/lib/pkgconfig:/sw/arch/Debian9/EB_production/2019/software/GDAL/2.2.3-foss-2018b-Python-3.6.6/lib/pkgconfig:/sw/arch/Debian9/EB_production/2019/software/PROJ/5.0.0-foss-2018b/lib/pkgconfig:/sw/arch/Debian9/EB_production/2019/software/JasPer/2.0.14-GCCcore-7.3.0/lib/pkgconfig:/sw/arch/Debian9/EB_production/2019/software/netCDF/4.6.1-foss-2018b/lib/pkgconfig:/sw/arch/Debian9/EB_production/2019/software/HDF5/1.10.2-foss-2018b/lib/pkgconfig:/sw/arch/Debian9/EB_production/2019/software/cURL/7.60.0-GCCcore-7.3.0/lib/pkgconfig:/sw/arch/Debian9/EB_production/2019/software/LibTIFF/4.0.9-GCCcore-7.3.0/lib/pkgconfig:/sw/arch/Debian9/EB_production/2019/software/libjpeg-turbo/2.0.0-GCCcore-7.3.0/lib/pkgconfig:/sw/arch/Debian9/EB_production/2019/software/cairo/1.14.12-GCCcore-7.3.0/lib/pkgconfig:/sw/arch/Debian9/EB_production/2019/software/GLib/2.54.3-GCCcore-7.3.0/lib/pkgconfig:/sw/arch/Debian9/EB_production/2019/software/PCRE/8.41-GCCcore-7.3.0/lib/pkgconfig:/sw/arch/Debian9/EB_production/2019/software/pixman/0.34.0-GCCcore-7.3.0/lib/pkgconfig:/sw/arch/Debian9/EB_production/2019/software/libGLU/9.0.0-foss-2018b/lib/pkgconfig:/sw/arch/Debian9/EB_production/2019/software/Mesa/18.1.1-foss-2018b/lib/pkgconfig:/sw/arch/Debian9/EB_production/2019/software/libunwind/1.2.1-GCCcore-7.3.0/lib/pkgconfig:/sw/arch/Debian9/EB_production/2019/software/libdrm/2.4.92-GCCcore-7.3.0/lib/pkgconfig:/sw/arch/Debian9/EB_production/2019/software/nettle/3.4-GCCcore-7.3.0/lib64/pkgconfig:/sw/arch/Debian9/EB_production/2019/software/Tk/8.6.8-GCCcore-7.3.0/lib/pkgconfig:/sw/arch/Debian9/EB_production/2019/software/X11/20180604-GCCcore-7.3.0/share/pkgconfig:/sw/arch/Debian9/EB_production/2019/software/X11/20180604-GCCcore-7.3.0/lib/pkgconfig:/sw/arch/Debian9/EB_production/2019/software/fontconfig/2.13.0-GCCcore-7.3.0/lib/pkgconfig:/sw/arch/Debian9/EB_production/2019/software/expat/2.2.5-GCCcore-7.3.0/lib/pkgconfig:/sw/arch/Debian9/EB_production/2019/software/freetype/2.9.1-GCCcore-7.3.0/lib/pkgconfig:/sw/arch/Debian9/EB_production/2019/software/libpng/1.6.34-GCCcore-7.3.0/lib/pkgconfig:/sw/arch/Debian9/EB_production/2019/software/ZeroMQ/4.2.5-foss-2018b/lib/pkgconfig:/sw/arch/Debian9/EB_production/2019/software/libsodium/1.0.16-GCCcore-7.3.0/lib/pkgconfig:/sw/arch/Debian9/EB_production/2019/software/util-linux/2.32-GCCcore-7.3.0/lib/pkgconfig:/sw/arch/Debian9/EB_production/2019/software/OpenPGM/5.2.122-GCCcore-7.3.0/lib/pkgconfig:/sw/arch/Debian9/EB_production/2019/software/Python/3.6.6-foss-2018b/lib/pkgconfig:/sw/arch/Debian9/EB_production/2019/software/libffi/3.2.1-GCCcore-7.3.0/lib/pkgconfig:/sw/arch/Debian9/EB_production/2019/software/SQLite/3.24.0-GCCcore-7.3.0/lib/pkgconfig:/sw/arch/Debian9/EB_production/2019/software/Tcl/8.6.8-GCCcore-7.3.0/lib/pkgconfig:/sw/arch/Debian9/EB_production/2019/software/bzip2/1.0.6-GCCcore-7.3.0/lib/pkgconfig:/sw/arch/Debian9/EB_production/2019/software/FFTW/3.3.8-gompi-2018b/lib/pkgconfig:/sw/arch/Debian9/EB_production/2019/software/OpenBLAS/0.3.1-GCC-7.3.0-2.30/lib/pkgconfig:/sw/arch/Debian9/EB_production/2019/software/OpenMPI/3.1.1-GCC-7.3.0-2.30/lib/pkgconfig:/sw/arch/Debian9/EB_production/2019/software/hwloc/1.11.10-GCCcore-7.3.0/lib/pkgconfig:/sw/arch/Debian9/EB_production/2019/software/libpciaccess/0.14-GCCcore-7.3.0/lib/pkgconfig:/sw/arch/Debian9/EB_production/2019/software/libxml2/2.9.8-GCCcore-7.3.0/lib/pkgconfig:/sw/arch/Debian9/EB_production/2019/software/XZ/5.2.4-GCCcore-7.3.0/lib/pkgconfig:/sw/arch/Debian9/EB_production/2019/software/zlib/1.2.11-GCCcore-7.3.0/lib/pkgconfig',\n",
       " 'EBVERSIONCUDNN': '7.6.3',\n",
       " 'EBVERSIONJASPER': '2.0.14',\n",
       " 'EBROOTNUMACTL': '/sw/arch/Debian9/EB_production/2019/software/numactl/2.0.11-GCCcore-7.3.0',\n",
       " 'SARA_CFLAGS_INTERNAL': '',\n",
       " 'EBROOTNETCDF': '/sw/arch/Debian9/EB_production/2019/software/netCDF/4.6.1-foss-2018b',\n",
       " 'EBROOTR': '/sw/arch/Debian9/EB_production/2019/software/R/3.5.1-foss-2018b',\n",
       " 'EBROOTCONFIGURABLEMINHTTPMINPROXY': '/sw/arch/Debian9/EB_production/2019/software/configurable-http-proxy/4.1.0-foss-2018b-nodejs-10.15.1',\n",
       " 'EBVERSIONSZIP': '2.1.1',\n",
       " 'LMOD_CMD': '/hpc/eb/modules-4.0.0/libexec/modulecmd.tcl',\n",
       " 'EBVERSIONLIBTIFF': '4.0.9',\n",
       " 'SLURM_LOCALID': '0',\n",
       " 'EBEXTSLISTIRKERNEL': 'zeallot-0.1.0,ellipsis-0.1.0,vctrs-0.1.0,repr-1.0.0,IRdisplay-0.7.0,pbdZMQ-0.3-3,IRkernel-1.0.2',\n",
       " 'GPU_DEVICE_ORDINAL': '0',\n",
       " 'EBROOTGDAL': '/sw/arch/Debian9/EB_production/2019/software/GDAL/2.2.3-foss-2018b-Python-3.6.6',\n",
       " 'BASH_FUNC_module%%': '() {  eval `/usr/bin/tclsh /hpc/eb/modules-4.0.0/libexec/modulecmd.tcl bash $*`\\n}',\n",
       " 'BASH_FUNC_switchml%%': '() {  typeset swfound=1;\\n if [ \"$MODULES_USE_COMPAT_VERSION\" = \\'1\\' ]; then\\n typeset swname=\\'main\\';\\n if [ -e /hpc/eb/modules-4.0.0/libexec/modulecmd.tcl ]; then\\n typeset swfound=0;\\n unset MODULES_USE_COMPAT_VERSION;\\n fi;\\n else\\n typeset swname=\\'compatibility\\';\\n if [ -e /hpc/eb/modules-4.0.0/libexec/modulecmd-compat ]; then\\n typeset swfound=0;\\n MODULES_USE_COMPAT_VERSION=1;\\n export MODULES_USE_COMPAT_VERSION;\\n fi;\\n fi;\\n if [ $swfound -eq 0 ]; then\\n echo \"Switching to Modules $swname version\";\\n source /hpc/eb/modules-4.0.0/init/bash;\\n else\\n echo \"Cannot switch to Modules $swname version, command not found\";\\n return 1;\\n fi\\n}',\n",
       " '_': '/usr/bin/srun',\n",
       " 'SRUN_DEBUG': '3',\n",
       " 'SLURM_UMASK': '0027',\n",
       " 'SLURM_DISTRIBUTION': 'block',\n",
       " 'SLURM_STEP_ID': '0',\n",
       " 'SLURM_STEPID': '0',\n",
       " 'SLURM_SRUN_COMM_PORT': '24969',\n",
       " 'SLURM_STEP_NODELIST': 'r32n3',\n",
       " 'SLURM_STEP_NUM_NODES': '1',\n",
       " 'SLURM_STEP_NUM_TASKS': '3',\n",
       " 'SLURM_STEP_TASKS_PER_NODE': '3',\n",
       " 'SLURM_STEP_LAUNCHER_PORT': '24969',\n",
       " 'SLURM_SRUN_COMM_HOST': '145.101.32.56',\n",
       " 'SLURM_STEP_GPUS': '0',\n",
       " 'SLURM_CPU_BIND': 'quiet,mask_cpu:0x001,0x002,0x004',\n",
       " 'SLURM_CPU_BIND_LIST': '0x001,0x002,0x004',\n",
       " 'SLURM_CPU_BIND_TYPE': 'mask_cpu:',\n",
       " 'SLURM_CPU_BIND_VERBOSE': 'quiet',\n",
       " 'SLURM_LAUNCH_NODE_IPADDR': '145.101.32.56',\n",
       " 'PMI_FD': '11',\n",
       " 'PMI_JOBID': '4438540.0',\n",
       " 'PMI_RANK': '0',\n",
       " 'PMI_SIZE': '3',\n",
       " 'JPY_PARENT_PID': '16892',\n",
       " 'CLICOLOR': '1',\n",
       " 'PAGER': 'cat',\n",
       " 'GIT_PAGER': 'cat'}"
      ]
     },
     "execution_count": 10,
     "metadata": {},
     "output_type": "execute_result"
    }
   ],
   "source": [
    "%env"
   ]
  },
  {
   "cell_type": "markdown",
   "metadata": {},
   "source": [
    "Or modify it"
   ]
  },
  {
   "cell_type": "code",
   "execution_count": 11,
   "metadata": {},
   "outputs": [
    {
     "name": "stdout",
     "output_type": "stream",
     "text": [
      "env: OMP_NUM_THREADS=16\n"
     ]
    }
   ],
   "source": [
    "%env OMP_NUM_THREADS=16"
   ]
  },
  {
   "cell_type": "markdown",
   "metadata": {},
   "source": [
    "That's how we write a Python program"
   ]
  },
  {
   "cell_type": "code",
   "execution_count": 5,
   "metadata": {},
   "outputs": [
    {
     "name": "stdout",
     "output_type": "stream",
     "text": [
      "Writing hello_world.py\n"
     ]
    }
   ],
   "source": [
    "%%writefile hello_world.py\n",
    "if __name__ == \"__main__\":\n",
    "\tprint(\"Hello World!\")"
   ]
  },
  {
   "cell_type": "markdown",
   "metadata": {},
   "source": [
    "And that's how we run it"
   ]
  },
  {
   "cell_type": "code",
   "execution_count": 6,
   "metadata": {},
   "outputs": [
    {
     "name": "stdout",
     "output_type": "stream",
     "text": [
      "Hello World!\n"
     ]
    }
   ],
   "source": [
    "%run ./hello_world.py"
   ]
  },
  {
   "cell_type": "markdown",
   "metadata": {},
   "source": [
    "And some bash magic"
   ]
  },
  {
   "cell_type": "code",
   "execution_count": 14,
   "metadata": {},
   "outputs": [
    {
     "name": "stdout",
     "output_type": "stream",
     "text": [
      "a\n",
      "b\n",
      "c\n"
     ]
    }
   ],
   "source": [
    "%%bash\n",
    "for i in a b c;\n",
    "do\n",
    "echo $i\n",
    "done"
   ]
  },
  {
   "cell_type": "markdown",
   "metadata": {
    "slideshow": {
     "slide_type": "slide"
    }
   },
   "source": [
    "# Introduction to Python GPU Programming with Numba"
   ]
  },
  {
   "cell_type": "code",
   "execution_count": 15,
   "metadata": {},
   "outputs": [
    {
     "name": "stdout",
     "output_type": "stream",
     "text": [
      "env: SURFSARA_LIBRARY_PATH=\"\"\n",
      "env: SURFSARA_INCLUDE_PATH=\"\"\n",
      "Requirement already satisfied: numba in /home/valeriuc/.local/lib/python3.6/site-packages (0.48.0)\n",
      "Requirement already satisfied: numpy>=1.15 in /home/valeriuc/.local/lib/python3.6/site-packages (from numba) (1.16.4)\n",
      "Requirement already satisfied: setuptools in /home/valeriuc/.local/lib/python3.6/site-packages (from numba) (41.0.1)\n",
      "Requirement already satisfied: llvmlite<0.32.0,>=0.31.0dev0 in /home/valeriuc/.local/lib/python3.6/site-packages (from numba) (0.31.0)\n"
     ]
    }
   ],
   "source": [
    "%env SURFSARA_LIBRARY_PATH \"\"\n",
    "%env SURFSARA_INCLUDE_PATH \"\"\n",
    "!pip install numba --user"
   ]
  },
  {
   "cell_type": "code",
   "execution_count": 16,
   "metadata": {
    "slideshow": {
     "slide_type": "skip"
    }
   },
   "outputs": [],
   "source": [
    "# Misc. import\n",
    "from IPython.display import Image \n",
    "%matplotlib inline"
   ]
  },
  {
   "cell_type": "markdown",
   "metadata": {
    "slideshow": {
     "slide_type": "slide"
    }
   },
   "source": [
    "# Numba\n",
    "* Opensource BSD license\n",
    "* Basic CUDA GPU JIT compilation\n",
    "* OpenCL support coming"
   ]
  },
  {
   "cell_type": "code",
   "execution_count": 17,
   "metadata": {
    "slideshow": {
     "slide_type": "fragment"
    }
   },
   "outputs": [
    {
     "name": "stdout",
     "output_type": "stream",
     "text": [
      "numba 0.48.0\n"
     ]
    }
   ],
   "source": [
    "import numba\n",
    "print(\"numba\", numba.__version__)"
   ]
  },
  {
   "cell_type": "markdown",
   "metadata": {
    "slideshow": {
     "slide_type": "slide"
    }
   },
   "source": [
    "# The CUDA GPU\n",
    "\n",
    "- A massively parallel processor (many cores)\n",
    "    - 100 threads, 1,000 threads, and more\n",
    "- optimized for data throughput\n",
    "    - Simple (shallow) cache hierarchy (improving with each generation)\n",
    "    - GPUs feature \"shared memory\" that is explicitly addressable\n",
    "- CPU is latency optimized\n",
    "    - Deep cache hierarchy\n",
    "    - L1, L2, L3 caches\n",
    "- GPU execution model is different\n",
    "- GPU forces you to think and program *in parallel*"
   ]
  },
  {
   "cell_type": "code",
   "execution_count": 18,
   "metadata": {
    "slideshow": {
     "slide_type": "subslide"
    }
   },
   "outputs": [
    {
     "name": "stdout",
     "output_type": "stream",
     "text": [
      "Running on GPU: b'GeForce GTX 1080 Ti'\n",
      "Compute capability:  6.1 (Numba requires >= 2.0)\n",
      "Number of streaming multiprocessor: 28\n",
      "Number of cores per mutliprocessor: 128\n",
      "Number of cores on GPU: 3584\n"
     ]
    }
   ],
   "source": [
    "# Get all the imports we need\n",
    "import numba.cuda\n",
    "import numpy as np\n",
    "import math\n",
    "\n",
    "my_gpu = numba.cuda.get_current_device()\n",
    "print(\"Running on GPU:\", my_gpu.name)\n",
    "cores_per_capability = {\n",
    "    1: 8,\n",
    "    2: 32,\n",
    "    3: 192,\n",
    "    5: 128,\n",
    "    6: 128\n",
    "}\n",
    "cc = my_gpu.compute_capability\n",
    "print(\"Compute capability: \", \"%d.%d\" % cc, \"(Numba requires >= 2.0)\")\n",
    "majorcc = cc[0]\n",
    "print(\"Number of streaming multiprocessor:\", my_gpu.MULTIPROCESSOR_COUNT)\n",
    "cores_per_multiprocessor = cores_per_capability[majorcc]\n",
    "print(\"Number of cores per mutliprocessor:\", cores_per_multiprocessor)\n",
    "total_cores = cores_per_multiprocessor * my_gpu.MULTIPROCESSOR_COUNT\n",
    "print(\"Number of cores on GPU:\", total_cores)"
   ]
  },
  {
   "cell_type": "markdown",
   "metadata": {
    "slideshow": {
     "slide_type": "slide"
    }
   },
   "source": [
    "# High-level Array-Oriented Style\n",
    "\n",
    "- Use NumPy array as a unit of computation\n",
    "- Use NumPy universal function (ufunc) as an abstraction of computation and scheduling\n",
    "- ufuncs are elementwise functions\n",
    "- If you use NumPy, you are using ufuncs"
   ]
  },
  {
   "cell_type": "code",
   "execution_count": null,
   "metadata": {
    "slideshow": {
     "slide_type": "fragment"
    }
   },
   "outputs": [
    {
     "name": "stdout",
     "output_type": "stream",
     "text": [
      "<ufunc 'sin'> is of type <class 'numpy.ufunc'>\n",
      "<ufunc 'add'> is of type <class 'numpy.ufunc'>\n"
     ]
    }
   ],
   "source": [
    "print(np.sin, \"is of type\", type(np.sin))\n",
    "print(np.add, \"is of type\", type(np.add))"
   ]
  },
  {
   "cell_type": "markdown",
   "metadata": {
    "slideshow": {
     "slide_type": "subslide"
    }
   },
   "source": [
    "# Vectorize\n",
    "\n",
    "- generate a ufunc from a python function\n",
    "- converts scalar function to elementwise array function\n",
    "- Numba provides CPU and GPU support"
   ]
  },
  {
   "cell_type": "code",
   "execution_count": null,
   "metadata": {
    "slideshow": {
     "slide_type": "subslide"
    }
   },
   "outputs": [],
   "source": [
    "# CPU version\n",
    "@numba.vectorize(['float32(float32, float32)',\n",
    "                  'float64(float64, float64)'], target='cpu')\n",
    "def cpu_sincos(x, y):\n",
    "    return math.sin(x) * math.cos(y)\n",
    "\n",
    "# CUDA version\n",
    "@numba.vectorize(['float32(float32, float32)',\n",
    "                     'float64(float64, float64)'], target='cuda')\n",
    "def gpu_sincos(x, y):\n",
    "    return math.sin(x) * math.cos(y)"
   ]
  },
  {
   "cell_type": "markdown",
   "metadata": {
    "slideshow": {
     "slide_type": "fragment"
    }
   },
   "source": [
    "```\n",
    "@numba.vectorize(<list of signatures>, target=<'cpu', 'cuda'>)\n",
    "```\n",
    "\n",
    "- A ufunc can be overloaded to work on multiple type signatures\n"
   ]
  },
  {
   "cell_type": "markdown",
   "metadata": {
    "slideshow": {
     "slide_type": "subslide"
    }
   },
   "source": [
    "### Test it out\n",
    "\n",
    "- 2 input arrays\n",
    "- 1 output array\n",
    "- 1 million doubles (8 MB) per array\n",
    "- Total 24 MB of data"
   ]
  },
  {
   "cell_type": "code",
   "execution_count": null,
   "metadata": {
    "slideshow": {
     "slide_type": "subslide"
    }
   },
   "outputs": [
    {
     "name": "stdout",
     "output_type": "stream",
     "text": [
      "CPU vectorize correct:  True\n",
      "GPU vectorize correct:  True\n"
     ]
    }
   ],
   "source": [
    "# Generate data\n",
    "n = 1000000\n",
    "x = np.linspace(0, np.pi, n)\n",
    "y = np.linspace(0, np.pi, n)\n",
    "\n",
    "# Check result\n",
    "np_ans = np.sin(x) * np.cos(y)\n",
    "nb_cpu_ans = cpu_sincos(x, y)\n",
    "nb_gpu_ans = gpu_sincos(x, y)\n",
    "\n",
    "print(\"CPU vectorize correct: \", np.allclose(nb_cpu_ans, np_ans))\n",
    "print(\"GPU vectorize correct: \", np.allclose(nb_gpu_ans, np_ans))"
   ]
  },
  {
   "cell_type": "markdown",
   "metadata": {
    "slideshow": {
     "slide_type": "subslide"
    }
   },
   "source": [
    "## Benchmark"
   ]
  },
  {
   "cell_type": "code",
   "execution_count": null,
   "metadata": {
    "slideshow": {
     "slide_type": "fragment"
    }
   },
   "outputs": [
    {
     "name": "stdout",
     "output_type": "stream",
     "text": [
      "NumPy\n",
      "83.9 ms ± 147 µs per loop (mean ± std. dev. of 7 runs, 10 loops each)\n",
      "CPU vectorize\n",
      "109 ms ± 24.2 µs per loop (mean ± std. dev. of 7 runs, 10 loops each)\n",
      "GPU vectorize\n",
      "10.6 ms ± 20.6 µs per loop (mean ± std. dev. of 7 runs, 100 loops each)\n"
     ]
    }
   ],
   "source": [
    "print(\"NumPy\")\n",
    "%timeit np.sin(x) * np.cos(y)\n",
    "\n",
    "print(\"CPU vectorize\")\n",
    "%timeit cpu_sincos(x, y)\n",
    "\n",
    "print(\"GPU vectorize\")\n",
    "%timeit gpu_sincos(x, y)\n",
    "\n",
    "# Optional cleanup \n",
    "del x, y"
   ]
  },
  {
   "cell_type": "markdown",
   "metadata": {
    "slideshow": {
     "slide_type": "fragment"
    }
   },
   "source": [
    "- CPU vectorize time is similar to pure NumPy time because ``sin()`` and ``cos()`` calls dominate the time.\n",
    "- GPU vectorize is a lot faster\n"
   ]
  },
  {
   "cell_type": "markdown",
   "metadata": {
    "slideshow": {
     "slide_type": "subslide"
    }
   },
   "source": [
    "\n",
    "## Behind the scence\n",
    "\n"
   ]
  },
  {
   "cell_type": "markdown",
   "metadata": {
    "slideshow": {
     "slide_type": "fragment"
    }
   },
   "source": [
    "\n",
    "### Automatic memory transfer\n",
    "\n",
    "- NumPy arrays are automatically transferred\n",
    "    - CPU -> GPU\n",
    "    - GPU -> CPU"
   ]
  },
  {
   "cell_type": "markdown",
   "metadata": {
    "slideshow": {
     "slide_type": "fragment"
    }
   },
   "source": [
    "\n",
    "### Automatic work scheduling\n",
    "\n",
    "- The work is distributed the across all threads on the GPU\n",
    "- The GPU hardware handles the scheduling\n"
   ]
  },
  {
   "cell_type": "markdown",
   "metadata": {
    "slideshow": {
     "slide_type": "fragment"
    }
   },
   "source": [
    "\n",
    "### Automatic GPU memory management\n",
    "\n",
    "- GPU memory is tied to object lifetime\n",
    "- freed automatically"
   ]
  },
  {
   "cell_type": "markdown",
   "metadata": {
    "slideshow": {
     "slide_type": "slide"
    }
   },
   "source": [
    "# Generalized Universal Function (guvectorize)\n",
    "\n",
    "- Vectorize is limited to scalar arguments in the core function\n",
    "- GUVectorize accepts array arguments"
   ]
  },
  {
   "cell_type": "code",
   "execution_count": null,
   "metadata": {
    "slideshow": {
     "slide_type": "subslide"
    }
   },
   "outputs": [],
   "source": [
    "@numba.guvectorize(['void(float32[:,:], float32[:,:], float32[:,:])'],\n",
    "                      '(m, n),(n, p)->(m, p)', target='cuda')\n",
    "def batch_matrix_mult(a, b, c):\n",
    "    for i in range(c.shape[0]):\n",
    "        for j in range(c.shape[1]):\n",
    "            tmp = 0\n",
    "            for n in range(a.shape[1]):\n",
    "                 tmp += a[i, n] * b[n, j]\n",
    "            c[i, j] = tmp"
   ]
  },
  {
   "cell_type": "markdown",
   "metadata": {
    "slideshow": {
     "slide_type": "fragment"
    }
   },
   "source": [
    "```\n",
    "@numba.guvectorize(<list of function signatures>, <a string to desc the shape signature>, target=<'cpu', 'cuda'>)\n",
    "```"
   ]
  },
  {
   "cell_type": "code",
   "execution_count": null,
   "metadata": {
    "slideshow": {
     "slide_type": "subslide"
    }
   },
   "outputs": [
    {
     "name": "stdout",
     "output_type": "stream",
     "text": [
      "NumPy result\n",
      "[[ 30.  36.  42.]\n",
      " [ 66.  81.  96.]\n",
      " [102. 126. 150.]]\n",
      "Numba GPU result\n",
      "[[ 30.  36.  42.]\n",
      " [ 66.  81.  96.]\n",
      " [102. 126. 150.]]\n"
     ]
    },
    {
     "name": "stderr",
     "output_type": "stream",
     "text": [
      "/sw/arch/Debian9/EB_production/2019/software/IPython/7.2.0-foss-2018b-Python-3.6.6/lib/python3.6/site-packages/ipykernel_launcher.py:5: DeprecationWarning: numpy.core.umath_tests is an internal NumPy module and should not be imported. It will be removed in a future NumPy release.\n",
      "  \"\"\"\n"
     ]
    }
   ],
   "source": [
    "a = np.arange(1.0, 10.0, dtype=np.float32).reshape(3,3)\n",
    "b = np.arange(1.0, 10.0, dtype=np.float32).reshape(3,3)\n",
    "\n",
    "# Use the builtin matrix_multiply in NumPy for CPU test\n",
    "import numpy.core.umath_tests as ut\n",
    "\n",
    "# Check result\n",
    "print('NumPy result')\n",
    "np_ans = ut.matrix_multiply(a, b)\n",
    "print(np_ans)\n",
    "\n",
    "print('Numba GPU result')\n",
    "gpu_ans = batch_matrix_mult(a, b)\n",
    "print(gpu_ans)\n",
    "\n",
    "assert np.allclose(np_ans, gpu_ans)\n"
   ]
  },
  {
   "cell_type": "markdown",
   "metadata": {
    "slideshow": {
     "slide_type": "subslide"
    }
   },
   "source": [
    "### Test it out\n",
    "\n",
    "- batch multiply 4 million 2x2 matrices "
   ]
  },
  {
   "cell_type": "code",
   "execution_count": null,
   "metadata": {
    "slideshow": {
     "slide_type": "fragment"
    }
   },
   "outputs": [
    {
     "name": "stdout",
     "output_type": "stream",
     "text": [
      "NumPy time\n",
      "177 ms ± 2.58 ms per loop (mean ± std. dev. of 7 runs, 10 loops each)\n",
      "Numba GPU time\n",
      "115 ms ± 5.09 ms per loop (mean ± std. dev. of 7 runs, 10 loops each)\n"
     ]
    }
   ],
   "source": [
    "n = 4000000\n",
    "dim = 2\n",
    "a = np.random.random(n * dim * dim).astype(np.float32).reshape(n, dim, dim)\n",
    "b = np.random.random(n * dim * dim).astype(np.float32).reshape(n, dim, dim)\n",
    "\n",
    "print('NumPy time')\n",
    "%timeit ut.matrix_multiply(a, b)\n",
    "\n",
    "print('Numba GPU time')\n",
    "%timeit batch_matrix_mult(a, b)"
   ]
  },
  {
   "cell_type": "markdown",
   "metadata": {
    "slideshow": {
     "slide_type": "fragment"
    }
   },
   "source": [
    "- GPU time seems to be similar to CPU time\n",
    "- Let's try to profile the code"
   ]
  },
  {
   "cell_type": "code",
   "execution_count": null,
   "metadata": {},
   "outputs": [
    {
     "name": "stdout",
     "output_type": "stream",
     "text": [
      "import numba\r\n",
      "import numpy as np\r\n",
      "import numpy.core.umath_tests as ut\r\n",
      "import timeit\r\n",
      "@numba.guvectorize(['void(float32[:,:], float32[:,:], float32[:,:])'],\r\n",
      "                      '(m, n),(n, p)->(m, p)', target='cuda')\r\n",
      "def batch_matrix_mult(a, b, c):\r\n",
      "    for i in range(c.shape[0]):\r\n",
      "        for j in range(c.shape[1]):\r\n",
      "            tmp = 0\r\n",
      "            for n in range(a.shape[1]):\r\n",
      "                 tmp += a[i, n] * b[n, j]\r\n",
      "            c[i, j] = tmp\r\n",
      "\r\n",
      "\r\n",
      "n = 4000000\r\n",
      "dim = 2\r\n",
      "a = np.random.random(n * dim * dim).astype(np.float32).reshape(n, dim, dim)\r\n",
      "b = np.random.random(n * dim * dim).astype(np.float32).reshape(n, dim, dim)\r\n",
      "\r\n",
      "testcode_gpu = ''' \r\n",
      "def test_gpu(): \r\n",
      "    return batch_matrix_mult(a,b)\r\n",
      "'''\r\n",
      "\r\n",
      "print('Numba GPU time')\r\n",
      "starttime = timeit.default_timer()\r\n",
      "print(\"The start time is :\",starttime)\r\n",
      "for i in range(7):\r\n",
      "    gpu_ans = batch_matrix_mult(a,b)\r\n",
      "print(\"The time difference is :\", timeit.default_timer() - starttime)\r\n"
     ]
    }
   ],
   "source": [
    "!cat gpu_prof.py"
   ]
  },
  {
   "cell_type": "code",
   "execution_count": null,
   "metadata": {},
   "outputs": [
    {
     "name": "stdout",
     "output_type": "stream",
     "text": [
      "==23274== NVPROF is profiling process 23274, command: python gpu_prof.py\n",
      "Numba GPU time\n",
      "The start time is : 2798465.449988605\n",
      "The time difference is : 0.7944908211939037\n",
      "==23274== Profiling application: python gpu_prof.py\n",
      "==23274== Profiling result:\n",
      "            Type  Time(%)      Time     Calls       Avg       Min       Max  Name\n",
      " GPU activities:   64.98%  459.17ms         7  65.596ms  65.247ms  66.481ms  [CUDA memcpy DtoH]\n",
      "                   33.78%  238.67ms        14  17.048ms  16.424ms  20.428ms  [CUDA memcpy HtoD]\n",
      "                    1.25%  8.7997ms         7  1.2571ms  1.2520ms  1.2604ms  cudapy::__main__::__gufunc_batch_matrix_mult$242(Array<float, int=3, A, mutable, aligned>, Array<float, int=3, A, mutable, aligned>, Array<float, int=3, A, mutable, aligned>)\n",
      "      API calls:   45.57%  475.55ms         7  67.936ms  67.446ms  68.719ms  cuMemcpyDtoH\n",
      "                   26.10%  272.38ms         1  272.38ms  272.38ms  272.38ms  cuDevicePrimaryCtxRetain\n",
      "                   23.18%  241.84ms        14  17.274ms  16.646ms  20.672ms  cuMemcpyHtoD\n",
      "                    4.00%  41.788ms        21  1.9899ms  365.44us  2.1922ms  cuMemFree\n",
      "                    0.74%  7.7053ms        21  366.92us  306.61us  489.18us  cuMemAlloc\n",
      "                    0.22%  2.3159ms         1  2.3159ms  2.3159ms  2.3159ms  cuLinkAddData\n",
      "                    0.05%  508.28us         1  508.28us  508.28us  508.28us  cuMemGetInfo\n",
      "                    0.04%  368.86us         1  368.86us  368.86us  368.86us  cuModuleLoadDataEx\n",
      "                    0.03%  296.03us         7  42.289us  40.380us  47.961us  cuLaunchKernel\n",
      "                    0.03%  280.74us         1  280.74us  280.74us  280.74us  cuLinkComplete\n",
      "                    0.02%  171.31us         1  171.31us  171.31us  171.31us  cuModuleUnload\n",
      "                    0.01%  82.705us         1  82.705us  82.705us  82.705us  cuDeviceGetName\n",
      "                    0.01%  61.502us         1  61.502us  61.502us  61.502us  cuLinkCreate\n",
      "                    0.00%  49.107us        65     755ns     374ns  2.7370us  cuCtxGetCurrent\n",
      "                    0.00%  40.827us        64     637ns     339ns  9.9880us  cuCtxGetDevice\n",
      "                    0.00%  29.833us         7  4.2610us  3.9290us  4.7900us  cuOccupancyMaxPotentialBlockSize\n",
      "                    0.00%  5.2200us         1  5.2200us  5.2200us  5.2200us  cuDeviceGetPCIBusId\n",
      "                    0.00%  3.2420us         5     648ns     484ns  1.0560us  cuFuncGetAttribute\n",
      "                    0.00%  2.8530us         1  2.8530us  2.8530us  2.8530us  cuCtxPushCurrent\n",
      "                    0.00%  2.6840us         3     894ns     277ns  1.7820us  cuDeviceGetCount\n",
      "                    0.00%  1.8970us         3     632ns     576ns     698ns  cuDeviceGetAttribute\n",
      "                    0.00%  1.7800us         1  1.7800us  1.7800us  1.7800us  cuModuleGetFunction\n",
      "                    0.00%  1.7350us         2     867ns     682ns  1.0530us  cuDeviceGet\n",
      "                    0.00%  1.3840us         1  1.3840us  1.3840us  1.3840us  cuLinkDestroy\n",
      "                    0.00%     730ns         1     730ns     730ns     730ns  cuDeviceComputeCapability\n"
     ]
    }
   ],
   "source": [
    "!nvprof python gpu_prof.py"
   ]
  },
  {
   "cell_type": "markdown",
   "metadata": {
    "slideshow": {
     "slide_type": "subslide"
    }
   },
   "source": [
    "\n",
    "## Manually Transfer the data to the GPU\n",
    "\n",
    "- This will let us see the actual compute time without the CPU<->GPU transfer"
   ]
  },
  {
   "cell_type": "code",
   "execution_count": null,
   "metadata": {
    "slideshow": {
     "slide_type": "fragment"
    }
   },
   "outputs": [],
   "source": [
    "dc = numba.cuda.device_array_like(a)\n",
    "da = numba.cuda.to_device(a)\n",
    "db = numba.cuda.to_device(b)"
   ]
  },
  {
   "cell_type": "markdown",
   "metadata": {
    "slideshow": {
     "slide_type": "fragment"
    }
   },
   "source": [
    "* ```numba.cuda.device_array_like``` allocate without initialization with the type and shape of another array.\n",
    "    * similar to ```numpy.empty_like(a)```\n",
    "* ```numba.cuda.to_device``` create a GPU copy of the CPU array\n"
   ]
  },
  {
   "cell_type": "markdown",
   "metadata": {
    "slideshow": {
     "slide_type": "subslide"
    }
   },
   "source": [
    "\n",
    "## Pure compute time on the GPU"
   ]
  },
  {
   "cell_type": "code",
   "execution_count": null,
   "metadata": {
    "slideshow": {
     "slide_type": "fragment"
    }
   },
   "outputs": [
    {
     "name": "stdout",
     "output_type": "stream",
     "text": [
      "3.83 ms ± 9.12 µs per loop (mean ± std. dev. of 7 runs, 100 loops each)\n"
     ]
    }
   ],
   "source": [
    "def check_pure_compute_time(da, db, dc):\n",
    "    batch_matrix_mult(da, db, out=dc)\n",
    "    numba.cuda.synchronize()   # ensure the call has completed\n",
    "    \n",
    "%timeit check_pure_compute_time(da, db, dc)\n",
    "del da, db, dc"
   ]
  },
  {
   "cell_type": "markdown",
   "metadata": {
    "slideshow": {
     "slide_type": "fragment"
    }
   },
   "source": [
    "* Actual compute time is **a lot faster**\n",
    "* PCI-express transfer overhead"
   ]
  },
  {
   "cell_type": "markdown",
   "metadata": {
    "slideshow": {
     "slide_type": "fragment"
    }
   },
   "source": [
    "#### Tips\n",
    "If you have a sequence of ufuncs to apply, pin the data on the GPU by manual transfer"
   ]
  },
  {
   "cell_type": "markdown",
   "metadata": {
    "slideshow": {
     "slide_type": "slide"
    }
   },
   "source": [
    "-----\n",
    "\n",
    "# Low-Level Approach: @numba.cuda.jit\n",
    "\n",
    "- Numba can generate CUDA functions with the `@jit` decorator\n",
    "- Decorated function follows CUDA execution model "
   ]
  },
  {
   "cell_type": "markdown",
   "metadata": {
    "slideshow": {
     "slide_type": "subslide"
    }
   },
   "source": [
    "## CUDA Execution Model\n",
    "\n",
    "- Kernel functions\n",
    "    - visible to the host CPU\n",
    "    - cannot return any value\n",
    "        - use output argument\n",
    "    - associates to a _grid_\n",
    "- Grid\n",
    "    - a group of blocks\n",
    "    - 1D, 2D, 3D\n",
    "- Blocks\n",
    "    - a group of threads\n",
    "    - 1D, 2D, 3D  \n",
    "- Every thread executes the same kernel\n",
    "    - thread can use the grid, block, thread coordinate system to determine its ID"
   ]
  },
  {
   "cell_type": "code",
   "execution_count": null,
   "metadata": {
    "slideshow": {
     "slide_type": "subslide"
    }
   },
   "outputs": [
    {
     "data": {
      "text/html": [
       "<img src=\"https://docs.nvidia.com/cuda/cuda-c-programming-guide/graphics/grid-of-thread-blocks.png\"/>"
      ],
      "text/plain": [
       "<IPython.core.display.Image object>"
      ]
     },
     "execution_count": 30,
     "metadata": {},
     "output_type": "execute_result"
    }
   ],
   "source": [
    "Image(url=\"https://docs.nvidia.com/cuda/cuda-c-programming-guide/graphics/grid-of-thread-blocks.png\")"
   ]
  },
  {
   "cell_type": "markdown",
   "metadata": {
    "slideshow": {
     "slide_type": "subslide"
    }
   },
   "source": [
    "## Compiling a CUDA Kernel"
   ]
  },
  {
   "cell_type": "code",
   "execution_count": null,
   "metadata": {
    "slideshow": {
     "slide_type": "fragment"
    }
   },
   "outputs": [],
   "source": [
    "from numba import cuda\n",
    "\n",
    "@numba.cuda.jit(\"void(float32[:], float32[:], float32[:])\")\n",
    "def vadd(arr_a, arr_b, arr_out):\n",
    "    tx = cuda.threadIdx.x\n",
    "    bx = cuda.blockIdx.x\n",
    "    bw = cuda.blockDim.x    # number of threads per block\n",
    "    i = tx + bx * bw\n",
    "    if i >= arr_out.size:\n",
    "        return\n",
    "    arr_out[i] = arr_a[i] + arr_b[i]"
   ]
  },
  {
   "cell_type": "markdown",
   "metadata": {
    "slideshow": {
     "slide_type": "subslide"
    }
   },
   "source": [
    "### Code Explained\n",
    "\n",
    "#### Define a CUDA kernel with three 1D float32 arrays as args\n",
    "\n",
    "```\n",
    "@numba.cuda.jit(\"void(float32[:], float32[:], float32[:])\")\n",
    "def vadd(arr_a, arr_b, arr_out):\n",
    "```\n",
    "\n",
    "#### Map thread, block coordinate to global position\n",
    "```\n",
    "    tx = cuda.threadIdx.x   # thread label (along x dimension)\n",
    "    bx = cuda.blockIdx.x    # block label (along x dimension)\n",
    "    bw = cuda.blockDim.x    # number of threads in each block (along x dimension)\n",
    "    i = tx + bx * bw        # flattened linear address for each thread\n",
    "```\n",
    "or simplified to:\n",
    "```\n",
    "    i = cuda.grid(1)\n",
    "``` \n",
    "\n",
    "#### Ensure global position is within array size\n",
    "\n",
    "```\n",
    "    if i >= arr_out.size:\n",
    "        return\n",
    "```\n",
    "\n",
    "#### The actual work\n",
    "\n",
    "```\n",
    "    arr_out[i] = arr_a[i] + arr_b[i]\n",
    "```"
   ]
  },
  {
   "cell_type": "markdown",
   "metadata": {
    "slideshow": {
     "slide_type": "subslide"
    }
   },
   "source": [
    "## Launch kernel"
   ]
  },
  {
   "cell_type": "markdown",
   "metadata": {
    "slideshow": {
     "slide_type": "fragment"
    }
   },
   "source": [
    "#### Prepare data"
   ]
  },
  {
   "cell_type": "code",
   "execution_count": null,
   "metadata": {
    "slideshow": {
     "slide_type": "fragment"
    }
   },
   "outputs": [],
   "source": [
    "n = 100\n",
    "a = np.arange(n, dtype=np.float32)\n",
    "b = np.arange(n, dtype=np.float32)\n",
    "c = np.empty_like(a)                 # Must prepare the output array to hold the result\n"
   ]
  },
  {
   "cell_type": "markdown",
   "metadata": {
    "slideshow": {
     "slide_type": "subslide"
    }
   },
   "source": [
    "#### Calculate thread, block count\n",
    "\n",
    "- thread count is set to **warp size** of the GPU\n",
    "    - Warp size is similar to SIMD vector width on the CPU\n",
    "    - **performance tips**: set thread count to multiple of warp size\n",
    "- block count is ceil(n/thread_ct)\n",
    "\n",
    "**Note:**\n",
    "This will launch more threads than there are elements in the array"
   ]
  },
  {
   "cell_type": "code",
   "execution_count": null,
   "metadata": {
    "slideshow": {
     "slide_type": "fragment"
    }
   },
   "outputs": [],
   "source": [
    "thread_ct = my_gpu.WARP_SIZE\n",
    "block_ct = int(math.ceil(float(n) / thread_ct))\n",
    "\n",
    "print(\"Threads per block:\", thread_ct)\n",
    "print(\"Block per grid:\", block_ct)"
   ]
  },
  {
   "cell_type": "markdown",
   "metadata": {
    "slideshow": {
     "slide_type": "subslide"
    }
   },
   "source": [
    "#### Launch kernel\n",
    "\n",
    "Kernel function object uses the ``__getitem__`` (indexing notation) to configure the grid and block dimensions.\n",
    "\n",
    "```\n",
    "    kernel_function[griddim, blockdim](*args)\n",
    "```\n",
    "\n",
    "- **griddim**\n",
    "    - Number of blocks per grid (grid dimension)\n",
    "    - type: int for 1d or 1,2,3-tuple of ints for 1d, 2d, or 3d respectively\n",
    "\n",
    "- **blockdim**: \n",
    "    - Number of threads per block (blockdim dimension)\n",
    "    - type: int for 1d or 1,2,3-tuple of ints for 1d, 2d, or 3d respectively\n"
   ]
  },
  {
   "cell_type": "code",
   "execution_count": null,
   "metadata": {
    "slideshow": {
     "slide_type": "fragment"
    }
   },
   "outputs": [],
   "source": [
    "vadd[block_ct, thread_ct](a, b, c)    # Last argument is the output array in this case\n",
    "print(c)"
   ]
  },
  {
   "cell_type": "markdown",
   "metadata": {
    "slideshow": {
     "slide_type": "subslide"
    }
   },
   "source": [
    "# Example: Matrix Matrix Multiplication\n",
    "\n",
    "- Show manual caching with shared memory\n",
    "- Not the best matrix matrix multiplication implementation"
   ]
  },
  {
   "cell_type": "markdown",
   "metadata": {
    "slideshow": {
     "slide_type": "subslide"
    }
   },
   "source": [
    "#### Prepare constants"
   ]
  },
  {
   "cell_type": "code",
   "execution_count": null,
   "metadata": {
    "slideshow": {
     "slide_type": "fragment"
    }
   },
   "outputs": [],
   "source": [
    "from numba import float32\n",
    "\n",
    "bpg = 150\n",
    "tpb = 32\n",
    "n = bpg * tpb\n",
    "shared_mem_size = (tpb, tpb)\n",
    "griddim = bpg, bpg\n",
    "blockdim = tpb, tpb"
   ]
  },
  {
   "cell_type": "markdown",
   "metadata": {
    "slideshow": {
     "slide_type": "subslide"
    }
   },
   "source": [
    "#### Naive version"
   ]
  },
  {
   "cell_type": "code",
   "execution_count": null,
   "metadata": {
    "slideshow": {
     "slide_type": "fragment"
    }
   },
   "outputs": [],
   "source": [
    "Image(url=\"https://docs.nvidia.com/cuda/cuda-c-programming-guide/graphics/matrix-multiplication-without-shared-memory.png\")"
   ]
  },
  {
   "cell_type": "code",
   "execution_count": null,
   "metadata": {
    "slideshow": {
     "slide_type": "subslide"
    }
   },
   "outputs": [],
   "source": [
    "@numba.cuda.jit(\"void(float32[:,:], float32[:,:], float32[:,:])\")\n",
    "def naive_matrix_mult(A, B, C):\n",
    "    x, y = cuda.grid(2)\n",
    "    if x >= n or y >= n:\n",
    "        return\n",
    "\n",
    "    C[y, x] = 0\n",
    "    for i in range(n):\n",
    "        C[y, x] += A[y, i] * B[i, x]\n"
   ]
  },
  {
   "cell_type": "markdown",
   "metadata": {
    "slideshow": {
     "slide_type": "subslide"
    }
   },
   "source": [
    "#### Optimized version (shared memory + blocking)"
   ]
  },
  {
   "cell_type": "code",
   "execution_count": null,
   "metadata": {
    "slideshow": {
     "slide_type": "fragment"
    }
   },
   "outputs": [],
   "source": [
    "Image(url=\"https://docs.nvidia.com/cuda/cuda-c-programming-guide/graphics/matrix-multiplication-with-shared-memory.png\")"
   ]
  },
  {
   "cell_type": "code",
   "execution_count": null,
   "metadata": {
    "slideshow": {
     "slide_type": "subslide"
    }
   },
   "outputs": [],
   "source": [
    "@numba.cuda.jit(\"void(float32[:,:], float32[:,:], float32[:,:])\")\n",
    "def optimized_matrix_mult(A, B, C):\n",
    "    # Declare shared memory\n",
    "    sA = cuda.shared.array(shape=shared_mem_size, dtype=float32)\n",
    "    sB = cuda.shared.array(shape=shared_mem_size, dtype=float32)\n",
    "    \n",
    "    tx = cuda.threadIdx.x\n",
    "    ty = cuda.threadIdx.y\n",
    "    x, y = cuda.grid(2)\n",
    "\n",
    "    acc = 0\n",
    "    for i in range(bpg):\n",
    "        if x < n and y < n:\n",
    "            # Prefill cache\n",
    "            sA[ty, tx] = A[y, tx + i * tpb]\n",
    "            sB[ty, tx] = B[ty + i * tpb, x]\n",
    "\n",
    "        # Synchronize all threads in the block\n",
    "        cuda.syncthreads()\n",
    "\n",
    "        if x < n and y < n:\n",
    "            # Compute product\n",
    "            for j in range(tpb):\n",
    "                acc += sA[ty, j] * sB[j, tx]\n",
    "\n",
    "        # Wait until all threads finish the computation\n",
    "        cuda.syncthreads()\n",
    "\n",
    "    if x < n and y < n:\n",
    "        C[y, x] = acc"
   ]
  },
  {
   "cell_type": "markdown",
   "metadata": {
    "slideshow": {
     "slide_type": "subslide"
    }
   },
   "source": [
    "#### Prepare data"
   ]
  },
  {
   "cell_type": "code",
   "execution_count": null,
   "metadata": {
    "slideshow": {
     "slide_type": "fragment"
    }
   },
   "outputs": [],
   "source": [
    "# Prepare data on the CPU\n",
    "A = np.array(np.random.random((n, n)), dtype=np.float32)\n",
    "B = np.array(np.random.random((n, n)), dtype=np.float32)\n",
    "\n",
    "print(\"N = %d x %d\" % (n, n))\n",
    "\n",
    "# Prepare data on the GPU\n",
    "dA = cuda.to_device(A)\n",
    "dB = cuda.to_device(B)\n",
    "dC = cuda.device_array_like(A)"
   ]
  },
  {
   "cell_type": "markdown",
   "metadata": {
    "slideshow": {
     "slide_type": "subslide"
    }
   },
   "source": [
    "#### Benchmark"
   ]
  },
  {
   "cell_type": "code",
   "execution_count": null,
   "metadata": {
    "slideshow": {
     "slide_type": "fragment"
    }
   },
   "outputs": [],
   "source": [
    "# Time the naive version\n",
    "import time\n",
    "s = time.time()\n",
    "naive_matrix_mult[griddim, blockdim](dA, dB, dC)\n",
    "numba.cuda.synchronize()\n",
    "e = time.time()\n",
    "unopt_ans = dC.copy_to_host()\n",
    "tcuda_unopt = e - s\n",
    "\n",
    "# Time the optimized version\n",
    "s = time.time()\n",
    "optimized_matrix_mult[griddim, blockdim](dA, dB, dC)\n",
    "numba.cuda.synchronize()\n",
    "e = time.time()\n",
    "opt_ans = dC.copy_to_host()\n",
    "tcuda_opt = e - s"
   ]
  },
  {
   "cell_type": "markdown",
   "metadata": {
    "slideshow": {
     "slide_type": "subslide"
    }
   },
   "source": [
    "#### Result"
   ]
  },
  {
   "cell_type": "code",
   "execution_count": null,
   "metadata": {
    "slideshow": {
     "slide_type": "fragment"
    }
   },
   "outputs": [],
   "source": [
    "#assert np.allclose(unopt_ans, opt_ans)\n",
    "print(\"Without shared memory:\", \"%.2f\" % tcuda_unopt, \"s\")\n",
    "print(\"With shared memory:\", \"%.2f\" % tcuda_opt, \"s\")"
   ]
  },
  {
   "cell_type": "markdown",
   "metadata": {
    "slideshow": {
     "slide_type": "slide"
    }
   },
   "source": [
    "# Summary\n",
    "\n",
    "- Numba\n",
    "    - opensource low-level GPU support\n",
    "    - CUDA kernel ``@numba.cuda.jit``\n",
    "    - vectorize ``@numba.vectorize``\n",
    "    - guvectorize ``@numba.guvectorize``\n",
    "    - profiling numba code\n"
   ]
  },
  {
   "cell_type": "code",
   "execution_count": null,
   "metadata": {},
   "outputs": [],
   "source": []
  }
 ],
 "metadata": {
  "kernelspec": {
   "display_name": "Python 3",
   "language": "python",
   "name": "python3"
  }
 },
 "nbformat": 4,
 "nbformat_minor": 1
}
